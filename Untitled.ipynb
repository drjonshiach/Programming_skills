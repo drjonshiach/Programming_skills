{
 "cells": [
  {
   "cell_type": "markdown",
   "metadata": {},
   "source": [
    "# Symbolic mathematics"
   ]
  },
  {
   "cell_type": "markdown",
   "metadata": {},
   "source": [
    "## Algebra\n",
    "\n",
    "### Symbolic variables\n",
    "\n",
    "##### Example 1\n",
    "\n",
    "```\n",
    "import sympy\n",
    "x = sympy.Symbol('x')\n",
    "```"
   ]
  },
  {
   "cell_type": "code",
   "execution_count": 1,
   "metadata": {},
   "outputs": [
    {
     "data": {
      "text/latex": [
       "$\\displaystyle x$"
      ],
      "text/plain": [
       "x"
      ]
     },
     "execution_count": 1,
     "metadata": {},
     "output_type": "execute_result"
    }
   ],
   "source": [
    "from sympy import *\n",
    "x = symbols('x')\n",
    "x"
   ]
  },
  {
   "cell_type": "markdown",
   "metadata": {},
   "source": [
    "### Expanding expressions \n",
    "\n",
    "##### Example 2\n"
   ]
  },
  {
   "cell_type": "code",
   "execution_count": 2,
   "metadata": {},
   "outputs": [
    {
     "data": {
      "text/latex": [
       "$\\displaystyle x^{4} + 4 x^{3} y + 6 x^{2} y^{2} + 4 x y^{3} + y^{4}$"
      ],
      "text/plain": [
       "x**4 + 4*x**3*y + 6*x**2*y**2 + 4*x*y**3 + y**4"
      ]
     },
     "execution_count": 2,
     "metadata": {},
     "output_type": "execute_result"
    }
   ],
   "source": [
    "x, y = symbols('x y')\n",
    "expr = (x + y)**4\n",
    "expand(expr)"
   ]
  },
  {
   "cell_type": "markdown",
   "metadata": {},
   "source": [
    "### Factoring expressions\n",
    "\n",
    "##### Example 3\n"
   ]
  },
  {
   "cell_type": "code",
   "execution_count": 3,
   "metadata": {},
   "outputs": [
    {
     "data": {
      "text/latex": [
       "$\\displaystyle \\left(x - 1\\right)^{3}$"
      ],
      "text/plain": [
       "(x - 1)**3"
      ]
     },
     "execution_count": 3,
     "metadata": {},
     "output_type": "execute_result"
    }
   ],
   "source": [
    "x = symbols('x')\n",
    "expr = x**3 - 3*x**2 + 3*x - 1\n",
    "factor(expr)"
   ]
  },
  {
   "cell_type": "markdown",
   "metadata": {},
   "source": [
    "### Partial fractions\n",
    "\n",
    "##### Example 4"
   ]
  },
  {
   "cell_type": "code",
   "execution_count": 4,
   "metadata": {},
   "outputs": [
    {
     "data": {
      "text/latex": [
       "$\\displaystyle - \\frac{5}{9 \\left(x + 2\\right)} + \\frac{5}{9 \\left(x - 1\\right)} + \\frac{4}{3 \\left(x - 1\\right)^{2}}$"
      ],
      "text/plain": [
       "-5/(9*(x + 2)) + 5/(9*(x - 1)) + 4/(3*(x - 1)**2)"
      ]
     },
     "execution_count": 4,
     "metadata": {},
     "output_type": "execute_result"
    }
   ],
   "source": [
    "x = symbols('x')\n",
    "expr = (3*x + 1)/(x**3 - 3*x + 2)\n",
    "apart(expr)"
   ]
  },
  {
   "cell_type": "markdown",
   "metadata": {},
   "source": [
    "---\n",
    "## Exercise 1\n",
    "1. Use the `expand` command to expand the following expressions:\n",
    "\n",
    "&emsp;&emsp; (a) $(x+2)^2$;"
   ]
  },
  {
   "cell_type": "code",
   "execution_count": null,
   "metadata": {},
   "outputs": [],
   "source": []
  },
  {
   "cell_type": "markdown",
   "metadata": {},
   "source": [
    "&emsp;&emsp; (b) $(x+1)(ax^2 + aby+cxy)$;"
   ]
  },
  {
   "cell_type": "code",
   "execution_count": null,
   "metadata": {},
   "outputs": [],
   "source": []
  },
  {
   "cell_type": "markdown",
   "metadata": {},
   "source": [
    "&emsp;&emsp; (c) $(x + y + z)^3$;"
   ]
  },
  {
   "cell_type": "code",
   "execution_count": null,
   "metadata": {},
   "outputs": [],
   "source": []
  },
  {
   "cell_type": "markdown",
   "metadata": {},
   "source": [
    "2. Use the `factor` command to factor the following expressions\n",
    "\n",
    "&emsp;&emsp; (a) $x^3 + 4x^2 + 4x$;"
   ]
  },
  {
   "cell_type": "code",
   "execution_count": null,
   "metadata": {},
   "outputs": [],
   "source": []
  },
  {
   "cell_type": "markdown",
   "metadata": {},
   "source": [
    "&emsp;&emsp; (b) $x^4 - 12x^3 + 54x^2 - 108x + 81$;"
   ]
  },
  {
   "cell_type": "code",
   "execution_count": null,
   "metadata": {},
   "outputs": [],
   "source": []
  },
  {
   "cell_type": "markdown",
   "metadata": {},
   "source": [
    "&emsp;&emsp; (c) $\\dfrac{2x}{x^2-4x+4} + \\dfrac{1}{x^2 - 4x + 4} + \\dfrac{x^2}{x^2 - 4x + 4}$;"
   ]
  },
  {
   "cell_type": "code",
   "execution_count": 5,
   "metadata": {},
   "outputs": [
    {
     "data": {
      "text/latex": [
       "$\\displaystyle \\frac{\\left(x + 1\\right)^{2}}{\\left(x - 2\\right)^{2}}$"
      ],
      "text/plain": [
       "(x + 1)**2/(x - 2)**2"
      ]
     },
     "execution_count": 5,
     "metadata": {},
     "output_type": "execute_result"
    }
   ],
   "source": [
    "x = symbols('x')\n",
    "expr = 2*x/(x**2 - 4*x + 4) + 1/(x**2 - 4*x + 4) + x**2/(x**2 - 4*x + 4)\n",
    "factor(expr)"
   ]
  },
  {
   "cell_type": "markdown",
   "metadata": {},
   "source": [
    "3. Obtain the partial fraction expansions of the following rational function expressions.\n",
    "\n",
    "&emsp;&emsp; (a) $\\dfrac{13t-23}{2(3t-1)(t-3)}$;"
   ]
  },
  {
   "cell_type": "code",
   "execution_count": 14,
   "metadata": {},
   "outputs": [
    {
     "data": {
      "text/latex": [
       "$\\displaystyle \\frac{7}{2 \\left(3 t - 1\\right)} + \\frac{1}{t - 3}$"
      ],
      "text/plain": [
       "7/(2*(3*t - 1)) + 1/(t - 3)"
      ]
     },
     "execution_count": 14,
     "metadata": {},
     "output_type": "execute_result"
    }
   ],
   "source": [
    "t = symbols('t')\n",
    "apart((13*t - 23)/(2*(3*t - 1)*(t - 3)))"
   ]
  },
  {
   "cell_type": "markdown",
   "metadata": {},
   "source": [
    "&emsp;&emsp; (b) $-\\dfrac{9t^2 + 10t + 15}{3(t^2 + 1)(3t - 5)}$;"
   ]
  },
  {
   "cell_type": "code",
   "execution_count": 16,
   "metadata": {},
   "outputs": [
    {
     "data": {
      "text/latex": [
       "$\\displaystyle \\frac{2 t}{3 \\left(t^{2} + 1\\right)} - \\frac{5}{3 t - 5}$"
      ],
      "text/plain": [
       "2*t/(3*(t**2 + 1)) - 5/(3*t - 5)"
      ]
     },
     "execution_count": 16,
     "metadata": {},
     "output_type": "execute_result"
    }
   ],
   "source": [
    "t = symbols('t')\n",
    "apart(-(9*t**2 + 10*t + 15)/(3*(t**2 + 1)*(3*t - 5)))"
   ]
  },
  {
   "cell_type": "markdown",
   "metadata": {},
   "source": [
    "&emsp; &emsp; (c) $\\dfrac{2t^2-11t+14}{(5t-4)(t+1)^2}$;"
   ]
  },
  {
   "cell_type": "code",
   "execution_count": 18,
   "metadata": {},
   "outputs": [
    {
     "data": {
      "text/latex": [
       "$\\displaystyle \\frac{2}{5 t - 4} - \\frac{3}{\\left(t + 1\\right)^{2}}$"
      ],
      "text/plain": [
       "2/(5*t - 4) - 3/(t + 1)**2"
      ]
     },
     "execution_count": 18,
     "metadata": {},
     "output_type": "execute_result"
    }
   ],
   "source": [
    "t = symbols('t')\n",
    "apart((2*t**2 - 11*t + 14)/((5*t - 4)*(t + 1)**2))"
   ]
  },
  {
   "cell_type": "markdown",
   "metadata": {},
   "source": [
    "&emsp; &emsp; (d) $-\\dfrac{25t+14}{(2t^2 + 5t + 5)(t - 4)}$."
   ]
  },
  {
   "cell_type": "code",
   "execution_count": 20,
   "metadata": {},
   "outputs": [
    {
     "data": {
      "text/latex": [
       "$\\displaystyle \\frac{4 t + 1}{2 t^{2} + 5 t + 5} - \\frac{2}{t - 4}$"
      ],
      "text/plain": [
       "(4*t + 1)/(2*t**2 + 5*t + 5) - 2/(t - 4)"
      ]
     },
     "execution_count": 20,
     "metadata": {},
     "output_type": "execute_result"
    }
   ],
   "source": [
    "t = symbols('t')\n",
    "apart(-(25*t + 14)/((2*t**2 + 5*t + 5)*(t-4)))"
   ]
  },
  {
   "cell_type": "markdown",
   "metadata": {},
   "source": [
    "---\n",
    "#"
   ]
  }
 ],
 "metadata": {
  "kernelspec": {
   "display_name": "Python 3",
   "language": "python",
   "name": "python3"
  },
  "language_info": {
   "codemirror_mode": {
    "name": "ipython",
    "version": 3
   },
   "file_extension": ".py",
   "mimetype": "text/x-python",
   "name": "python",
   "nbconvert_exporter": "python",
   "pygments_lexer": "ipython3",
   "version": "3.7.4"
  }
 },
 "nbformat": 4,
 "nbformat_minor": 2
}
