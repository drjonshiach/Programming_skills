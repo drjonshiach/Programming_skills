{
 "cells": [
  {
   "cell_type": "markdown",
   "metadata": {},
   "source": [
    "# Python Programming"
   ]
  },
  {
   "cell_type": "markdown",
   "metadata": {},
   "source": [
    "## Arrays\n",
    "\n",
    "In mathematics, vectors can be expressed as either a row or column of elements and matrices are a rectangular array of elements. An individual element in a vector is identified by an index denoted using a subscript, e.g., $a_i$. The index is the position of the element in the vector starting at 1 for the first element. An individual element in a matrix is identified by two indices denoted in a subscript, e.g., $[A]_{ij}$, the first number corresponding to the row number and the second number corresponding to the column number.\n",
    "\n",
    "$$\n",
    "  \\mathbf{a}  = \\begin{pmatrix} a_1, & a_2, & \\cdots & a_n \\end{pmatrix}, \\qquad\n",
    "  \\mathbf{b}  = \\begin{pmatrix} b_1 \\\\ b_2 \\\\ \\vdots \\\\ b_n \\end{pmatrix}, \\qquad\n",
    "  A           = \\begin{pmatrix}\n",
    "            a_{11} & a_{12} & \\cdots & a_{1n} \\\\\n",
    "            a_{21} & a_{22} & \\cdots & a_{2n} \\\\\n",
    "            \\vdots & \\vdots & \\ddots & \\vdots \\\\\n",
    "            a_{m1} & a_{m2} & \\cdots & a_{mn}\n",
    "          \\end{pmatrix}.\n",
    "$$\n",
    "\n",
    "In computer programming, a vector or matrix is represented using an **array**. Arrays can be one-dimensional where they contain a single row or column of elements, similar to a vector, or two-dimensional array similar to a matrix. It is possible to have higher dimensional arrays but this is not recommended as it can over complicate a program."
   ]
  },
  {
   "cell_type": "markdown",
   "metadata": {},
   "source": [
    "### Numpy\n",
    "\n",
    "Before we can define arrays in Python we can use the `numpy` library. A library is a collection of commands and functions which we can use by importing the library into your program. The `numpy` library has been designed for scientific computing and contains many commands and functions that are commonly used in mathematics (https://numpy.org/doc/1.18/reference/)\n",
    "\n",
    "To import `numpy` include the following command in your program."
   ]
  },
  {
   "cell_type": "code",
   "execution_count": 3,
   "metadata": {
    "editable": false
   },
   "outputs": [],
   "source": [
    "import numpy as np"
   ]
  },
  {
   "cell_type": "markdown",
   "metadata": {},
   "source": [
    "The use of this command means we can call the commands from `numpy` using the precursor `np.`"
   ]
  },
  {
   "cell_type": "markdown",
   "metadata": {},
   "source": [
    "### Defining arrays\n",
    "\n",
    "To define a one-dimensional array in Python we can use the `np.array()` command."
   ]
  },
  {
   "cell_type": "code",
   "execution_count": 4,
   "metadata": {},
   "outputs": [],
   "source": [
    "A = np.array([1, 2, 3])"
   ]
  },
  {
   "cell_type": "markdown",
   "metadata": {},
   "source": [
    "To display the array `A` we can use the `print()` command."
   ]
  },
  {
   "cell_type": "code",
   "execution_count": 6,
   "metadata": {},
   "outputs": [
    {
     "name": "stdout",
     "output_type": "stream",
     "text": [
      "[1 2 3]\n"
     ]
    }
   ],
   "source": [
    "print(A)"
   ]
  },
  {
   "cell_type": "markdown",
   "metadata": {},
   "source": [
    "Note that the elements in the row vector are contained within square bracket and elements are separated using commas. To define a two-dimensional array (i.e., a matrix) we input multiple row vectors separated by commas."
   ]
  },
  {
   "cell_type": "code",
   "execution_count": 7,
   "metadata": {},
   "outputs": [
    {
     "name": "stdout",
     "output_type": "stream",
     "text": [
      "[[1 2 3]\n",
      " [4 5 6]]\n"
     ]
    }
   ],
   "source": [
    "A = np.array([[1, 2, 3], [4, 5, 6]])\n",
    "print(A)"
   ]
  },
  {
   "cell_type": "markdown",
   "metadata": {},
   "source": [
    "##### Exercise 1\n",
    "\n",
    "Define arrays in python corresponding to the following vectors and matrices and display them using the `print()` command.\n",
    "\n",
    "(a) $\\mathbf{a} = (1, 3, 5, 7)$"
   ]
  },
  {
   "cell_type": "code",
   "execution_count": 0,
   "metadata": {
    "deletable": false
   },
   "outputs": [],
   "source": []
  },
  {
   "cell_type": "markdown",
   "metadata": {},
   "source": [
    "(b) $B = \\begin{pmatrix} 1 & -2 \\\\ 0 & 5 \\end{pmatrix}$;"
   ]
  },
  {
   "cell_type": "code",
   "execution_count": 0,
   "metadata": {
    "deletable": false
   },
   "outputs": [],
   "source": []
  },
  {
   "cell_type": "markdown",
   "metadata": {},
   "source": [
    "(c) $\\mathbf{c}  = \\begin{pmatrix} 2 \\\\ -4 \\\\ 5 \\end{pmatrix}$;"
   ]
  },
  {
   "cell_type": "code",
   "execution_count": 0,
   "metadata": {
    "deletable": false
   },
   "outputs": [],
   "source": []
  },
  {
   "cell_type": "markdown",
   "metadata": {},
   "source": [
    "(d) $D = \\begin{pmatrix} 1 & 0 & 7 \\\\ 4 & 7 & 5 \\end{pmatrix}$."
   ]
  },
  {
   "cell_type": "code",
   "execution_count": 0,
   "metadata": {
    "deletable": false
   },
   "outputs": [],
   "source": []
  },
  {
   "cell_type": "markdown",
   "metadata": {},
   "source": [
    "### Indexing arrays\n",
    "\n",
    "In Python, the elements of an array are indexed by their position starting at 0 for the first element (note this is different from MATLAB that uses 1 for the first element). The index is written in square brackets following the array name, for example to index the $i$th element of the array `A`\n",
    "\n",
    "`A[i]`\n",
    "\n",
    "For two-dimensional arrays, the indices of an element are separated by a commas, for exmaple to index the element in row $i$ and column $j$ of the array `A`\n",
    "\n",
    "`A[i,j]`"
   ]
  },
  {
   "cell_type": "markdown",
   "metadata": {},
   "source": [
    "##### Exercise 2\n",
    "Using the arrays you defined in exercise 1 and the `print()` command to output the values of (remember that arrays are indexed starting from zero):\n",
    "\n",
    "(a) $a_1$;"
   ]
  },
  {
   "cell_type": "code",
   "execution_count": 0,
   "metadata": {
    "deletable": false
   },
   "outputs": [],
   "source": []
  },
  {
   "cell_type": "markdown",
   "metadata": {},
   "source": [
    "(b) $[B]_{21}$."
   ]
  },
  {
   "cell_type": "code",
   "execution_count": 0,
   "metadata": {
    "deletable": false
   },
   "outputs": [],
   "source": []
  },
  {
   "cell_type": "markdown",
   "metadata": {},
   "source": [
    "### Indexing whole rows or columns\n",
    "\n",
    "Whole rows or columns of an array can be indexed using a colon `:` in place of the row or column index. For example to index the $i$th row and $j$th column of `A`\n",
    "\n",
    "`A[i,:]`\n",
    "\n",
    "`A[:,j]`"
   ]
  },
  {
   "cell_type": "markdown",
   "metadata": {},
   "source": [
    "##### Exercise 3\n",
    "\n",
    "Using the arrays you defined in exercise 1 and the `print()` command output:\n",
    "\n",
    "(a) the second row of $B$;"
   ]
  },
  {
   "cell_type": "code",
   "execution_count": null,
   "metadata": {
    "deletable": false
   },
   "outputs": [],
   "source": [
    "\n"
   ]
  },
  {
   "cell_type": "markdown",
   "metadata": {},
   "source": [
    "(b) the third column of $D$."
   ]
  },
  {
   "cell_type": "code",
   "execution_count": 0,
   "metadata": {
    "deletable": false
   },
   "outputs": [],
   "source": []
  },
  {
   "cell_type": "markdown",
   "metadata": {},
   "source": [
    "Note that Python returned a $1\\times 2$ array of values for the third column of $D$ instead of a $2\\times 1$ array. Python always prints one-dimensional arrays as a row vector unless otherwise stated."
   ]
  },
  {
   "cell_type": "markdown",
   "metadata": {},
   "source": [
    "### Generating special arrays\n",
    "\n",
    "The `numpy` library has some commands that can be used to generate special arrays. To generate an array containing all zeros or all ones we can use the following commands:\n",
    "\n",
    "`np.zeros()`\n",
    "\n",
    "`np.ones()`\n",
    "\n",
    "where the number of elements in the row and columns is given by a tuple within the brackets, e.g., `np.zeros(3)` or `np.zeros((3, 2))`."
   ]
  },
  {
   "cell_type": "code",
   "execution_count": 13,
   "metadata": {
    "scrolled": true
   },
   "outputs": [
    {
     "name": "stdout",
     "output_type": "stream",
     "text": [
      "[0. 0. 0.]\n"
     ]
    }
   ],
   "source": [
    "A = np.zeros(3)\n",
    "print(A)"
   ]
  },
  {
   "cell_type": "code",
   "execution_count": 14,
   "metadata": {
    "scrolled": true
   },
   "outputs": [
    {
     "name": "stdout",
     "output_type": "stream",
     "text": [
      "[[1. 1.]\n",
      " [1. 1.]\n",
      " [1. 1.]]\n"
     ]
    }
   ],
   "source": [
    "A = np.ones((3, 2))\n",
    "print(A)"
   ]
  },
  {
   "cell_type": "markdown",
   "metadata": {},
   "source": [
    "To generate an identity matrix we can use the command `np.eye()` and to generate an array of random numbers in the range $[0,1]$ we can use the `np.random.rand()` command."
   ]
  },
  {
   "cell_type": "markdown",
   "metadata": {},
   "source": [
    "##### Exercise 4\n",
    "Use `numpy` commands to generate the following arrays:\n",
    "    \n",
    "(a) A $1\\times 5$ array of zeros;"
   ]
  },
  {
   "cell_type": "code",
   "execution_count": null,
   "metadata": {
    "collapsed": true
   },
   "outputs": [],
   "source": []
  },
  {
   "cell_type": "markdown",
   "metadata": {},
   "source": [
    "(b) a $3\\times 2$ array of ones;"
   ]
  },
  {
   "cell_type": "code",
   "execution_count": null,
   "metadata": {
    "collapsed": true
   },
   "outputs": [],
   "source": []
  },
  {
   "cell_type": "markdown",
   "metadata": {},
   "source": [
    "(c) a $2\\times 2$ array containing random numbers between 0 and 1;"
   ]
  },
  {
   "cell_type": "code",
   "execution_count": null,
   "metadata": {
    "collapsed": true
   },
   "outputs": [],
   "source": []
  },
  {
   "cell_type": "markdown",
   "metadata": {},
   "source": [
    "(d) a $3\\times 3$ identity matrix."
   ]
  },
  {
   "cell_type": "code",
   "execution_count": null,
   "metadata": {
    "collapsed": true
   },
   "outputs": [],
   "source": []
  },
  {
   "cell_type": "markdown",
   "metadata": {},
   "source": [
    "### Sequences of numbers\n",
    "\n",
    "A one-dimensional array containing a sequence of numbers can be generated using the `np.arange()` command.\n",
    "\n",
    "`np.arange(end)`\n",
    "\n",
    "This will generate an array containing integer numbers from 0 to `end-1`. For other sequences we can use\n",
    "\n",
    "`np.arange(start, end, increment)`\n",
    "\n",
    "This will generate an array of numbers starting at `start` and finishing at `end-1` where the difference between each number is `increment`. When `increment` isn't specified Python will assume an increment of 1."
   ]
  },
  {
   "cell_type": "code",
   "execution_count": 15,
   "metadata": {},
   "outputs": [
    {
     "name": "stdout",
     "output_type": "stream",
     "text": [
      "[0 1 2 3 4 5 6 7 8 9]\n"
     ]
    }
   ],
   "source": [
    "print(np.arange(10))"
   ]
  },
  {
   "cell_type": "code",
   "execution_count": 16,
   "metadata": {},
   "outputs": [
    {
     "name": "stdout",
     "output_type": "stream",
     "text": [
      "[2 3 4 5]\n"
     ]
    }
   ],
   "source": [
    "print(np.arange(2, 6))"
   ]
  },
  {
   "cell_type": "code",
   "execution_count": 21,
   "metadata": {},
   "outputs": [
    {
     "name": "stdout",
     "output_type": "stream",
     "text": [
      "[1 3 5 7]\n"
     ]
    }
   ],
   "source": [
    "print(np.arange(1, 9, 2))"
   ]
  },
  {
   "cell_type": "markdown",
   "metadata": {},
   "source": [
    "##### Exercise 5\n",
    "Use the `np.arange()` and `print()` commands to display:\n",
    "\n",
    "(a) an array containing a list of whole numbers from 0 to 5;"
   ]
  },
  {
   "cell_type": "code",
   "execution_count": 0,
   "metadata": {
    "deletable": false
   },
   "outputs": [],
   "source": []
  },
  {
   "cell_type": "markdown",
   "metadata": {},
   "source": [
    "(b) an array containing a list of numbers from 1 to 10 in increments of 3;"
   ]
  },
  {
   "cell_type": "code",
   "execution_count": 0,
   "metadata": {
    "deletable": false
   },
   "outputs": [],
   "source": []
  },
  {
   "cell_type": "markdown",
   "metadata": {},
   "source": [
    "(c) an array containing a list of even numbers from 8 to 0."
   ]
  },
  {
   "cell_type": "code",
   "execution_count": 0,
   "metadata": {
    "deletable": false
   },
   "outputs": [],
   "source": []
  },
  {
   "cell_type": "markdown",
   "metadata": {},
   "source": [
    "## Matrix and array operations\n",
    "\n",
    "### Addition or subraction of arrays\n",
    "\n",
    "The addition or subraction of two arrays `A` and `B` is achieved using the standard `+` and `-` symbols. \n",
    "\n",
    "`A + B`\n",
    "\n",
    "`A - B`\n",
    "\n",
    "If `A` and `B` are of different sizes then Python will return an error.\n",
    "\n"
   ]
  },
  {
   "cell_type": "code",
   "execution_count": 27,
   "metadata": {},
   "outputs": [
    {
     "name": "stdout",
     "output_type": "stream",
     "text": [
      "[5 7 9]\n"
     ]
    }
   ],
   "source": [
    "A = np.array([1, 2, 3])\n",
    "B = np.array([4, 5, 6])\n",
    "print(A + B)"
   ]
  },
  {
   "cell_type": "markdown",
   "metadata": {},
   "source": [
    "### Scalar multiplication\n",
    "\n",
    "Scalar multiplication of an array `A` by a scalar quantity `k` is achieved using the `*` symbol (note that this is different from MATLAB where `*` is used to denote matrix multiplication). \n",
    "\n",
    "`k*A`"
   ]
  },
  {
   "cell_type": "code",
   "execution_count": 32,
   "metadata": {},
   "outputs": [
    {
     "name": "stdout",
     "output_type": "stream",
     "text": [
      "[[ 2  4  6]\n",
      " [ 8 10 12]]\n"
     ]
    }
   ],
   "source": [
    "A = np.array([[1, 2, 3], [4, 5, 6]])\n",
    "print(2*A)"
   ]
  },
  {
   "cell_type": "markdown",
   "metadata": {},
   "source": [
    "##### Exercise 6\n",
    "Given the matrices $A = \\begin{pmatrix} 2 & -5 \\\\ 7 & 3 \\end{pmatrix}$ and $B = \\begin{pmatrix} 0 & 2 \\\\ -1 & 5 \\end{pmatrix}$ calculate:\n",
    "\n",
    "(a) $4 + A$;"
   ]
  },
  {
   "cell_type": "code",
   "execution_count": 0,
   "metadata": {
    "deletable": false
   },
   "outputs": [],
   "source": []
  },
  {
   "cell_type": "markdown",
   "metadata": {
    "deletable": false
   },
   "source": [
    "(b) $3A$;"
   ]
  },
  {
   "cell_type": "code",
   "execution_count": 0,
   "metadata": {
    "deletable": false
   },
   "outputs": [],
   "source": []
  },
  {
   "cell_type": "markdown",
   "metadata": {},
   "source": [
    "(c) $A \\div 3$."
   ]
  },
  {
   "cell_type": "code",
   "execution_count": 0,
   "metadata": {
    "deletable": false
   },
   "outputs": [],
   "source": []
  },
  {
   "cell_type": "markdown",
   "metadata": {},
   "source": [
    "(d) $B - A$"
   ]
  },
  {
   "cell_type": "code",
   "execution_count": null,
   "metadata": {
    "collapsed": true
   },
   "outputs": [],
   "source": []
  },
  {
   "cell_type": "markdown",
   "metadata": {},
   "source": [
    "### Matrix multiplication\n",
    "\n",
    "Matrix multiplication of two arrays `A` and `B` can be achieved using the `numpy` command\n",
    "\n",
    "`np.matmul(A, B)`\n",
    "\n",
    "If the number of columns in `A` is not the same as the number of rows in `B` then this will return an error."
   ]
  },
  {
   "cell_type": "markdown",
   "metadata": {},
   "source": [
    "##### Exercise 7\n",
    "Given the matrixes $A = \\begin{pmatrix} 1 & 2 \\\\ 3 & 4 \\end{pmatrix}$ and $B = \\begin{pmatrix} 5 & 6 \\\\ 7 & 8 \\end{pmatrix}$ calculate:\n",
    "\n",
    "(a) $AB$;"
   ]
  },
  {
   "cell_type": "code",
   "execution_count": 0,
   "metadata": {
    "deletable": false
   },
   "outputs": [],
   "source": []
  },
  {
   "cell_type": "markdown",
   "metadata": {},
   "source": [
    "(b) $BA$."
   ]
  },
  {
   "cell_type": "code",
   "execution_count": null,
   "metadata": {
    "collapsed": true
   },
   "outputs": [],
   "source": []
  },
  {
   "cell_type": "markdown",
   "metadata": {},
   "source": [
    "### Element-wise operations\n",
    "\n",
    "Element-wise operations are operations that are applied to each element of an array separately. Element-wise operations are the default in Python (in MATLAB matrix operations are considered default). \n",
    "\n",
    "For example, to calculate the elements of an array `A` raised to the power of 4."
   ]
  },
  {
   "cell_type": "code",
   "execution_count": 59,
   "metadata": {},
   "outputs": [
    {
     "name": "stdout",
     "output_type": "stream",
     "text": [
      "[[  1  16]\n",
      " [ 81 256]]\n"
     ]
    }
   ],
   "source": [
    "A = np.array([[1, 2], [3, 4]])\n",
    "print(A**4)"
   ]
  },
  {
   "cell_type": "markdown",
   "metadata": {},
   "source": [
    "Whereas to calculate the whole array `A` raised to the power of 4."
   ]
  },
  {
   "cell_type": "code",
   "execution_count": 60,
   "metadata": {},
   "outputs": [
    {
     "name": "stdout",
     "output_type": "stream",
     "text": [
      "[[199 290]\n",
      " [435 634]]\n"
     ]
    }
   ],
   "source": [
    "print(np.linalg.matrix_power(A, 4))"
   ]
  },
  {
   "cell_type": "markdown",
   "metadata": {},
   "source": [
    "##### Exercise 8\n",
    "\n",
    "Given the matrixes $A = \\begin{pmatrix} 0 & -2 \\\\ 3 & 7 \\end{pmatrix}$ and $B = \\begin{pmatrix} 1 & 3 \\\\ -7 & 4 \\end{pmatrix}$ calculate:\n",
    "\n",
    "(a) the element-wise multiplication of $A$ and $B$;"
   ]
  },
  {
   "cell_type": "code",
   "execution_count": null,
   "metadata": {
    "deletable": false
   },
   "outputs": [],
   "source": []
  },
  {
   "cell_type": "markdown",
   "metadata": {},
   "source": [
    "(b) each element in $A$ divided by the corresponding element in $B$;"
   ]
  },
  {
   "cell_type": "code",
   "execution_count": 0,
   "metadata": {
    "deletable": false
   },
   "outputs": [],
   "source": []
  },
  {
   "cell_type": "markdown",
   "metadata": {},
   "source": [
    "\n",
    "(c) each element in $B$ raised to the power of 3."
   ]
  },
  {
   "cell_type": "code",
   "execution_count": 0,
   "metadata": {
    "deletable": false
   },
   "outputs": [],
   "source": []
  },
  {
   "cell_type": "markdown",
   "metadata": {
    "deletable": false
   },
   "source": [
    "### Matrix transpose\n",
    "\n",
    "To determine the transpose of a matrix we append the command `.T` to the matrix name, i.e.,\n",
    "\n",
    "`A.T`"
   ]
  },
  {
   "cell_type": "code",
   "execution_count": 64,
   "metadata": {},
   "outputs": [
    {
     "name": "stdout",
     "output_type": "stream",
     "text": [
      "[[1 3]\n",
      " [2 4]]\n"
     ]
    }
   ],
   "source": [
    "A = np.array([[1, 2], [3, 4]])\n",
    "print(A.T)"
   ]
  },
  {
   "cell_type": "markdown",
   "metadata": {},
   "source": [
    "##### Exercise 9\n",
    "Determine the transpose of the matrix $A=\\begin{pmatrix} 1 & 2 \\\\ 3 & 4 \\\\ 5 & 6 \\end{pmatrix}$."
   ]
  },
  {
   "cell_type": "code",
   "execution_count": 0,
   "metadata": {
    "deletable": false
   },
   "outputs": [],
   "source": []
  },
  {
   "cell_type": "markdown",
   "metadata": {
    "deletable": false
   },
   "source": [
    "### Determinant of a matrix\n",
    "\n",
    "To calculate the determinant of a square matrix `A` we use the `numpy` command\n",
    "\n",
    "`np.linalg.det(A)`"
   ]
  },
  {
   "cell_type": "code",
   "execution_count": 65,
   "metadata": {},
   "outputs": [
    {
     "name": "stdout",
     "output_type": "stream",
     "text": [
      "-2.0000000000000004\n"
     ]
    }
   ],
   "source": [
    "A = np.matrix([[1, 2], [3, 4]])\n",
    "detA = np.linalg.det(A)\n",
    "print(detA)"
   ]
  },
  {
   "cell_type": "markdown",
   "metadata": {
    "deletable": false
   },
   "source": [
    "### Matrix inverse\n",
    "\n",
    "To calcualte the inverse of a non-singular square matrix `A` we can use the following `numpy` command\n",
    "\n",
    "`np.lingalg.inv(A)`"
   ]
  },
  {
   "cell_type": "code",
   "execution_count": 52,
   "metadata": {},
   "outputs": [
    {
     "name": "stdout",
     "output_type": "stream",
     "text": [
      "[[-2.   1. ]\n",
      " [ 1.5 -0.5]]\n"
     ]
    }
   ],
   "source": [
    "A = np.matrix([[1, 2], [3, 4]])\n",
    "invA = np.linalg.inv(A)\n",
    "print(invA)"
   ]
  },
  {
   "cell_type": "markdown",
   "metadata": {
    "deletable": false
   },
   "source": [
    "### Adjoint of a matrix\n",
    "\n",
    "To calculate the adjoint of a square matrix `A` we can use the following relationship\n",
    "\n",
    "$$\\operatorname{adj}(A) = \\det(A)A^{-1}.$$"
   ]
  },
  {
   "cell_type": "code",
   "execution_count": 54,
   "metadata": {},
   "outputs": [
    {
     "name": "stdout",
     "output_type": "stream",
     "text": [
      "[[ 4. -2.]\n",
      " [-3.  1.]]\n"
     ]
    }
   ],
   "source": [
    "A = np.matrix([[1, 2], [3, 4]])\n",
    "detA = np.linalg.det(A)\n",
    "invA = np.linalg.inv(A)\n",
    "print(detA*invA)"
   ]
  },
  {
   "cell_type": "markdown",
   "metadata": {
    "deletable": false
   },
   "source": [
    "##### Exercise 11\n",
    "Given the matrix $A=\\begin{pmatrix} 1 & 0 & 2 \\\\ -1 & 3 & 4 \\\\ 5 & 0 & 2  \\end{pmatrix}$.\n",
    "\n",
    "Use `numpy` commands to calculate:\n",
    "\n",
    "(a) $\\det(A)$;"
   ]
  },
  {
   "cell_type": "code",
   "execution_count": 0,
   "metadata": {
    "deletable": false
   },
   "outputs": [],
   "source": []
  },
  {
   "cell_type": "markdown",
   "metadata": {},
   "source": [
    "(b) $A^{-1}$;"
   ]
  },
  {
   "cell_type": "code",
   "execution_count": null,
   "metadata": {
    "collapsed": true
   },
   "outputs": [],
   "source": []
  },
  {
   "cell_type": "markdown",
   "metadata": {},
   "source": [
    "(c) $\\operatorname{adj}(A)$"
   ]
  },
  {
   "cell_type": "code",
   "execution_count": null,
   "metadata": {
    "collapsed": true
   },
   "outputs": [],
   "source": []
  }
 ],
 "metadata": {
  "kernelspec": {
   "display_name": "Python 3",
   "language": "python",
   "name": "python3"
  },
  "language_info": {
   "codemirror_mode": {
    "name": "ipython",
    "version": 3
   },
   "file_extension": ".py",
   "mimetype": "text/x-python",
   "name": "python",
   "nbconvert_exporter": "python",
   "pygments_lexer": "ipython3",
   "version": "3.6.3"
  }
 },
 "nbformat": 4,
 "nbformat_minor": 1
}
