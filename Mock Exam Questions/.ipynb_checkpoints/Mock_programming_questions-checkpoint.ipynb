{
 "cells": [
  {
   "cell_type": "markdown",
   "metadata": {},
   "source": [
    "# Linear Algebra and Programming Skills\n",
    "## Mock Exam Questions"
   ]
  },
  {
   "cell_type": "markdown",
   "metadata": {},
   "source": [
    "### Question 1 \n",
    "\n",
    "\n",
    "(a) Define arrays corresponding to the the following matrices:\n",
    "$$A = \\begin{pmatrix} 3 & 0 \\cr -1 & 5 \\end{pmatrix}, \n",
    "\\qquad\n",
    "B = \\begin{pmatrix} 2 & 0 & -1 \\cr 4 & 2 & 3 \\end{pmatrix}.$$\n",
    "\n",
    "Hence calculate and output:\n",
    "\n",
    "&emsp;&emsp;(i) $AB$ (the matrix mulitplication of $A$ and $B$);"
   ]
  },
  {
   "cell_type": "code",
   "execution_count": 1,
   "metadata": {},
   "outputs": [
    {
     "name": "stdout",
     "output_type": "stream",
     "text": [
      "[[ 6  0 -3]\n",
      " [18 10 16]]\n"
     ]
    }
   ],
   "source": [
    "import numpy as np\n",
    "\n",
    "A = np.array([[ 3, 0 ], [ -1, 5 ]])\n",
    "B = np.array([[ 2, 0, -1 ], [ 4, 2, 3 ]])\n",
    "\n",
    "print(np.matmul(A, B))"
   ]
  },
  {
   "cell_type": "markdown",
   "metadata": {},
   "source": [
    "&emsp;&emsp;(ii) $ABA$;"
   ]
  },
  {
   "cell_type": "code",
   "execution_count": 2,
   "metadata": {},
   "outputs": [
    {
     "name": "stdout",
     "output_type": "stream",
     "text": [
      "[[18  0 -9]\n",
      " [84 50 83]]\n"
     ]
    }
   ],
   "source": [
    "print(np.matmul(A, np.matmul(A, B)))"
   ]
  },
  {
   "cell_type": "markdown",
   "metadata": {},
   "source": [
    "&emsp;&emsp;(iii) $\\det(A)$;"
   ]
  },
  {
   "cell_type": "code",
   "execution_count": 3,
   "metadata": {},
   "outputs": [
    {
     "name": "stdout",
     "output_type": "stream",
     "text": [
      "15.0\n"
     ]
    }
   ],
   "source": [
    "print(np.linalg.det(A))"
   ]
  },
  {
   "cell_type": "markdown",
   "metadata": {},
   "source": [
    "&emsp;&emsp;(iv) $A^{-1}$;"
   ]
  },
  {
   "cell_type": "code",
   "execution_count": 4,
   "metadata": {},
   "outputs": [
    {
     "name": "stdout",
     "output_type": "stream",
     "text": [
      "[[0.33333333 0.        ]\n",
      " [0.06666667 0.2       ]]\n"
     ]
    }
   ],
   "source": [
    "print(np.linalg.inv(A))"
   ]
  },
  {
   "cell_type": "markdown",
   "metadata": {},
   "source": [
    "&emsp;&emsp;(v) the matrix formed using the first two columns of $B$ which is then multiplied by $A$."
   ]
  },
  {
   "cell_type": "code",
   "execution_count": 5,
   "metadata": {},
   "outputs": [
    {
     "name": "stdout",
     "output_type": "stream",
     "text": [
      "[[ 6  0]\n",
      " [10 10]]\n"
     ]
    }
   ],
   "source": [
    "print(np.matmul(B[:,:2], A))"
   ]
  },
  {
   "cell_type": "markdown",
   "metadata": {},
   "source": [
    "(b) Write a program that uses nested `for` loops to calculate the sum of the elements of the matrix $C = B^TB$."
   ]
  },
  {
   "cell_type": "code",
   "execution_count": 6,
   "metadata": {},
   "outputs": [
    {
     "name": "stdout",
     "output_type": "stream",
     "text": [
      "The sum of the elements in C is 82.\n"
     ]
    }
   ],
   "source": [
    "C = np.matmul(B.T, B)\n",
    "rows, cols = C.shape\n",
    "mysum = 0\n",
    "\n",
    "for i in range(rows):\n",
    "    for j in range(cols):\n",
    "        mysum = mysum + C[i,j]\n",
    "\n",
    "print(\"The sum of the elements in C is {}.\".format(mysum))"
   ]
  },
  {
   "cell_type": "markdown",
   "metadata": {},
   "source": [
    "(c) The determinant of a $2 \\times 2$ matrix $A$ is defined by the following\n",
    "\n",
    "$$ \\det(A) = a_{11}a_{22} - a_{12}a_{22}.$$\n",
    "\n",
    "Write a function called `mydet` that given an input of a $2\\times 2$ array `A` returns its determinant. Your function should check whether the inputted matrix has 2 rows and 2 columns, if it does not not it should print a warning message and exit. Test your function on your arrays `A` and `B` from part (a)."
   ]
  },
  {
   "cell_type": "code",
   "execution_count": 7,
   "metadata": {},
   "outputs": [
    {
     "name": "stdout",
     "output_type": "stream",
     "text": [
      "Error, input must be a 2 x 2 matrix\n"
     ]
    },
    {
     "data": {
      "text/plain": [
       "15"
      ]
     },
     "execution_count": 7,
     "metadata": {},
     "output_type": "execute_result"
    }
   ],
   "source": [
    "def mydet(A):\n",
    "    \n",
    "    rows, cols = A.shape\n",
    "    if rows != 2 or cols != 2:\n",
    "        print(\"Error, input must be a 2 x 2 matrix\")\n",
    "        return\n",
    "\n",
    "    return A[0,0] * A[1,1] - A[0,1] * A[1,1]\n",
    "\n",
    "mydet(B)\n",
    "mydet(A)"
   ]
  },
  {
   "cell_type": "markdown",
   "metadata": {},
   "source": [
    "---\n",
    "### Question 2\n",
    "(a) Write a program to calculate the sum of the following series using a given number of terms\n",
    "\n",
    "$$ e^{2x} = \\sum_{n=0}^\\infty \\frac{(2x)^n}{n!} =  1 + 2x + \\frac{(2x)^2}{2!} + \\frac{(2x)^3}{4!} + \\ldots$$\n",
    "\n",
    "and output the result correct to 6 decimal places. Your program may use the `factorial` command from MATLAB or the `math` library in Python. Use your program to calculate $e^{2x}$ for $x=2.5$ using the first 12 terms."
   ]
  },
  {
   "cell_type": "code",
   "execution_count": 8,
   "metadata": {},
   "outputs": [
    {
     "name": "stdout",
     "output_type": "stream",
     "text": [
      "exp(2 * 2.5) = 147.603849\n"
     ]
    }
   ],
   "source": [
    "import math\n",
    "\n",
    "x, nterms = 2.5, 12\n",
    "exp2x = 0\n",
    "\n",
    "for i in range(nterms):\n",
    "    exp2x = exp2x + (2 * x) ** i / math.factorial(i)\n",
    "\n",
    "print(\"exp(2 * {}) = {:1.6f}\".format(x, exp2x))"
   ]
  },
  {
   "cell_type": "markdown",
   "metadata": {},
   "source": [
    "(b) Write a program that uses a `while` loop to calculate the sum of the series in part (a) ceasing iterations when the difference between successive terms of the series is less than $10^{-4}$. Output the value of $e^{2x}$ and the number of iterations used."
   ]
  },
  {
   "cell_type": "code",
   "execution_count": 9,
   "metadata": {},
   "outputs": [
    {
     "name": "stdout",
     "output_type": "stream",
     "text": [
      "exp(2 * 2.5) = 148.413147\n",
      "Number of iterations used = 21\n"
     ]
    }
   ],
   "source": [
    "x, n = 2.5, 12\n",
    "exp2x = 0\n",
    "\n",
    "i, diff = 0, 1\n",
    "\n",
    "while diff > 1e-4:\n",
    "    diff = (2 * x) ** i / math.factorial(i)\n",
    "    exp2x = exp2x + diff\n",
    "    i = i + 1;\n",
    "\n",
    "print(\"exp(2 * {}) = {:1.6f}\\nNumber of iterations used = {}\".format(x, exp2x, i))"
   ]
  },
  {
   "cell_type": "markdown",
   "metadata": {},
   "source": [
    "---\n",
    "### Question 3\n",
    "A sequence of numbers is generated using the following scheme\n",
    "\n",
    "$$ x_{n+1} = \\frac{x_n^2 - 1}{2x_n - 3},$$\n",
    "\n",
    "for some given starting value $x_0$. For example, if $x_0=2$ then the sequence is\n",
    "\n",
    "\\begin{align*}\n",
    "    x_0 &= 2, \\\\\n",
    "    x_1 &= 3, \\\\\n",
    "    x_2 &= 2.6667, \\\\\n",
    "    x_3 &= 2.6190, \\\\\n",
    "    &\\vdots\n",
    "\\end{align*}\n",
    "\n",
    "(a) Write a program that outputs the first 8 numbers in form of a table with a column containing the values of $n$ and another containing the value of $x_n$ correct to 6 decimal places, i.e.,\n",
    "\n",
    "```\n",
    " n      xn\n",
    "--------------\n",
    " 0   x.xxxxxx \n",
    " 1   x.xxxxxx \n",
    " :      : \n",
    " 2   x.xxxxxx \n",
    "```\n",
    "Check your program using $x_0=2$."
   ]
  },
  {
   "cell_type": "code",
   "execution_count": 72,
   "metadata": {},
   "outputs": [
    {
     "name": "stdout",
     "output_type": "stream",
     "text": [
      " n      xn\n",
      "--------------\n",
      " 0   2.000000 \n",
      " 1   3.000000 \n",
      " 2   2.666667 \n",
      " 3   2.619048 \n",
      " 4   2.618034 \n",
      " 5   2.618034 \n",
      " 6   2.618034 \n",
      " 7   2.618034 \n"
     ]
    }
   ],
   "source": [
    "x0 = 2\n",
    "print(\" n      xn\\n--------------\")\n",
    "for n in range(8):\n",
    "    print(\"{:2d} {:10.6f} \".format(n, x0))\n",
    "    x1 = (x0 ** 2 - 1) / (2 * x0 - 3)\n",
    "    x0 = x1"
   ]
  },
  {
   "cell_type": "markdown",
   "metadata": {},
   "source": [
    "(b) Write a program that it uses a `while` loop to calculate the sequence from part (a) stopping when the difference between two consecutive values is less than $10^{-6}$."
   ]
  },
  {
   "cell_type": "code",
   "execution_count": 11,
   "metadata": {},
   "outputs": [
    {
     "name": "stdout",
     "output_type": "stream",
     "text": [
      " n       x_n\n",
      "-----------------\n",
      " 0     4.000000 \n",
      " 1     3.000000 \n",
      " 2     2.666667 \n",
      " 3     2.619048 \n",
      " 4     2.618034 \n"
     ]
    }
   ],
   "source": [
    "x0, n, diff = 4, 0, 1\n",
    "\n",
    "print(\" n       x_n\\n-----------------\")\n",
    "while diff > 1e-6:\n",
    "    print(\"{:2d}   {:10.6f} \".format(n, x0))\n",
    "    x1 = (x0 ** 2 - 1) / (2 * x0 - 3)\n",
    "    diff = abs(x1 - x0)\n",
    "    x0, n = x1, n + 1"
   ]
  },
  {
   "cell_type": "markdown",
   "metadata": {},
   "source": [
    "(c) Define a function called `mysequence` that given inputs of the starting value $x_0$ and the number of terms in the sequence $n$ returns an array containing the values in the sequence, for example if $x_0=2$ and the number of terms is 4 then the array should be `[ 2, 3, 2.6667, 2.6190 ]`. Use your function to calculate the first 12 numbers in the sequence with a starting value of $x_0=100$."
   ]
  },
  {
   "cell_type": "code",
   "execution_count": 12,
   "metadata": {},
   "outputs": [
    {
     "name": "stdout",
     "output_type": "stream",
     "text": [
      "[100.          50.75634518  26.14086131  13.84579503   7.72352204\n",
      "   4.71218647   3.30066475   2.74742641   2.62474477   2.61805401\n",
      "   2.61803399   2.61803399]\n"
     ]
    }
   ],
   "source": [
    "def mysequence(x0, nterms):\n",
    "    \n",
    "    X = np.zeros(nterms)\n",
    "    X[0] = x0\n",
    "    \n",
    "    for n in range(1, nterms):\n",
    "        X[n] = (X[n-1] ** 2 - 1) / (2 * X[n-1] - 3)\n",
    "        \n",
    "    return X\n",
    "\n",
    "X = mysequence(100, 12)\n",
    "print(X)"
   ]
  },
  {
   "cell_type": "markdown",
   "metadata": {},
   "source": [
    "---\n",
    "### Question 4\n",
    "The following program draws a red circle of radius 10 centred at the point $(15, 25)$.\n",
    "\n",
    "```python\n",
    "import numpy as np\n",
    "import matplotlib.pyplot as plt\n",
    "\n",
    "fig, ax = plt.subplots()\n",
    "\n",
    "x = np.zeros(37)\n",
    "y = np.zeros(37)\n",
    "for i in range(37):\n",
    "    x[i] = 10 * np.cos(np.pi / 18 * i) + 4\n",
    "    y[i] = 10 * np.sin(np.pi / 18 * i) + 2\n",
    "\n",
    "\n",
    "ax.plot(x, y, 'r')\n",
    "ax.set_xlim(-20, 20)\n",
    "ax.set_ylim(-20, 20)\n",
    "ax.set_aspect('equal')\n",
    "```"
   ]
  },
  {
   "cell_type": "markdown",
   "metadata": {},
   "source": [
    "(a) Amend this program to draw the following objects on the **same** axes\n",
    "\n",
    "- a red circle with radius 6 and centre $(-12, 12)$;\n",
    "- a blue circle with radius 5 and centre $(15,-15)$;\n",
    "- a green triangle with corners at $(10, 10)$, $(14, 12)$ and $(12, 14)$.\n",
    "\n"
   ]
  },
  {
   "cell_type": "code",
   "execution_count": 13,
   "metadata": {},
   "outputs": [
    {
     "data": {
      "image/png": "[encoded data removed]",
      "text/plain": [
       "<Figure size 432x288 with 1 Axes>"
      ]
     },
     "metadata": {
      "needs_background": "light"
     },
     "output_type": "display_data"
    }
   ],
   "source": [
    "import numpy as np\n",
    "import matplotlib.pyplot as plt\n",
    "\n",
    "fig, ax = plt.subplots()\n",
    "\n",
    "# Plot red circle\n",
    "x = np.zeros(37)\n",
    "y = np.zeros(37)\n",
    "for i in range(37):\n",
    "    x[i] = 6 * np.cos(np.pi / 18 * i) - 12\n",
    "    y[i] = 6 * np.sin(np.pi / 18 * i) + 12\n",
    "\n",
    "ax.plot(x, y, 'r')\n",
    "\n",
    "# Plot blue circle\n",
    "x = np.zeros(37)\n",
    "y = np.zeros(37)\n",
    "for i in range(37):\n",
    "    x[i] = 5 * np.cos(np.pi / 18 * i) + 15\n",
    "    y[i] = 5 * np.sin(np.pi / 18 * i) - 15\n",
    "\n",
    "ax.plot(x, y, 'b')\n",
    "\n",
    "# Plot green triangle\n",
    "x = np.array([ 10, 14, 12, 10 ])\n",
    "y = np.array([ 10, 12, 14, 10 ])\n",
    "\n",
    "ax.plot(x, y, 'g')\n",
    "\n",
    "ax.set_xlim(-20, 20)\n",
    "ax.set_ylim(-20, 20)\n",
    "ax.set_aspect('equal')"
   ]
  },
  {
   "cell_type": "markdown",
   "metadata": {},
   "source": [
    "(b) Write a program that plots a set of 5 magenta squares, each of side length 2 units on a set of axes where $x\\in [0, 40]$. The bottom left corner of the first square should be positioned at the origin. The other 4 squares should be positioned **above and to the right** of the first square with a **horizontal gap of 1 unit** and a **vertical gap of 0 units** . You **must use a loop** to draw the 5 squares rahter thna set of repeated statements. "
   ]
  },
  {
   "cell_type": "code",
   "execution_count": 42,
   "metadata": {},
   "outputs": [
    {
     "data": {
      "image/png": "[encoded data removed]",
      "text/plain": [
       "<Figure size 432x288 with 1 Axes>"
      ]
     },
     "metadata": {
      "needs_background": "light"
     },
     "output_type": "display_data"
    }
   ],
   "source": [
    "import numpy as np\n",
    "import matplotlib.pyplot as plt\n",
    "\n",
    "fig, ax = plt.subplots()\n",
    "\n",
    "# Co-ordinates of first square\n",
    "x = np.array([ 0, 5, 5, 0, 0 ])\n",
    "y = np.array([ 0, 0, 5, 5, 0 ])\n",
    "\n",
    "# Plot squares\n",
    "for i in range(5):\n",
    "    ax.plot(x + i * 6, y + i * 5, 'm')\n",
    "    \n",
    "ax.set_xlim(0, 40)\n",
    "ax.set_ylim(0, 40)\n",
    "ax.set_aspect('equal')"
   ]
  },
  {
   "cell_type": "markdown",
   "metadata": {},
   "source": [
    "(c) Write a program to draw set of 5 circles, each with centre at $(25, 25)$ on a set of axes where $x, y \\in [0, 50]$ . The circles should decrease in radius from 20 to 5 in steps of -5. The circles should appear in alternate colours, red and blue, with the largest circle drawn in red. Again you **must use a loop** to draw the 5 circles and use an if statement to draw the circles in the correct colour.\n"
   ]
  },
  {
   "cell_type": "code",
   "execution_count": 50,
   "metadata": {
    "scrolled": true
   },
   "outputs": [
    {
     "data": {
      "image/png": "[encoded data removed]",
      "text/plain": [
       "<Figure size 432x288 with 1 Axes>"
      ]
     },
     "metadata": {
      "needs_background": "light"
     },
     "output_type": "display_data"
    }
   ],
   "source": [
    "import numpy as np\n",
    "import matplotlib.pyplot as plt\n",
    "\n",
    "fig, ax = plt.subplots()\n",
    "\n",
    "# Loop through the circles\n",
    "colour = 'b' # starting colour\n",
    "for radius in range(20, 0, -5):\n",
    "    \n",
    "    # Calculate circle co-ordinates\n",
    "    x = np.zeros(37)\n",
    "    y = np.zeros(37)\n",
    "    for i in range(37):\n",
    "        x[i] = radius * np.cos(np.pi / 18 * i) + 25\n",
    "        y[i] = radius * np.sin(np.pi / 18 * i) + 25\n",
    "\n",
    "    # Determine colour\n",
    "    if colour == 'r':\n",
    "        colour = 'b'\n",
    "    else:\n",
    "        colour = 'r'\n",
    "        \n",
    "    # Plot circle\n",
    "    ax.plot(x, y, colour)\n",
    "    \n",
    "ax.set_xlim(0, 50)\n",
    "ax.set_ylim(0, 50)\n",
    "ax.set_aspect('equal')"
   ]
  },
  {
   "cell_type": "markdown",
   "metadata": {},
   "source": [
    "---\n",
    "### Question 5\n",
    "\n",
    "(a) The following expression defines a sequence of $x$ values\n",
    "\n",
    "$$ x_{n+1} = \\frac{1}{2} \\left( x_{n} + \\frac{5}{x_{n}} \\right).$$\n",
    "\n",
    "For example, given a starting value of $x_0=1$\n",
    "\n",
    "\\begin{align*}\n",
    "    x_0 &= 1, \\\\\n",
    "    x_1 &= 3, \\\\\n",
    "    x_2 &= 2.3333, \\\\\n",
    "    x_3 &= 2.2381, \\\\\n",
    "    & \\vdots\n",
    "\\end{align*}\n",
    "\n",
    "Write a program to calculate the values in this sequence using a starting value of $x_0=5$ upto $x_5$ and stores them in a one-dimensional array. Use a print command to output the array."
   ]
  },
  {
   "cell_type": "code",
   "execution_count": 106,
   "metadata": {},
   "outputs": [
    {
     "name": "stdout",
     "output_type": "stream",
     "text": [
      "[5.         3.         2.33333333 2.23809524 2.2360689  2.23606798]\n"
     ]
    }
   ],
   "source": [
    "import numpy as np\n",
    "\n",
    "X = np.zeros(6)\n",
    "X[0] = 5\n",
    "\n",
    "for n in range(5):\n",
    "    X[n+1] = 1 / 2 * (X[n] + 5 / X[n])\n",
    "\n",
    "print(X)"
   ]
  },
  {
   "cell_type": "markdown",
   "metadata": {},
   "source": [
    "(b) Using a **`for` loop**, produce a table of this sequence with a column for the the values of $n$ and another column for the values of $x_n$ correct to 7 decimal places, i.e.,\n",
    "\n",
    "```\n",
    " n     xn\n",
    "--------------\n",
    " 0  x.xxxxxxx\n",
    " 1  x.xxxxxxx\n",
    " :      :\n",
    " 5  x.xxxxxxx\n",
    "```"
   ]
  },
  {
   "cell_type": "code",
   "execution_count": 80,
   "metadata": {},
   "outputs": [
    {
     "name": "stdout",
     "output_type": "stream",
     "text": [
      " n     xn\n",
      "--------------\n",
      " 0  5.0000000\n",
      " 1  3.0000000\n",
      " 2  2.3333333\n",
      " 3  2.2380952\n",
      " 4  2.2360689\n",
      " 5  2.2360680\n"
     ]
    }
   ],
   "source": [
    "print(\" n     xn\\n--------------\")\n",
    "for n in range(6):\n",
    "    print(\"{:2d} {:10.7f}\".format(n, X[n]))"
   ]
  },
  {
   "cell_type": "markdown",
   "metadata": {},
   "source": [
    "(c) Define a function called `mysequence2` that calculates the following sequence given inputs for the starting value $x_0$, the value of $b$ and the maximum value of $n$, and stores the values in a one-dimensional array.\n",
    "\n",
    "$$ x_{n+1} = \\frac{1}{2} \\left( x_n + \\frac{b}{x_n} \\right).$$\n",
    "\n",
    "Using your function, produce **four** tables of this sequence upto $x_4$ for $x_0=b$ and the value of $b$ changing from 7 to 13 in steps of 2. You **must use a `for` loop** to loop through the values of $b$."
   ]
  },
  {
   "cell_type": "code",
   "execution_count": 107,
   "metadata": {},
   "outputs": [
    {
     "name": "stdout",
     "output_type": "stream",
     "text": [
      "\n",
      " n     xn\n",
      "--------------\n",
      " 0  7.0000000\n",
      " 1  4.0000000\n",
      " 2  2.8750000\n",
      " 3  2.6548913\n",
      " 4  2.6457670\n",
      " 5  2.6457513\n",
      "\n",
      " n     xn\n",
      "--------------\n",
      " 0  9.0000000\n",
      " 1  5.0000000\n",
      " 2  3.4000000\n",
      " 3  3.0235294\n",
      " 4  3.0000916\n",
      " 5  3.0000000\n",
      "\n",
      " n     xn\n",
      "--------------\n",
      " 0 11.0000000\n",
      " 1  6.0000000\n",
      " 2  3.9166667\n",
      " 3  3.3625887\n",
      " 4  3.3169389\n",
      " 5  3.3166248\n",
      "\n",
      " n     xn\n",
      "--------------\n",
      " 0 13.0000000\n",
      " 1  7.0000000\n",
      " 2  4.4285714\n",
      " 3  3.6820276\n",
      " 4  3.6063455\n",
      " 5  3.6055514\n"
     ]
    }
   ],
   "source": [
    "def mysequence2(x0, b, nmax):\n",
    "    \n",
    "    X = np.zeros(nmax + 1)\n",
    "    X[0] = x0\n",
    "    for n in range(nmax):\n",
    "        X[n+1] = 1 / 2 * (X[n] + b / X[n])\n",
    "    \n",
    "    return X\n",
    "\n",
    "\n",
    "# Loop through values of b\n",
    "for b in range(7, 14, 2):\n",
    "    \n",
    "    # Calculate sequence array\n",
    "    X = mysequence2(b, b, 6)\n",
    "    \n",
    "    # Output table\n",
    "    print(\"\\n n     xn\\n--------------\")\n",
    "    for n in range(6):\n",
    "        print(\"{:2d} {:10.7f}\".format(n, X[n]))"
   ]
  },
  {
   "cell_type": "markdown",
   "metadata": {},
   "source": [
    "---\n",
    "### Question 6\n",
    "\n",
    "(a) Write a program that defines a two-dimensional array which is equivalent to the following matrix. Using a pair of nexted `for` loops calculate and output the number of 1s in the matrix. Your output should appear in the following form\n",
    "\n",
    "```\n",
    "number of 1s = xx\n",
    "```"
   ]
  },
  {
   "cell_type": "code",
   "execution_count": 109,
   "metadata": {},
   "outputs": [
    {
     "name": "stdout",
     "output_type": "stream",
     "text": [
      "number of 1s = 3\n"
     ]
    }
   ],
   "source": [
    "import numpy\n",
    "\n",
    "X = np.array([[ 1, 0, 1 ], [ 2, -3, 2 ], [ 1, 0, -2 ]])\n",
    "count = 0\n",
    "\n",
    "for i in range(3):\n",
    "    for j in range(3):\n",
    "        if X[i,j] == 1:\n",
    "            count = count + 1\n",
    "\n",
    "print(\"number of 1s = {}\".format(count))"
   ]
  },
  {
   "cell_type": "markdown",
   "metadata": {},
   "source": [
    "(b) Define a function called `distance` that given inputs of the co-ordinates of two points in $\\mathbb{R}^2$ as two-element arrays of the form $(x_1, y_1)$ and $(x_2, y_2)$, calculates and returns the distance between the two points using the formula\n",
    "\n",
    "$$\\text{distance} = \\sqrt{(x_1 - x_2)^2 + (y_1 - y_2)^2}$$\n",
    "\n",
    "Use your function to calculate the distance between the points $(1.3, 5.7)$ and $(7.9, -0.8)$."
   ]
  },
  {
   "cell_type": "code",
   "execution_count": 133,
   "metadata": {},
   "outputs": [
    {
     "name": "stdout",
     "output_type": "stream",
     "text": [
      "9.263368717696602\n"
     ]
    }
   ],
   "source": [
    "def distance(p1, p2):\n",
    "    \"\"\"\n",
    "    Calculate the distance between two points in R2\n",
    "    \"\"\"\n",
    "    return np.sqrt((p1[0] - p2[0]) ** 2 + (p1[1] - p2[1]) ** 2)\n",
    "\n",
    "\n",
    "# Define co-ordinate arrays\n",
    "point1 = np.array([ 1.3, 5.7 ])\n",
    "point2 = np.array([ 7.9, -0.8 ])\n",
    "\n",
    "# Calculate distance between the two points\n",
    "dist = distance(point1, point2)\n",
    "print(dist)"
   ]
  },
  {
   "cell_type": "markdown",
   "metadata": {},
   "source": [
    "(c) The area of a triangle defined in $\\mathbb{R}^2$ with vertices $(x_1, y_1)$, $(x_2, y_2)$ and $(x_3, y_3)$ can be calculated using the formula\n",
    "\n",
    "$$ \\text{area} = \\frac{1}{2} \\det \\begin{pmatrix} x_1 & y_1 & 1 \\cr x_2 & y_2 & 1 \\cr x_3 & y_3 & 1 \\end{pmatrix}.$$\n",
    "\n",
    "Define a function called `triangle_area` that given inputs to the vertex co-ordinates calculates the area of the triangle. You may use the `det` command from MATLAB or the NumPy library in Python. Use your function to calculate the area of the triangle with vertices $(0, 1)$, $(5, 2)$ and $(2, 7)$."
   ]
  },
  {
   "cell_type": "code",
   "execution_count": 162,
   "metadata": {},
   "outputs": [
    {
     "name": "stdout",
     "output_type": "stream",
     "text": [
      "13.999999999999998\n"
     ]
    }
   ],
   "source": [
    "def triangle_area(v1, v2, v3):\n",
    "    \"\"\" \n",
    "    Calculates the area of a triangle in R2\n",
    "    \"\"\"\n",
    "    X = np.array([[ v1[0], v1[1], 1 ], [ v2[0], v2[1], 1 ], [ v3[0], v3[1], 1 ]])\n",
    "    return 1 / 2 * np.linalg.det(X)\n",
    "\n",
    "\n",
    "# Define vertex co-ordinate arrays\n",
    "vert1 = np.array([0, 1])\n",
    "vert2 = np.array([5, 2])\n",
    "vert3 = np.array([2, 7])\n",
    "\n",
    "# Calculate area of the triangle\n",
    "area = triangle_area(vert1, vert2, vert3)\n",
    "print(area)"
   ]
  }
 ],
 "metadata": {
  "kernelspec": {
   "display_name": "Python 3",
   "language": "python",
   "name": "python3"
  },
  "language_info": {
   "codemirror_mode": {
    "name": "ipython",
    "version": 3
   },
   "file_extension": ".py",
   "mimetype": "text/x-python",
   "name": "python",
   "nbconvert_exporter": "python",
   "pygments_lexer": "ipython3",
   "version": "3.8.5"
  }
 },
 "nbformat": 4,
 "nbformat_minor": 4
}
