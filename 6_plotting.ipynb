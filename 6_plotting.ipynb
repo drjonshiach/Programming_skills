{
 "cells": [
  {
   "cell_type": "markdown",
   "metadata": {
    "colab_type": "text",
    "collapsed": false,
    "deletable": false,
    "editable": false,
    "id": "Mv_GDcyVYzc9"
   },
   "source": [
    "# Plotting\n",
    "We can use Python to produce plots of data and save them to a file. This Jupyter Notebook looks at how we can create the most common types of plots.\n",
    "\n",
    "## Contents\n",
    "\n",
    "1. [matplotlib](#matplotlib)\n",
    "1. [Line plot](#Line-plot)\n",
    "1. [Changing the axes](#Changing-the-axes)\n",
    "1. [Saving a plot to file](#Saving-a-plot-to-file)\n",
    "1. [Multiple plots on the same axes](#Multiple-plots-on-the-same-axes)\n",
    "1. [Adding a legend to a plot](#Adding-a-legend-to-a-plot)\n",
    "1. [Scatter plots](#Scatter-plots)\n",
    "1. [3D plots](#3D-plots)\n",
    "1. [Contour plots](#Contour-plots)\n",
    "1. [Image plots](#Image-plots)"
   ]
  },
  {
   "cell_type": "markdown",
   "metadata": {
    "colab_type": "text",
    "collapsed": false,
    "deletable": false,
    "editable": false,
    "id": "r3r5abrwzWFM"
   },
   "source": [
    "---\n",
    "## matplotlib\n",
    "**[matplotlib](https://matplotlib.org/)** is a library of functions that allows us to produce plots of data within a Python program. Like with other libraries, we need to import it using the `import` command. For example, to import the matplotlib function `pyplot` which is used for the most common plots we use\n",
    "\n",
    "```\n",
    "import matplotlib.pyplot as plt\n",
    "```\n",
    "\n",
    "This will allow us to call `pyplot` functions using the precursor `plt.`"
   ]
  },
  {
   "cell_type": "markdown",
   "metadata": {
    "colab_type": "text",
    "collapsed": false,
    "deletable": false,
    "editable": false,
    "id": "QHGJfDcw1_-y"
   },
   "source": [
    "## Figure and axis objects\n",
    "Before we can produce a plot we need to create a figure object and an axis object. The simplest way to do this is to use the `plt.subplots` command ([pyplot.subplots help page](https://matplotlib.org/3.2.1/api/_as_gen/matplotlib.pyplot.subplots.html)).\n",
    "\n",
    "```\n",
    "fig, ax = plt.subplots()\n",
    "```\n",
    "\n",
    "Here `fig` and `ax` are the names we have given to the figure and axis objects respectively (think of these as variable names)."
   ]
  },
  {
   "cell_type": "markdown",
   "metadata": {
    "colab_type": "text",
    "collapsed": false,
    "deletable": false,
    "editable": false,
    "id": "lC040L7z1_-z"
   },
   "source": [
    "---\n",
    "## Line plot\n",
    "To plot a simple two-dimensional function we can use the `plot` command ([pyplot.plot help page](https://matplotlib.org/3.2.1/api/_as_gen/matplotlib.pyplot.plot.html)).\n",
    "\n",
    "```Python\n",
    "ax.plot(x, y)\n",
    "```\n",
    "\n",
    "where `ax` is the name of the axes and `x` and `y` are one-dimensional arrays.\n",
    "\n",
    "The NumPy command `np.linspace` is useful for generating an array of `x` values ([numpy.linspace help page](https://numpy.org/devdocs/reference/generated/numpy.linspace.html)).\n",
    "\n",
    "```\n",
    "x = np.linspace(start, end, num)\n",
    "```\n",
    "\n",
    "This creates an array `x` with `num` equally spaced values between `start` and `end` inclusive."
   ]
  },
  {
   "cell_type": "markdown",
   "metadata": {
    "colab_type": "text",
    "collapsed": false,
    "deletable": false,
    "editable": false,
    "id": "LpNf7XNr1_-0"
   },
   "source": [
    "#### Example 1\n",
    "\n",
    "The Python code below plots the function $y=x^2$. Enter it into the code cell below and execute it to see the result (you may have to execute it a couple of times to get it to show the plot).\n",
    "\n",
    "```Python\n",
    "import numpy as np\n",
    "import matplotlib.pyplot as plt\n",
    "\n",
    "x = np.linspace(-2, 2, 100)\n",
    "y = x**2\n",
    "\n",
    "fig, ax = plt.subplots()\n",
    "ax.plot(x, y)\n",
    "plt.show()\n",
    "```\n",
    "\n",
    "The `plt.show()` command is used to force Jupyter to show the plot."
   ]
  },
  {
   "cell_type": "code",
   "execution_count": 0,
   "metadata": {
    "colab": {
     "base_uri": "https://localhost:8080/",
     "height": 265
    },
    "colab_type": "code",
    "collapsed": false,
    "deletable": false,
    "editable": true,
    "executionInfo": {
     "elapsed": 1028,
     "status": "ok",
     "timestamp": 1587980299167,
     "user": {
      "displayName": "Jon Shiach",
      "photoUrl": "https://lh3.googleusercontent.com/a-/AOh14Gg5Zyp_bzksR5YWaZRwn4VACXUUvYtqWkv2YE_k6g=s64",
      "userId": "13042916198969597424"
     },
     "user_tz": -60
    },
    "id": "jdciYBH81_-1",
    "outputId": "10402a08-4215-4e4e-9483-2ff59ac2421a"
   },
   "outputs": [
   ],
   "source": [
   ]
  },
  {
   "cell_type": "markdown",
   "metadata": {
    "colab_type": "text",
    "collapsed": false,
    "deletable": false,
    "editable": false,
    "id": "teIyn7K21_-7"
   },
   "source": [
    "<a id='plot_styles'></a>\n",
    "### Plot styles\n",
    "\n",
    "We can change the appearance of the line by specifying the format after the co-ordinates in the `plot` command. \n",
    "\n",
    "```Python\n",
    "ax.plot(x, y, fmt)\n",
    "```\n",
    "\n",
    "Where `fmt` is a character string that specifies the colour, marker and line styles.\n",
    "\n",
    "```\n",
    "fmt = '[marker][line][colour]'\n",
    "```\n",
    "\n",
    "The characters for some of the marker, line and colour styles are shown in the table below. Note that these are optional, e.g., if no marker character is specified then the data will be plotted as a line without markers. Also it doesn't matter what order the characters in `fmt` are, e.g., `'r-o'` produces the same result as `'o-r'`.\n",
    "\n",
    "| Character | Description | Character | Description | Character | Description |\n",
    "| -- | -- | -- | -- | -- | -- |\n",
    "| `'.'` | point marker         | `'-'`  | solid line    | `'b'` | blue     \n",
    "| `','` | pixel marker         | `'--'` | dashed line   | `'g'` | green    \n",
    "| `'o'` | circle marker        | `'-.'` | dash-dot line | `'r'` | red      \n",
    "| `'v'` | triangle down marker | `':'`  | dotted line   | `'c'` | cyan     \n",
    "| `'^'` | triangle up marker   |        |               | `'m'` | magenta  \n",
    "| `'s'` | square marker        |        |               | `'y'` | yellow   \n",
    "| `'*'` | star marker          |        |               | `'k'` | black    \n",
    "| `'+'` | plus marker          |        |               | `'w'` | white    \n",
    "| `'x'` | x marker             |        |               |       |          "
   ]
  },
  {
   "cell_type": "markdown",
   "metadata": {
    "colab_type": "text",
    "collapsed": false,
    "deletable": false,
    "editable": false,
    "id": "094WebTb1_-8"
   },
   "source": [
    "#### Example 2\n",
    "\n",
    "The Python commands below plots the same function $y=x^2$ from [example 1](#Example-1) using a red line with a circle marking each point (the `fig` command tells Python to show the figure `fig` again so we can see the affect of the changes). Enter them into the code cell below and execute it to see the result.\n",
    "\n",
    "```Python\n",
    "import numpy as np\n",
    "import matplotlib.pyplot as plt\n",
    "\n",
    "# Generate co-ordinate arrays\n",
    "x = np.linspace(-2, 2, 50)\n",
    "y = x**2\n",
    "\n",
    "# Plot figure\n",
    "fig, ax = plt.subplots()\n",
    "ax.plot(x, y, 'r-o')    # Plot red line with circle markers\n",
    "\n",
    "plt.show()\n",
    "```\n"
   ]
  },
  {
   "cell_type": "code",
   "execution_count": 0,
   "metadata": {
    "colab": {
     "base_uri": "https://localhost:8080/",
     "height": 265
    },
    "colab_type": "code",
    "collapsed": false,
    "deletable": false,
    "editable": true,
    "executionInfo": {
     "elapsed": 1460,
     "status": "ok",
     "timestamp": 1587980299610,
     "user": {
      "displayName": "Jon Shiach",
      "photoUrl": "https://lh3.googleusercontent.com/a-/AOh14Gg5Zyp_bzksR5YWaZRwn4VACXUUvYtqWkv2YE_k6g=s64",
      "userId": "13042916198969597424"
     },
     "user_tz": -60
    },
    "id": "tgVSfU7l1_-8",
    "outputId": "03c7aa3c-77a7-4861-b6a2-1ce1366f8e01"
   },
   "outputs": [
   ],
   "source": [
   ]
  },
  {
   "cell_type": "markdown",
   "metadata": {
    "colab_type": "text",
    "collapsed": false,
    "deletable": false,
    "editable": false,
    "id": "Lg0cZ_T_1__E"
   },
   "source": [
    "---\n",
    "## Changing the axes\n",
    "\n",
    "### Axis scale\n",
    "\n",
    "The axis scale can be adjusted using the `axis` commands ([pyplot.set_xlim help page](https://matplotlib.org/3.2.1/api/_as_gen/matplotlib.pyplot.axis.html))\n",
    "\n",
    "```Python\n",
    "ax.set_xlim(xmin, xmax)\n",
    "ax.set_ylim(ymin, ymax)\n",
    "```\n",
    "\n",
    "where `xmin` and `xmax` are the minimum and maximum value on the $x$-axis (and similar for $y$)."
   ]
  },
  {
   "cell_type": "markdown",
   "metadata": {
    "colab_type": "text",
    "collapsed": false,
    "deletable": false,
    "editable": false,
    "id": "qCIqTV2n1__J"
   },
   "source": [
    "### Setting the aspect ratio\n",
    "We can set the aspect ratio of the plot which controls the height and with of the axes using the `set_aspect` command ([pyplot.set_aspect help page](https://matplotlib.org/3.1.1/api/_as_gen/matplotlib.axes.Axes.set_aspect.html))\n",
    "\n",
    "```Python\n",
    "ax.set_aspect(value)\n",
    "```\n",
    "\n",
    "Here `value` is either `'auto'`, `'equal'` or `num` as described in the table below.\n",
    "\n",
    "| value | description |\n",
    "| -- | -- |\n",
    "|`'auto'` | automatic; fill the position rectangle with data |\n",
    "| `'equal'` | same scaling from data to plot units for $x$ and $y$ |\n",
    "| `num` | a circle will be stretched such that the height is `num` times the width |"
   ]
  },
  {
   "cell_type": "markdown",
   "metadata": {
    "colab_type": "text",
    "collapsed": false,
    "deletable": false,
    "editable": false,
    "id": "3vi9KzTV1__E"
   },
   "source": [
    "#### Example 3\n",
    "The commands below change the axis limits and aspect ratio to the plot from [example 2](#Example-2). Enter them into the code cell below and execute it to see the result.\n",
    "\n",
    "```Python\n",
    "import numpy as np\n",
    "import matplotlib.pyplot as plt\n",
    "\n",
    "# Generate co-ordinate arrays\n",
    "x = np.linspace(-2, 2, 50)\n",
    "y = x**2\n",
    "\n",
    "# Plot figure\n",
    "fig, ax = plt.subplots()\n",
    "ax.plot(x, y, 'r-o')\n",
    "\n",
    "# Configure axes\n",
    "ax.set_xlim(-1, 1)     # set x axis range to [-1, 1]\n",
    "ax.set_ylim(-1, 2)     # set y axis range to [-1, 2]\n",
    "ax.set_aspect('equal') # set aspect ratio to 'equal'\n",
    "\n",
    "plt.show()\n",
    "```"
   ]
  },
  {
   "cell_type": "code",
   "execution_count": 0,
   "metadata": {
    "colab": {
     "base_uri": "https://localhost:8080/",
     "height": 269
    },
    "colab_type": "code",
    "collapsed": false,
    "deletable": false,
    "editable": true,
    "executionInfo": {
     "elapsed": 1385,
     "status": "ok",
     "timestamp": 1587980299611,
     "user": {
      "displayName": "Jon Shiach",
      "photoUrl": "https://lh3.googleusercontent.com/a-/AOh14Gg5Zyp_bzksR5YWaZRwn4VACXUUvYtqWkv2YE_k6g=s64",
      "userId": "13042916198969597424"
     },
     "user_tz": -60
    },
    "id": "SGXY2jH-1__F",
    "outputId": "e73d0e94-19e2-4b7e-f007-b233aca75e0f",
    "scrolled": true
   },
   "outputs": [
   ],
   "source": [
   ]
  },
  {
   "cell_type": "markdown",
   "metadata": {
    "colab_type": "text",
    "collapsed": false,
    "deletable": false,
    "editable": false,
    "id": "SrL-yQX31__N"
   },
   "source": [
    "## Axis labels and title\n",
    "Axis labels and titles can be added to a plot using the `set_xlabel`, `set_ylabel` and `set_title` commands ([set_xlabel help page](https://matplotlib.org/3.2.1/api/_as_gen/matplotlib.axes.Axes.set_xlabel.html), [set_title help page](https://matplotlib.org/3.2.1/api/_as_gen/matplotlib.axes.Axes.set_title.html)).\n",
    "\n",
    "```\n",
    "ax.set_xlabel('x axis label', fontsize=size)\n",
    "ax.set_ylabel('y axis label', fontsize=size)\n",
    "ax.set_title('plot title', fontsize=size)\n",
    "```\n",
    "\n",
    "Where `fontsize=size` is optional and specifies fontsize in pt."
   ]
  },
  {
   "cell_type": "markdown",
   "metadata": {
    "colab_type": "text",
    "collapsed": false,
    "deletable": false,
    "editable": false,
    "id": "tSUwQyos1__O"
   },
   "source": [
    "#### Example 4\n",
    "The following commands add axis labels and title to the plot from [example 2](#Example-2). Enter them into the code cell below and execute it to see the result.\n",
    "\n",
    "```Python\n",
    "import numpy as np\n",
    "import matplotlib.pyplot as plt\n",
    "\n",
    "# Generate co-ordinate arrays\n",
    "x = np.linspace(-2, 2, 50)\n",
    "y = x**2\n",
    "\n",
    "# Plot figure\n",
    "fig, ax = plt.subplots()\n",
    "ax.plot(x, y, 'r-o')\n",
    "\n",
    "# Configure axes\n",
    "ax.set_xlabel('x', fontsize=12)      # x axis label\n",
    "ax.set_ylabel('y', fontsize=12)      # y axis label\n",
    "ax.set_title('y = x^2', fontsize=12) # plot title\n",
    "\n",
    "plt.show()\n",
    "```"
   ]
  },
  {
   "cell_type": "code",
   "execution_count": 0,
   "metadata": {
    "colab": {
     "base_uri": "https://localhost:8080/",
     "height": 295
    },
    "colab_type": "code",
    "collapsed": false,
    "deletable": false,
    "editable": true,
    "executionInfo": {
     "elapsed": 1665,
     "status": "ok",
     "timestamp": 1587980299915,
     "user": {
      "displayName": "Jon Shiach",
      "photoUrl": "https://lh3.googleusercontent.com/a-/AOh14Gg5Zyp_bzksR5YWaZRwn4VACXUUvYtqWkv2YE_k6g=s64",
      "userId": "13042916198969597424"
     },
     "user_tz": -60
    },
    "id": "8Lo9ls0X1__P",
    "outputId": "f1132a77-3b9c-44cb-bdee-a34425148347"
   },
   "outputs": [
   ],
   "source": [
   ]
  },
  {
   "cell_type": "markdown",
   "metadata": {
    "colab_type": "text",
    "collapsed": false,
    "deletable": false,
    "editable": false,
    "id": "kJiblmsF1__Z"
   },
   "source": [
    "## Saving a plot to file\n",
    "\n",
    "We can save a figure to a file so that we can import it into other documents using the `savefig` command ([pyplot.savefig help page](https://matplotlib.org/3.2.1/api/_as_gen/matplotlib.pyplot.savefig.html)).\n",
    "\n",
    "```Python\n",
    "fig.saveas(filename)\n",
    "```\n",
    "\n",
    "Where `filename` includes the extension for the image type used. Most common image formats are supported, e.g., png, jpeg, svg etc., but png (Portable Network Graphics) files are preferred for importing into electronic documents."
   ]
  },
  {
   "cell_type": "markdown",
   "metadata": {
    "colab_type": "text",
    "collapsed": false,
    "deletable": false,
    "editable": false,
    "id": "JCljROy21__a"
   },
   "source": [
    "#### Example 5\n",
    "The commands below produce the same plot from [example 5](#Example-5) and saves the figure `fig` as a png file using the file name `myplot.png`. Enter it into the code cell below and execute it. Check that an image file containing your plot has been produced and open it to see the result.\n",
    "\n",
    "```Python\n",
    "import numpy as np\n",
    "import matplotlib.pyplot as plt\n",
    "\n",
    "# Generate co-ordinate arrays\n",
    "x = np.linspace(-2, 2, 50)\n",
    "y = x**2\n",
    "\n",
    "# Plot figure\n",
    "fig, ax = plt.subplots()\n",
    "ax.plot(x, y, 'r-o')\n",
    "\n",
    "# Configure axes\n",
    "ax.set_xlabel('x', fontsize=12)\n",
    "ax.set_ylabel('y', fontsize=12)\n",
    "ax.set_title('y = x^2', fontsize=12)\n",
    "\n",
    "plt.show()\n",
    "fig.savefig('myplot.png')    # save plot to file\n",
    "```"
   ]
  },
  {
   "cell_type": "code",
   "execution_count": 0,
   "metadata": {
    "colab": {
     "base_uri": "https://localhost:8080/",
     "height": 300
    },
    "colab_type": "code",
    "collapsed": false,
    "deletable": false,
    "editable": true,
    "executionInfo": {
     "elapsed": 569,
     "status": "ok",
     "timestamp": 1587980428714,
     "user": {
      "displayName": "Jon Shiach",
      "photoUrl": "https://lh3.googleusercontent.com/a-/AOh14Gg5Zyp_bzksR5YWaZRwn4VACXUUvYtqWkv2YE_k6g=s64",
      "userId": "13042916198969597424"
     },
     "user_tz": -60
    },
    "id": "yJX85bGg1__a",
    "outputId": "0b4c6bb5-7aa7-4fc1-b374-ebad5a69108a"
   },
   "outputs": [
   ],
   "source": [
   ]
  },
  {
   "cell_type": "markdown",
   "metadata": {
    "colab_type": "text",
    "collapsed": false,
    "deletable": false,
    "editable": false,
    "id": "23Q3D99B1__u"
   },
   "source": [
    "---\n",
    "## Exercise 1\n",
    "\n",
    "1. Reproduce the plot of $y=\\sin(x)$ over the domain $x\\in [-2\\pi, 2\\pi]$ shown below\n",
    "\n",
    "![y=sin(x)](https://github.com/drjonshiach/Python-Programming/blob/master/Images/sinx.png?raw=true)"
   ]
  },
  {
   "cell_type": "code",
   "execution_count": 0,
   "metadata": {
    "colab": {
     "base_uri": "https://localhost:8080/",
     "height": 284
    },
    "colab_type": "code",
    "collapsed": false,
    "deletable": false,
    "editable": true,
    "executionInfo": {
     "elapsed": 2457,
     "status": "ok",
     "timestamp": 1587980300747,
     "user": {
      "displayName": "Jon Shiach",
      "photoUrl": "https://lh3.googleusercontent.com/a-/AOh14Gg5Zyp_bzksR5YWaZRwn4VACXUUvYtqWkv2YE_k6g=s64",
      "userId": "13042916198969597424"
     },
     "user_tz": -60
    },
    "id": "HP3qyDCq1__v",
    "outputId": "fd3c663d-817b-479b-e909-cb358b1928ec"
   },
   "outputs": [
   ],
   "source": [
   ]
  },
  {
   "cell_type": "markdown",
   "metadata": {
    "colab_type": "text",
    "collapsed": false,
    "deletable": false,
    "editable": false,
    "id": "YeANNJv-1__0"
   },
   "source": [
    "2. Produce a plot of the function $y=x^2-3x+2$ over the domain $x\\in [0,10]$."
   ]
  },
  {
   "cell_type": "code",
   "execution_count": 0,
   "metadata": {
    "colab": {
     "base_uri": "https://localhost:8080/",
     "height": 288
    },
    "colab_type": "code",
    "collapsed": false,
    "deletable": false,
    "editable": true,
    "executionInfo": {
     "elapsed": 2437,
     "status": "ok",
     "timestamp": 1587980300748,
     "user": {
      "displayName": "Jon Shiach",
      "photoUrl": "https://lh3.googleusercontent.com/a-/AOh14Gg5Zyp_bzksR5YWaZRwn4VACXUUvYtqWkv2YE_k6g=s64",
      "userId": "13042916198969597424"
     },
     "user_tz": -60
    },
    "id": "5-aaVflL1__0",
    "outputId": "13be9bc9-77ef-40d5-8288-905f618d3375"
   },
   "outputs": [
   ],
   "source": [
   ]
  },
  {
   "cell_type": "markdown",
   "metadata": {
    "colab_type": "text",
    "collapsed": false,
    "deletable": false,
    "editable": false,
    "id": "cSoG53DL1__2"
   },
   "source": [
    "3. Produce a plot of the function $s=2t^3 + 3t^2 - 8t + 6$ over the domain $t\\in [-4,4]$ using a green line. Scale the $s$-axis so that it is in the range $[-50,50]$."
   ]
  },
  {
   "cell_type": "code",
   "execution_count": 0,
   "metadata": {
    "colab": {
     "base_uri": "https://localhost:8080/",
     "height": 282
    },
    "colab_type": "code",
    "collapsed": false,
    "deletable": false,
    "editable": true,
    "executionInfo": {
     "elapsed": 514,
     "status": "ok",
     "timestamp": 1587980324445,
     "user": {
      "displayName": "Jon Shiach",
      "photoUrl": "https://lh3.googleusercontent.com/a-/AOh14Gg5Zyp_bzksR5YWaZRwn4VACXUUvYtqWkv2YE_k6g=s64",
      "userId": "13042916198969597424"
     },
     "user_tz": -60
    },
    "id": "-Mq-9auu1__5",
    "outputId": "14a2b680-e98d-4d9a-db6d-26d96ba98650"
   },
   "outputs": [
   ],
   "source": [
   ]
  },
  {
   "cell_type": "markdown",
   "metadata": {
    "colab_type": "text",
    "collapsed": false,
    "deletable": false,
    "editable": false,
    "id": "7Le9Rprt1__-"
   },
   "source": [
    "---\n",
    "## Multiple plots on the same axes\n",
    "To include multiple plots on the same axis simply add another `plot` command.\n",
    "\n",
    "```\n",
    "ax.plot(x1, y1) # first plot\n",
    "ax.plot(x2, y2) # second plot\n",
    "```"
   ]
  },
  {
   "cell_type": "markdown",
   "metadata": {
    "colab_type": "text",
    "collapsed": false,
    "deletable": false,
    "editable": false,
    "id": "FE62odSO1___"
   },
   "source": [
    "#### Example 6\n",
    "The commands below plots the three functions $y=x^2$, $y=x^3$ and $y=x^4$ over the domain $x\\in[-2,2]$ on the same set of axes. Enter them into the code cell below and execute it to see the result. \n",
    "\n",
    "```Python\n",
    "import numpy as np\n",
    "import matplotlib.pyplot as plt\n",
    "\n",
    "# Generate co-ordinate arrays\n",
    "x = np.linspace(-2, 2, 100)\n",
    "y1 = x**2     # first function\n",
    "y2 = x**3     # second function\n",
    "y3 = x**4     # third function\n",
    "\n",
    "# Plot functions\n",
    "fig, ax = plt.subplots()\n",
    "ax.plot(x, y1, '-r') # first plot\n",
    "ax.plot(x, y2, '-b') # second plot\n",
    "ax.plot(x, y3, '-k') # third plot\n",
    "\n",
    "# Configure axes\n",
    "ax.set_xlabel('x', fontsize=12)\n",
    "ax.set_ylabel('y', fontsize=12)\n",
    "\n",
    "plt.show()\n",
    "```"
   ]
  },
  {
   "cell_type": "code",
   "execution_count": 0,
   "metadata": {
    "colab": {
     "base_uri": "https://localhost:8080/",
     "height": 282
    },
    "colab_type": "code",
    "collapsed": false,
    "deletable": false,
    "editable": true,
    "executionInfo": {
     "elapsed": 609,
     "status": "ok",
     "timestamp": 1587980307630,
     "user": {
      "displayName": "Jon Shiach",
      "photoUrl": "https://lh3.googleusercontent.com/a-/AOh14Gg5Zyp_bzksR5YWaZRwn4VACXUUvYtqWkv2YE_k6g=s64",
      "userId": "13042916198969597424"
     },
     "user_tz": -60
    },
    "id": "wR6eWTgP1___",
    "outputId": "1c136fa2-582c-4a5e-a90b-563eb3f5b1be"
   },
   "outputs": [
   ],
   "source": [
   ]
  },
  {
   "cell_type": "markdown",
   "metadata": {
    "colab_type": "text",
    "collapsed": false,
    "deletable": false,
    "editable": false,
    "id": "ooH4bESC2AAC"
   },
   "source": [
    "## Adding a legend to a plot\n",
    "A legend can be added to a plot using the `legend` command ([pyplot.legend help page](https://matplotlib.org/3.2.1/api/_as_gen/matplotlib.pyplot.legend.html)) but first we need to add a label to each `plot` command.\n",
    "\n",
    "```Python\n",
    "ax.plot(x, y1, label='1st plot label')\n",
    "ax.plot(x, y2, label='2nd plot label')\n",
    "```\n",
    "\n",
    "Once the individual plots have labels associated with them we can add a legend using\n",
    "```Python\n",
    "ax.legend(fontsize=size, loc=location)\n",
    "```\n",
    "\n",
    "Where `fontsize` and `loc` are optional arguments. `location` is a character string from one of `'best'` (places the legend in one of the following nine locations with minimum overlap with the drawn plots), `'uppper left'`, `'upper center`, `upper right'`, `'left'`, `'center'`, `'right'`, `'lower left'`, `'lower center'` and `'lower right'`"
   ]
  },
  {
   "cell_type": "markdown",
   "metadata": {
    "colab_type": "text",
    "collapsed": false,
    "deletable": false,
    "editable": false,
    "id": "MMV_qCCD2AAC"
   },
   "source": [
    "#### Example 7\n",
    "The commands below add a legend to the plot from [example 6](#Example-6). Enter them into the code cell below and execute it to see the result.\n",
    "\n",
    "```Python\n",
    "import numpy as np\n",
    "import matplotlib.pyplot as plt\n",
    "\n",
    "# Generate co-ordinate arrays\n",
    "x = np.linspace(-2, 2, 100)\n",
    "y1 = x**2     # first function\n",
    "y2 = x**3     # second function\n",
    "y3 = x**4     # third function\n",
    "\n",
    "# Plot functions\n",
    "fig, ax = plt.subplots()\n",
    "ax.plot(x, y1, '-r', label='y = x^2') # first plot\n",
    "ax.plot(x, y2, '-b', label='y = x^3') # second plot\n",
    "ax.plot(x, y3, '-k', label='y = x^4') # third plot\n",
    "\n",
    "# Configure axes\n",
    "ax.set_xlabel('x', fontsize=12)\n",
    "ax.set_ylabel('y', fontsize=12)\n",
    "ax.legend()\n",
    "\n",
    "plt.show()\n",
    "```"
   ]
  },
  {
   "cell_type": "code",
   "execution_count": 0,
   "metadata": {
    "colab": {
     "base_uri": "https://localhost:8080/",
     "height": 282
    },
    "colab_type": "code",
    "collapsed": false,
    "deletable": false,
    "editable": true,
    "executionInfo": {
     "elapsed": 2768,
     "status": "ok",
     "timestamp": 1587980301136,
     "user": {
      "displayName": "Jon Shiach",
      "photoUrl": "https://lh3.googleusercontent.com/a-/AOh14Gg5Zyp_bzksR5YWaZRwn4VACXUUvYtqWkv2YE_k6g=s64",
      "userId": "13042916198969597424"
     },
     "user_tz": -60
    },
    "id": "2ZtxgLFI2AAC",
    "outputId": "4b824c82-54bd-434d-cafc-deafc30322a2",
    "scrolled": true
   },
   "outputs": [
   ],
   "source": [
   ]
  },
  {
   "cell_type": "markdown",
   "metadata": {
    "collapsed": false,
    "deletable": false,
    "editable": false
   },
   "source": [
    "Note that in this case the location of the legend in the upper right hand corner overlaps with part of the plot and is not the best location to put the legend."
   ]
  },
  {
   "cell_type": "markdown",
   "metadata": {
    "colab_type": "text",
    "collapsed": false,
    "deletable": false,
    "editable": false,
    "id": "ON2Rb_we2AAH"
   },
   "source": [
    "---\n",
    "## Exercise 2\n",
    "4. Reproduce the plot below of $y=\\sin(x)$ and $y=\\cos(x)$ over the domain $x\\in[-2\\pi, 2\\pi]$ on the same set of axes.\n",
    "\n",
    "![](https://github.com/drjonshiach/Python-Programming/blob/master/Images/sinx_cosx.png?raw=true)"
   ]
  },
  {
   "cell_type": "code",
   "execution_count": 0,
   "metadata": {
    "colab": {
     "base_uri": "https://localhost:8080/",
     "height": 286
    },
    "colab_type": "code",
    "collapsed": false,
    "deletable": false,
    "editable": true,
    "executionInfo": {
     "elapsed": 590,
     "status": "ok",
     "timestamp": 1587980338584,
     "user": {
      "displayName": "Jon Shiach",
      "photoUrl": "https://lh3.googleusercontent.com/a-/AOh14Gg5Zyp_bzksR5YWaZRwn4VACXUUvYtqWkv2YE_k6g=s64",
      "userId": "13042916198969597424"
     },
     "user_tz": -60
    },
    "id": "LRavRf8w2AAI",
    "outputId": "9ffb3352-b560-4f4e-f494-04c733e6b14a"
   },
   "outputs": [
   ],
   "source": [
   ]
  },
  {
   "cell_type": "markdown",
   "metadata": {
    "colab_type": "text",
    "collapsed": false,
    "deletable": false,
    "editable": false,
    "id": "9gj-YgwY2AAL"
   },
   "source": [
    "5. The points on a circle centred at $(c_x,c_y)$ with radius $r$ can be calculated using $(x,y) = (c_x,c_y) + r(\\cos(\\theta), \\sin(\\theta))$ for $\\theta\\in [0,2\\pi]$. Plot four circles centred at $(5, 5)$ with radii $r=1,2,3,4$. Use an `set_aspect` command to display the circles in the correct aspect ratio (i.e., they look like circles and not ellipses)."
   ]
  },
  {
   "cell_type": "code",
   "execution_count": 0,
   "metadata": {
    "colab": {
     "base_uri": "https://localhost:8080/",
     "height": 286
    },
    "colab_type": "code",
    "collapsed": false,
    "deletable": false,
    "editable": true,
    "executionInfo": {
     "elapsed": 532,
     "status": "ok",
     "timestamp": 1587980344805,
     "user": {
      "displayName": "Jon Shiach",
      "photoUrl": "https://lh3.googleusercontent.com/a-/AOh14Gg5Zyp_bzksR5YWaZRwn4VACXUUvYtqWkv2YE_k6g=s64",
      "userId": "13042916198969597424"
     },
     "user_tz": -60
    },
    "id": "MckSNX_J2AAL",
    "outputId": "03b70473-9501-49cd-b519-53e1d7946f38"
   },
   "outputs": [
   ],
   "source": [
   ]
  },
  {
   "cell_type": "markdown",
   "metadata": {
    "colab_type": "text",
    "collapsed": false,
    "deletable": false,
    "editable": false,
    "id": "xA8SMUNl2AAN"
   },
   "source": [
    "## Scatter plots\n",
    "Scatter plots can be produced using the `scatter` command ([pyplot.scatter help page](https://matplotlib.org/3.2.1/api/_as_gen/matplotlib.pyplot.scatter.html))\n",
    "\n",
    "```\n",
    "ax.scatter(x, y, color=[colour], marker=[marker style])\n",
    "```\n",
    "\n",
    "Where `x` and `y` are one-dimensional co-ordinate arrays and `[colour]` and `[marker style]`  are characters ([see Plot Styles section](#plot_styles))"
   ]
  },
  {
   "cell_type": "markdown",
   "metadata": {
    "colab_type": "text",
    "collapsed": false,
    "deletable": false,
    "editable": false,
    "id": "klHemT1Q2AAN"
   },
   "source": [
    "#### Example 8\n",
    "The following commands produce a scatter plot of 100 random points with co-ordinates in the range $x,y\\in[0, 1]$. Enter them into the code cell below and execute it to see the result.\n",
    "\n",
    "```Python\n",
    "import numpy as np\n",
    "import matplotlib.pyplot as plt\n",
    "\n",
    "# Generate co-ordinate arrays\n",
    "x = np.random.rand(100, 1)\n",
    "y = np.random.rand(100, 1)\n",
    "\n",
    "# Plot scatterplot\n",
    "fig, ax = plt.subplots()\n",
    "ax.scatter(x, y, color='r', marker='o')\n",
    "\n",
    "# Configure axes\n",
    "ax.set_xlim(0, 1)\n",
    "ax.set_ylim(0, 1)\n",
    "ax.set_xlabel('x', fontsize=12)\n",
    "ax.set_ylabel('y', fontsize=12)\n",
    "\n",
    "plt.show()\n",
    "```\n"
   ]
  },
  {
   "cell_type": "code",
   "execution_count": 0,
   "metadata": {
    "colab": {
     "base_uri": "https://localhost:8080/",
     "height": 288
    },
    "colab_type": "code",
    "collapsed": false,
    "deletable": false,
    "editable": true,
    "executionInfo": {
     "elapsed": 3428,
     "status": "ok",
     "timestamp": 1587980301908,
     "user": {
      "displayName": "Jon Shiach",
      "photoUrl": "https://lh3.googleusercontent.com/a-/AOh14Gg5Zyp_bzksR5YWaZRwn4VACXUUvYtqWkv2YE_k6g=s64",
      "userId": "13042916198969597424"
     },
     "user_tz": -60
    },
    "id": "PC7BBaBB2AAO",
    "outputId": "dec8340d-d375-41d7-9f2e-1cc535bf5d07"
   },
   "outputs": [
   ],
   "source": [
   ]
  },
  {
   "cell_type": "markdown",
   "metadata": {
    "colab_type": "text",
    "collapsed": false,
    "deletable": false,
    "editable": false,
    "id": "5Z_urgrY2AAQ"
   },
   "source": [
    "---\n",
    "## Exercise 3\n",
    "6. Reproduce the scatter plot shown below using the values of `x` and `y` provided."
   ]
  },
  {
   "cell_type": "code",
   "execution_count": 0,
   "metadata": {
    "colab": {
     "base_uri": "https://localhost:8080/",
     "height": 288
    },
    "colab_type": "code",
    "collapsed": false,
    "deletable": false,
    "editable": true,
    "executionInfo": {
     "elapsed": 3419,
     "status": "ok",
     "timestamp": 1587980301909,
     "user": {
      "displayName": "Jon Shiach",
      "photoUrl": "https://lh3.googleusercontent.com/a-/AOh14Gg5Zyp_bzksR5YWaZRwn4VACXUUvYtqWkv2YE_k6g=s64",
      "userId": "13042916198969597424"
     },
     "user_tz": -60
    },
    "id": "pnL8KJoT2AAQ",
    "outputId": "dc3a9e0e-e50b-4991-f8d0-7bfc3ea98422"
   },
   "outputs": [
   ],
   "source": [
   ]
  },
  {
   "cell_type": "markdown",
   "metadata": {
    "colab_type": "text",
    "collapsed": false,
    "deletable": false,
    "editable": false,
    "id": "DAKLJEbU2AAT"
   },
   "source": [
    "7. We can calculate a line of bets fit for this data using a linear regression model $y=mx+c$ where $m$ is the slope of the line and $c$ is the $y$-intercept. We can rewrite the linear equation $\\mathbf{y}=A\\mathbf{p}$ where $\\mathbf{y} = (y_1, y_2, \\ldots, y_n)^T$, $\\mathbf{p} = (m, c)^T$ and\n",
    "\n",
    "$$A = \\begin{pmatrix} x_1 & 1 \\\\ x_2 & 1 \\\\ \\vdots & \\vdots \\\\ x_n & 1 \\end{pmatrix}.$$\n",
    "\n",
    "We can then solve for $m$ and $c$ using the Numpy command `np.linalg.lstsq` which calculates the [least squares](https://en.wikipedia.org/wiki/Least_squares) solution which minimises the difference between the points $(x_i,y_i)$ and the line $y=mx+c$.\n",
    "```Python\n",
    "m, c = np.linalg.lstsq(A, y, rcond=None)[0]\n",
    "```\n",
    "Calculate the line of best fit for the data from question 6 and add it to your scatter plot."
   ]
  },
  {
   "cell_type": "code",
   "execution_count": 0,
   "metadata": {
    "colab": {
     "base_uri": "https://localhost:8080/",
     "height": 305
    },
    "colab_type": "code",
    "collapsed": false,
    "deletable": false,
    "editable": true,
    "executionInfo": {
     "elapsed": 3740,
     "status": "ok",
     "timestamp": 1587980302239,
     "user": {
      "displayName": "Jon Shiach",
      "photoUrl": "https://lh3.googleusercontent.com/a-/AOh14Gg5Zyp_bzksR5YWaZRwn4VACXUUvYtqWkv2YE_k6g=s64",
      "userId": "13042916198969597424"
     },
     "user_tz": -60
    },
    "id": "JvGUwQ3X2AAT",
    "outputId": "6c92f9f7-77d7-47ad-fc9c-de20c89fec15"
   },
   "outputs": [
   ],
   "source": [
   ]
  },
  {
   "cell_type": "markdown",
   "metadata": {
    "colab_type": "text",
    "collapsed": false,
    "deletable": false,
    "editable": false,
    "id": "Kym3w7TJ2AAX"
   },
   "source": [
    "---\n",
    "## 3D plots\n",
    "\n",
    "To create a 3D plot we first need to create a 3D axis using the `Axes3D` toolkit which is done using the following commands.\n",
    "\n",
    "```Python\n",
    "import matplotlib.pyplot as plt\n",
    "from mpl_toolkits.mplot3d import Axes3D\n",
    "\n",
    "fig = plt.figure()\n",
    "ax = fig.gca(projection='3d')\n",
    "```"
   ]
  },
  {
   "cell_type": "markdown",
   "metadata": {
    "colab_type": "text",
    "collapsed": false,
    "deletable": false,
    "editable": false,
    "id": "BWDsOrdS2AAX"
   },
   "source": [
    "### Surface plot\n",
    "3D surface plots can be generated using the `plot_surface` command ([Axes3D.plot_surface help page](https://matplotlib.org/mpl_toolkits/mplot3d/tutorial.html#surface-plots)).\n",
    "\n",
    "```Python\n",
    "ax.plot_surface(X, Y, Z, cmap='jet', antialiased=False, edgecolor='k', linewidth=0.1)\n",
    "```\n",
    "\n",
    "where `X`, `Y` and `Z` are two-dimensional co-ordinate arrays. The optional arguments are: \n",
    "\n",
    "- `cmap='jet'` applies the `jet` colormap\n",
    "- `antialiased=False` ensures the surface is opaque\n",
    "-  `edgecolor='k'` draws the edges of the polygons that make up the surface\n",
    "- `linewidth=0.1` reduces the width of the edges\n",
    "\n",
    "To produce a surface plot of the bivariate function $z=f(x,y)$ we require $x$ and $y$ co-ordinates in the domain. The `np.meshgrid` command is useful for generating these ([numpy.meshgrid help page](https://numpy.org/doc/stable/reference/generated/numpy.meshgrid.html?highlight=meshgrid#numpy.meshgrid)).\n",
    "\n",
    "```\n",
    "X, Y = np.meshgrid(x co-ordinate array, y co-ordinate array)\n",
    "```"
   ]
  },
  {
   "cell_type": "markdown",
   "metadata": {
    "collapsed": false,
    "deletable": false,
    "editable": false
   },
   "source": [
    "#### Example 9\n",
    "The Python commands below generates two $4\\times 6$ element matrixes `X` and `Y` containing the co-ordinates of points in the domain $\\{(x, y):x, y \\in \\mathbb{R}, 0\\leq x \\leq 5, 0 \\leq y \\leq 6\\}$ using an increment of 1 in the $x$ direction and 2 in the $y$ direction. Enter it into the code cell below and execute it to see the result."
   ]
  },
  {
   "cell_type": "code",
   "execution_count": 0,
   "metadata": {
    "collapsed": false,
    "deletable": false,
    "editable": true
   },
   "outputs": [
   ],
   "source": [
   ]
  },
  {
   "cell_type": "markdown",
   "metadata": {
    "collapsed": false,
    "deletable": false,
    "editable": false
   },
   "source": [
    "#### Example 10\n",
    "The Python code below produces a surface plot of the two-dimensional surface $z=\\sin(x) + \\cos(y)$ over the domain $x,y\\in [0, 4\\pi]$. Enter it into the code cell below and execute it to see the result.\n",
    "\n",
    "```Python\n",
    "from math import *\n",
    "import numpy as np\n",
    "import matplotlib.pyplot as plt\n",
    "from mpl_toolkits.mplot3d import Axes3D\n",
    "\n",
    "# Generate co-ordinate arrays\n",
    "x = np.linspace(0, 4*pi, 50)\n",
    "y = np.linspace(0, 4*pi, 50)\n",
    "X, Y = np.meshgrid(x, y)\n",
    "Z = np.sin(X) + np.cos(Y)\n",
    "\n",
    "# Plot surface\n",
    "fig = plt.figure()\n",
    "ax = fig.gca(projection='3d')\n",
    "ax.plot_surface(X, Y, Z, cmap='jet', antialiased=False, edgecolor='k', linewidth=0.1)\n",
    "\n",
    "# Configure axes\n",
    "ax.set_xlim(0, 4*pi)\n",
    "ax.set_ylim(0, 4*pi)\n",
    "ax.set_zlim(-3, 3)\n",
    "ax.set_xlabel('x')\n",
    "ax.set_ylabel('y')\n",
    "ax.set_zlabel('z')\n",
    "\n",
    "plt.show()\n",
    "```"
   ]
  },
  {
   "cell_type": "code",
   "execution_count": 0,
   "metadata": {
    "colab": {
    },
    "colab_type": "code",
    "collapsed": false,
    "deletable": false,
    "editable": true,
    "id": "UZRUykMK2AAX"
   },
   "outputs": [
   ],
   "source": [
   ]
  },
  {
   "cell_type": "markdown",
   "metadata": {
    "collapsed": false,
    "deletable": false,
    "editable": false
   },
   "source": [
    "### View angle\n",
    "With 3D plots we can control the position of the viewpoint using the `view_init` command\n",
    "\n",
    "```Python\n",
    "ax.view_init(elevation, azimuth)\n",
    "```\n",
    "where `elevation` and `azimuth` are the angles (in degrees) that specify the vertical and horizontal position of the viewpoint relative to the centre of view.\n",
    "\n",
    "<img src=\"https://github.com/drjonshiach/Python-Programming/blob/master/Images/view_angle.png?raw=true\" width=\"400\">"
   ]
  },
  {
   "cell_type": "markdown",
   "metadata": {
    "collapsed": false,
    "deletable": false,
    "editable": false
   },
   "source": [
    "#### Example 11\n",
    "The Python commands below changes the surface plot produced in [example 10](#Example-10) so that it is viewed from the viewpoint with elevation $45^\\circ$ and azimuth $15^\\circ$. Enter it into the code cell below and execute it to see the result.\n",
    "\n",
    "```Python\n",
    "from math import *\n",
    "import numpy as np\n",
    "import matplotlib.pyplot as plt\n",
    "from mpl_toolkits.mplot3d import Axes3D\n",
    "\n",
    "# Generate co-ordinate arrays\n",
    "x = np.linspace(0, 4*pi, 50)\n",
    "y = np.linspace(0, 4*pi, 50)\n",
    "X, Y = np.meshgrid(x, y)\n",
    "Z = np.sin(X) + np.cos(Y)\n",
    "\n",
    "# Plot surface\n",
    "fig = plt.figure()\n",
    "ax = fig.gca(projection='3d')\n",
    "ax.plot_surface(X, Y, Z, cmap='jet', antialiased=False, edgecolor='k', linewidth=0.1)\n",
    "\n",
    "# Configure axes\n",
    "ax.set_xlim(0, 4*pi)\n",
    "ax.set_ylim(0, 4*pi)\n",
    "ax.set_zlim(-3, 3)\n",
    "ax.set_xlabel('x')\n",
    "ax.set_ylabel('y')\n",
    "ax.set_zlabel('z')\n",
    "\n",
    "# Specify viewing position\n",
    "ax.view_init(45, 15)\n",
    "\n",
    "plt.show()\n",
    "```"
   ]
  },
  {
   "cell_type": "code",
   "execution_count": 0,
   "metadata": {
    "collapsed": false,
    "deletable": false,
    "editable": true
   },
   "outputs": [
   ],
   "source": [
   ]
  },
  {
   "cell_type": "markdown",
   "metadata": {
    "collapsed": false,
    "deletable": false,
    "editable": false
   },
   "source": [
    "## Exercise 4\n",
    "8. Reproduce the surface plot below of the function $z=exp(-20((x-0.5)^2 + (y-0.5)^2))$ over the domain $x, y \\in [0, 1]$.\n",
    "\n",
    "![](https://github.com/drjonshiach/Python-Programming/blob/master/Images/surface.png?raw=true)"
   ]
  },
  {
   "cell_type": "code",
   "execution_count": 0,
   "metadata": {
    "collapsed": false,
    "deletable": false,
    "editable": true
   },
   "outputs": [
   ],
   "source": [
   ]
  },
  {
   "cell_type": "markdown",
   "metadata": {
    "collapsed": false,
    "deletable": false,
    "editable": false
   },
   "source": [
    "---\n",
    "## Contour plots\n",
    "Contour plots show points of equal value can be produced using the `contour` command ([pyplot.contour help page](https://matplotlib.org/3.1.1/api/_as_gen/matplotlib.pyplot.contour.html)).\n",
    "\n",
    "```Python\n",
    "ax.contour(X, Y, Z)\n",
    "```"
   ]
  },
  {
   "cell_type": "markdown",
   "metadata": {
    "collapsed": false,
    "deletable": false,
    "editable": false
   },
   "source": [
    "### Example 12\n",
    "The Python commands below produces a contour plot of the same bivariate function used in [example 10](#Example-10). Enter it into the code cell below and execute it to see the result.\n",
    "\n",
    "```Python\n",
    "from math import *\n",
    "import numpy as np\n",
    "import matplotlib.pyplot as plt\n",
    "\n",
    "# Generate co-ordinate arrays\n",
    "x = np.linspace(0, 4*pi, 100)\n",
    "y = np.linspace(0, 4*pi, 100)\n",
    "X, Y = np.meshgrid(x, y)\n",
    "Z = np.sin(X) + np.cos(Y)\n",
    "\n",
    "# Contour plot\n",
    "fig, ax = plt.subplots()\n",
    "ax.contour(X, Y, Z)\n",
    "\n",
    "# Configure axes \n",
    "ax.set_xlim(0, 4*pi)\n",
    "ax.set_ylim(0, 4*pi)\n",
    "ax.set_xlabel('x')\n",
    "ax.set_ylabel('y')\n",
    "\n",
    "plt.show()\n",
    "```"
   ]
  },
  {
   "cell_type": "code",
   "execution_count": 0,
   "metadata": {
    "collapsed": false,
    "deletable": false,
    "editable": true
   },
   "outputs": [
   ],
   "source": [
   ]
  },
  {
   "cell_type": "markdown",
   "metadata": {
    "collapsed": false,
    "deletable": false,
    "editable": false
   },
   "source": [
    "## Exercise 5\n",
    "9. Produce a contour plot of the function $z=(z_1-z_2)^2$ where $z_1=\\exp(-x^2-y^2)$ and $z_2=\\exp(-(x-1)^2-(y-1)^2)$ over the domain $x,y\\in[-2,3]$. "
   ]
  },
  {
   "cell_type": "code",
   "execution_count": 0,
   "metadata": {
    "collapsed": false,
    "deletable": false,
    "editable": true
   },
   "outputs": [
   ],
   "source": [
   ]
  },
  {
   "cell_type": "markdown",
   "metadata": {
    "collapsed": false,
    "deletable": false,
    "editable": false
   },
   "source": [
    "## Image plots\n",
    "Image plots (also known as raster plots) are plots which consist of an array of small squares called pixels. In Python image plots can be produced using the `imshow` commands ([pyplot.imshow help page](https://matplotlib.org/3.2.1/api/_as_gen/matplotlib.pyplot.imshow.html)).\n",
    "\n",
    "```Python\n",
    "plt.imshow(img)\n",
    "```\n",
    "\n",
    "Where `img` is a NumPy array one of the following forms:\n",
    "\n",
    "- A $m\\times n$ array of values;\n",
    "- A $m \\times n \\times 3$ array of [RGB values](https://en.wikipedia.org/wiki/RGB_color_model) either floating point values in the range $[0,1]$ or integers in the range $[0,255]$."
   ]
  },
  {
   "cell_type": "markdown",
   "metadata": {
    "collapsed": false,
    "deletable": false,
    "editable": false
   },
   "source": [
    "#### Example 13\n",
    "The following commands generate a random array of $10\\times 10$ pixels and plots them using the `imshow` command. Enter them into the code cell below and execute it.\n",
    "\n",
    "```Python\n",
    "import numpy as np\n",
    "import matplotlib.pyplot as plt\n",
    "\n",
    "img = np.random.rand(10, 10)\n",
    "\n",
    "imgplot = plt.imshow(img, cmap='jet')\n",
    "```"
   ]
  },
  {
   "cell_type": "markdown",
   "metadata": {
    "collapsed": false,
    "deletable": false,
    "editable": false
   },
   "source": [
    "The optional command `cmap='jet'` applies the `jet` colormap."
   ]
  },
  {
   "cell_type": "code",
   "execution_count": 0,
   "metadata": {
    "collapsed": false,
    "deletable": false,
    "editable": true
   },
   "outputs": [
   ],
   "source": [
   ]
  },
  {
   "cell_type": "markdown",
   "metadata": {
    "collapsed": false,
    "deletable": false,
    "editable": false
   },
   "source": [
    "### Reading an image file into a NumPy array\n",
    "We can read in an image file into $m\\times n \\times 3$ NumPy array using the `imread` command from the `matplotlib.image` library ([image.imread help page](https://matplotlib.org/api/_as_gen/matplotlib.pyplot.imread.html)).\n",
    "\n",
    "```\n",
    "import matplotlib.image as mpimg \n",
    "img = mpimg.imread(filename)\n",
    "```\n",
    "\n",
    "Where `filename` is the name of the image file. This allows us to perform image manipulation operations on the image."
   ]
  },
  {
   "cell_type": "markdown",
   "metadata": {
    "collapsed": false,
    "deletable": false,
    "editable": false
   },
   "source": [
    "#### Example 14\n",
    "The Python commands below reads in the pixel data from this image, determines the size of the image and plots it using the `imshow` command. Enter them into the code cell below and execute it to see the result.\n",
    "\n",
    "```Python\n",
    "import matplotlib.pyplot as plt\n",
    "import matplotlib.image as mpimg\n",
    "\n",
    "# Read in image data\n",
    "img = mpimg.imread('../Images/flower.jpg')\n",
    "\n",
    "# Determine figure size based on the image size\n",
    "dpi = 80\n",
    "height, width, nbands = img.shape\n",
    "figsize = height/float(dpi), width/float(dpi)\n",
    "\n",
    "# Plot image data\n",
    "fig = plt.subplots(figsize=figsize)\n",
    "imgplot = plt.imshow(img)\n",
    "```"
   ]
  },
  {
   "cell_type": "code",
   "execution_count": 0,
   "metadata": {
    "collapsed": false,
    "deletable": false,
    "editable": true,
    "scrolled": true
   },
   "outputs": [
   ],
   "source": [
   ]
  },
  {
   "cell_type": "markdown",
   "metadata": {
    "collapsed": false,
    "deletable": false,
    "editable": false
   },
   "source": [
    "## Exercise 6\n",
    "10. Use two nested `for` loops to generate a $11 \\times 11$ array `X` where the value of each element is the distance from the centre element, i.e.,\n",
    "\n",
    "$$[X]_{ij} = \\sqrt{(i-6)^2 + (j-6)^2}.$$\n",
    "\n",
    "Plot `X` using the `image` command.\n"
   ]
  },
  {
   "cell_type": "code",
   "execution_count": 0,
   "metadata": {
    "collapsed": false,
    "deletable": false,
    "editable": true
   },
   "outputs": [
   ],
   "source": [
   ]
  },
  {
   "cell_type": "markdown",
   "metadata": {
    "collapsed": false,
    "deletable": false,
    "editable": false
   },
   "source": [
    "11. Load the data from the image `Images/central_library.jpg` into a NumPy array, determine the number of pixels in the image and plot the image."
   ]
  },
  {
   "cell_type": "code",
   "execution_count": 0,
   "metadata": {
    "collapsed": false,
    "deletable": false,
    "editable": true
   },
   "outputs": [
   ],
   "source": [
   ]
  },
  {
   "cell_type": "markdown",
   "metadata": {
    "collapsed": false,
    "deletable": false,
    "editable": false
   },
   "source": [
    "<font size=\"2\"><i>Dr Jon Shiach, Department of Computing and Mathematics, Manchester Metropolitan University</i></font>"
   ]
  }
 ],
 "metadata": {
  "colab": {
   "name": "6_plotting_solutions.ipynb",
   "provenance": [
   ],
   "toc_visible": true
  },
  "kernelspec": {
   "display_name": "Python 3 (system-wide)",
   "language": "python",
   "metadata": {
    "cocalc": {
     "description": "Python 3 programming language",
     "priority": 100,
     "url": "https://www.python.org/"
    }
   },
   "name": "python3"
  },
  "language_info": {
   "codemirror_mode": {
    "name": "ipython",
    "version": 3
   },
   "file_extension": ".py",
   "mimetype": "text/x-python",
   "name": "python",
   "nbconvert_exporter": "python",
   "pygments_lexer": "ipython3",
   "version": "3.6.9"
  }
 },
 "nbformat": 4,
 "nbformat_minor": 4
}