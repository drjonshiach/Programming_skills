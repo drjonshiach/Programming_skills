{
 "cells": [
  {
   "cell_type": "markdown",
   "metadata": {
    "colab_type": "text",
    "id": "FS-lFKb6racV",
    "nbgrader": {
     "grade": false,
     "grade_id": "cell-3ea0a9437e4709f9",
     "locked": true,
     "schema_version": 3,
     "solution": false,
     "task": false
    },
    "run_control": {
     "frozen": true
    }
   },
   "source": [
    "# Python Basics\n",
    "\n",
    "Python is a multipurpose programming language that is widely used for scientific computation and data analysis. Python is becomming more popular in the workplace as well as academia so it is a good idea to learn it to enhance your skillset.\n",
    "\n",
    "To download the the materials click on this link: [https://github.com/drjonshiach/Python-materials/archive/master.zip](https://github.com/drjonshiach/Python-materials/archive/master.zip)\n",
    "\n",
    "These materials are designed to be covered in the following order:\n",
    "\n",
    "1. Python basics\n",
    "1. Arrays\n",
    "1. If statements\n",
    "1. Loops\n",
    "1. Functions\n",
    "1. Plotting\n",
    "\n",
    "## Contents\n",
    "\n",
    "1. [Jupyter notebooks](#Jupyter-notebooks)\n",
    "1. [Basic arithmetic operations](#Basic-arithmetic-operations)\n",
    "1. [Mathematical functions](#Mathematical-functions)\n",
    "1. [Variables](#Variables)\n",
    "1. [Formatting your code](#Formatting-your-code)\n",
    "1. [Printing output](#Printing-output)\n",
    "---\n"
   ]
  },
  {
   "cell_type": "markdown",
   "metadata": {
    "colab_type": "text",
    "id": "_RBVZD_-pJYG",
    "nbgrader": {
     "grade": false,
     "grade_id": "cell-93357914f648baca",
     "locked": true,
     "schema_version": 3,
     "solution": false,
     "task": false
    }
   },
   "source": [
    "## Jupyter notebooks\n",
    "The guidance material that you are using now will to teach you how to program in Python using **Jupyter Notebooks**. These are interactive pages which allow you to edit and run Python code within the document without having to use another software package. A Jupyter notebook file has the extension `.ipynb` and can be accessed and edited in a number of differents ways.\n",
    "\n",
    "### Installing Python on your own machine using Anaconda\n",
    "\n",
    "Python is an open source which means it is free to download and use. The easiest way to install Python onto your own machine is to install [Anaconda](https://www.anaconda.com/distribution/) which is a suite of scientific programming tools which is available for most operating systems and is free to download and use. Acaconda includes two programes which we can use to write Python programes: **Jupyter Notebook** and **Spyder**. These materials use Jupyter notebooks to teach Python but Spyder is also useful for writing longer Python programs.\n",
    "\n",
    "To use these materials using Jupyter Notebook installed using Anaconda do the following (**note that Anaconda is already installed on PCs in the Faculty of Science and Engineering and on selected PCs in the library**):\n",
    "\n",
    "1. If you are using a machine on campus go to step 2 else go to https://www.anaconda.com/distribution/, download the appropriate version for your machine and install it following the onscreen prompts.\n",
    "1. Locate and load **Anaconda Navigator**.\n",
    "1. Click on the **Launch** button underneath **Jupyter Notebook**\n",
    "1. A web broswer window will open showing you the file structure of your machine. Navigate to the directory you use to store Jupyter Notebooks and click on the filename to open it.\n",
    "\n",
    "<img src=\"https://github.com/drjonshiach/Python-Programming/blob/master/Images/Aconda_navigator.png?raw=true\" width=600 align='center'>\n",
    "<center>Anaconda Navigator</center>\n",
    "\n",
    "<img src=\"https://github.com/drjonshiach/Python-Programming/blob/master/Images/Jupyter.png?raw=true\" width=600 center='center'>\n",
    "<center>Jupyter Notebook</center>\n",
    "\n",
    "\n",
    "### CoCalc\n",
    "You can also use to use Jupyter Notebooks online using [CoCalc](https://cocalc.com) where you can upload, edit and run notebooks in the cloud. The advantage of using an online platform is that no installation is required and you can run your notebooks from any computer or mobile device with an internet connection. In addition to Jupyter Notebook, CoCalc also has some other software used in scientific computing such as $\\LaTeX$, R and Sage. \n",
    "\n",
    "To use these materials using Jupyter Notebook on CoCalc do the following:\n",
    "\n",
    "1. Go to https://cocalc.com/ and sign up for an account.\n",
    "1. Sign in to your account an click on **Create New Project**, give it a suitable name (e.g., `Jupyter notebooks`) and click **Create Project**.\n",
    "1. Click on **Create or Upload Files...** and upload the Jupyter Notebook files.\n",
    "1. Once the files have been uploaded click on an individual filename to open it.\n",
    "\n",
    "### Google Colab\n",
    "Another online platform which you can use Jupyter Notebooks is [Google Colab](https://colab.research.google.com/).  The use of Google Colab requires you to have a Google account.\n",
    "\n",
    "To use these materials using Google Colab do the following:\n",
    "\n",
    "1. If you already have a Google account go to step 2 else go to [https://myaccount.google.com/](https://myaccount.google.com/) and click on **Create a Google account** and follow the onscreen instructions.\n",
    "1. Go to [https://colab.research.google.com](https://colab.research.google.com);\n",
    "1. Sign in with your Google account details;\n",
    "1. Upload a Jupyter notebook by clicking in **File** and **Upload Notebook**.\n",
    "\n",
    "### Examples and exercises\n",
    "These materials have a number of examples and exercises for you to try out. The examples are designed to demonstrate how the various Python commands work and the exercises give you an opportunity to put into practice what you have learned. The solutions to the exercises can be found on Moodle. In programming, there can be many different ways of achieving the same result, don't worry if your solutions do not exactly match the ones provided.\n",
    "\n",
    "### Using Jupyter notebooks\n",
    "Jupyter notebooks consist of a number of **cells** which can either be a **text cell** like this one which contains text or a **code cell** which contains Python code than can be executed. For example, enter the following command into the code cell below.\n",
    "\n",
    "```Python\n",
    "seconds_in_a_day = 24 * 60 * 60\n",
    "seconds_in_a_day\n",
    "```"
   ]
  },
  {
   "cell_type": "code",
   "execution_count": null,
   "metadata": {
    "colab": {
     "base_uri": "https://localhost:8080/",
     "height": 34
    },
    "colab_type": "code",
    "executionInfo": {
     "elapsed": 965,
     "status": "ok",
     "timestamp": 1588073298298,
     "user": {
      "displayName": "",
      "photoUrl": "",
      "userId": ""
     },
     "user_tz": -60
    },
    "id": "Sh6bw7RbZjpy",
    "nbgrader": {
     "grade": true,
     "grade_id": "cell-466f6a6ec1a1c96a",
     "locked": false,
     "points": 0,
     "schema_version": 3,
     "solution": true,
     "task": false
    },
    "outputId": "1106f913-67c8-49e6-a614-513b69811230"
   },
   "outputs": [],
   "source": []
  },
  {
   "cell_type": "markdown",
   "metadata": {
    "colab_type": "text",
    "id": "OZVHU4UyZtY8",
    "nbgrader": {
     "grade": false,
     "grade_id": "cell-a158e4e43d604ba6",
     "locked": true,
     "schema_version": 3,
     "solution": false,
     "task": false
    },
    "run_control": {
     "frozen": true
    }
   },
   "source": [
    "To execute the code in the above cell, select it with a click and then use the keyboard shortcut **ctrl + enter** or click on the **Run** button. To edit the code, just click the on the cell and start editing.\n",
    "\n",
    "Here we have computed the number of seconds in a day, stored it as a variable and returned the result. Variables that we have defined in one cell can be used in later code cells. For example, enter the following command in the code cell below and executre it.\n",
    "\n",
    "```Python\n",
    "seconds_in_a_week = 7 * seconds_in_a_day\n",
    "seconds_in_a_week\n",
    "```"
   ]
  },
  {
   "cell_type": "code",
   "execution_count": null,
   "metadata": {
    "colab": {
     "base_uri": "https://localhost:8080/",
     "height": 34
    },
    "colab_type": "code",
    "executionInfo": {
     "elapsed": 1912,
     "status": "ok",
     "timestamp": 1588073299251,
     "user": {
      "displayName": "",
      "photoUrl": "",
      "userId": ""
     },
     "user_tz": -60
    },
    "id": "RQSYaL7xZw_F",
    "outputId": "e009bbe5-b2b2-451c-8bf3-4522c1bee7ac"
   },
   "outputs": [],
   "source": []
  },
  {
   "cell_type": "markdown",
   "metadata": {},
   "source": [
    "Note that the code above uses the previously defined variable `seconds_in_a_day` so the code cell where this is defined needs to have been executed prior to this one."
   ]
  },
  {
   "cell_type": "markdown",
   "metadata": {
    "colab_type": "text",
    "id": "w0yMq8ibgfe4",
    "nbgrader": {
     "grade": false,
     "grade_id": "cell-52452ed5e387e332",
     "locked": true,
     "schema_version": 3,
     "solution": false,
     "task": false
    }
   },
   "source": [
    "---\n",
    "## Basic arithmetic operations\n",
    "We will begin with using Python to perform basic arithmetic operations since these form the fundmentals of computer programming (think of your computer as a very powerful calculator). The arithmetic operators used to perform the basic operations are shown in the table below.\n",
    "\n",
    "| Operator | Name           | Python code |\n",
    "|:---------|:---------------|:------------|\n",
    "| $+$      | addition       | `x + y`     |\n",
    "| $-$      | subtration     | `x - y`     |\n",
    "| $\\times$ | multiplication | `x * y`     |\n",
    "| $\\div$   | division       | `x / y`     |\n",
    "| $x^y$    | exponentiation | `x ^ y`    |\n",
    "| $\\text{mod}$   | modulo  (remainder) | `x % y`  |\n",
    "| $\\lfloor x \\div y \\rfloor$ | floor division  | `x // y` |"
   ]
  },
  {
   "cell_type": "markdown",
   "metadata": {
    "colab_type": "text",
    "id": "13b71bjwgrYC",
    "nbgrader": {
     "grade": false,
     "grade_id": "cell-ddebe0e47350a908",
     "locked": true,
     "schema_version": 3,
     "solution": false,
     "task": false
    }
   },
   "source": [
    "#### Example 1\n",
    "The commands below perform different arithmetic operations. Enter them into the code cells below and execute each one.\n",
    "\n",
    "```Python\n",
    "2 + 3\n",
    "```"
   ]
  },
  {
   "cell_type": "code",
   "execution_count": null,
   "metadata": {
    "colab": {
     "base_uri": "https://localhost:8080/",
     "height": 34
    },
    "colab_type": "code",
    "executionInfo": {
     "elapsed": 1907,
     "status": "ok",
     "timestamp": 1588073299252,
     "user": {
      "displayName": "",
      "photoUrl": "",
      "userId": ""
     },
     "user_tz": -60
    },
    "id": "xRtT7JFwZGHd",
    "outputId": "66bcd5c7-ecee-4378-d5df-f3b319e30014"
   },
   "outputs": [],
   "source": []
  },
  {
   "cell_type": "markdown",
   "metadata": {
    "colab_type": "text",
    "id": "P74WlHzivide"
   },
   "source": [
    "```Python\n",
    "2 - 3\n",
    "```"
   ]
  },
  {
   "cell_type": "code",
   "execution_count": null,
   "metadata": {
    "colab": {
     "base_uri": "https://localhost:8080/",
     "height": 34
    },
    "colab_type": "code",
    "executionInfo": {
     "elapsed": 1893,
     "status": "ok",
     "timestamp": 1588073299252,
     "user": {
      "displayName": "",
      "photoUrl": "",
      "userId": ""
     },
     "user_tz": -60
    },
    "id": "9qbQiTE2ZL4H",
    "outputId": "5d9bb278-e67a-48c3-91e5-6aa4d2f88d1a"
   },
   "outputs": [],
   "source": []
  },
  {
   "cell_type": "markdown",
   "metadata": {
    "colab_type": "text",
    "id": "7o96AweGvidh"
   },
   "source": [
    "```Python\n",
    "2 * 3\n",
    "```"
   ]
  },
  {
   "cell_type": "code",
   "execution_count": null,
   "metadata": {
    "colab": {
     "base_uri": "https://localhost:8080/",
     "height": 34
    },
    "colab_type": "code",
    "executionInfo": {
     "elapsed": 1888,
     "status": "ok",
     "timestamp": 1588073299253,
     "user": {
      "displayName": "",
      "photoUrl": "",
      "userId": ""
     },
     "user_tz": -60
    },
    "id": "t8ynU5lIZOuu",
    "outputId": "f480970f-75e2-496c-ea3d-07105adf0310"
   },
   "outputs": [],
   "source": []
  },
  {
   "cell_type": "markdown",
   "metadata": {
    "colab_type": "text",
    "id": "dijHzoV_vidl"
   },
   "source": [
    "```Python\n",
    "2 / 3\n",
    "```"
   ]
  },
  {
   "cell_type": "code",
   "execution_count": null,
   "metadata": {
    "colab": {
     "base_uri": "https://localhost:8080/",
     "height": 34
    },
    "colab_type": "code",
    "executionInfo": {
     "elapsed": 1883,
     "status": "ok",
     "timestamp": 1588073299253,
     "user": {
      "displayName": "",
      "photoUrl": "",
      "userId": ""
     },
     "user_tz": -60
    },
    "id": "8YICCjcoZhC_",
    "outputId": "b36bc144-184f-44f2-b3b3-6cdd549536cf"
   },
   "outputs": [],
   "source": []
  },
  {
   "cell_type": "markdown",
   "metadata": {
    "colab_type": "text",
    "id": "uyLlClh8vidn"
   },
   "source": [
    "```Python\n",
    "2 ** 3\n",
    "```"
   ]
  },
  {
   "cell_type": "code",
   "execution_count": null,
   "metadata": {
    "colab": {
     "base_uri": "https://localhost:8080/",
     "height": 34
    },
    "colab_type": "code",
    "executionInfo": {
     "elapsed": 1881,
     "status": "ok",
     "timestamp": 1588073299254,
     "user": {
      "displayName": "",
      "photoUrl": "",
      "userId": ""
     },
     "user_tz": -60
    },
    "id": "hFzzAzHQZotw",
    "outputId": "cbbd5eea-e1f4-4ba5-e275-0c6c60130f7d"
   },
   "outputs": [],
   "source": []
  },
  {
   "cell_type": "markdown",
   "metadata": {
    "colab_type": "text",
    "id": "zU5w-I3xvidq"
   },
   "source": [
    "```Python\n",
    "10 % 3\n",
    "```"
   ]
  },
  {
   "cell_type": "code",
   "execution_count": null,
   "metadata": {
    "colab": {
     "base_uri": "https://localhost:8080/",
     "height": 34
    },
    "colab_type": "code",
    "executionInfo": {
     "elapsed": 1878,
     "status": "ok",
     "timestamp": 1588073299254,
     "user": {
      "displayName": "",
      "photoUrl": "",
      "userId": ""
     },
     "user_tz": -60
    },
    "id": "vzUue_HvZjSM",
    "outputId": "9efc74a1-9054-4c07-9dad-e446dd51d289"
   },
   "outputs": [],
   "source": []
  },
  {
   "cell_type": "markdown",
   "metadata": {
    "colab_type": "text",
    "id": "ElQJQy9uvidt"
   },
   "source": [
    "```Python\n",
    "11 // 3\n",
    "```"
   ]
  },
  {
   "cell_type": "code",
   "execution_count": null,
   "metadata": {
    "colab": {
     "base_uri": "https://localhost:8080/",
     "height": 34
    },
    "colab_type": "code",
    "executionInfo": {
     "elapsed": 1872,
     "status": "ok",
     "timestamp": 1588073299254,
     "user": {
      "displayName": "",
      "photoUrl": "",
      "userId": ""
     },
     "user_tz": -60
    },
    "id": "Tngky0XDOn1p",
    "outputId": "f3ca9684-41b4-47a0-a595-341111f945da"
   },
   "outputs": [],
   "source": []
  },
  {
   "cell_type": "markdown",
   "metadata": {
    "colab_type": "text",
    "id": "Vvz97cKuOPwa"
   },
   "source": [
    "### Order of precendence of operations\n",
    "Python follows the standard rules for order of operations, i.e., BODMAS: Brackets > Orders (powers) > Division, Multiplication > Addition, Subtraction. Brackets should be used to override this where nececessary. "
   ]
  },
  {
   "cell_type": "markdown",
   "metadata": {},
   "source": [
    "#### Example 2\n",
    "The code cell below calculates the value of the expression $\\dfrac{1}{2+3}$. Enter it into the code cell below and execute it.\n",
    "\n",
    "```Python \n",
    "1/(2 + 3)\n",
    "```"
   ]
  },
  {
   "cell_type": "code",
   "execution_count": null,
   "metadata": {},
   "outputs": [],
   "source": []
  },
  {
   "cell_type": "markdown",
   "metadata": {},
   "source": [
    "Omitting the brackets from this command results in the command below. Enter this into the code cell below and execute it.\n",
    "\n",
    "```Python\n",
    "1/2 + 3\n",
    "```"
   ]
  },
  {
   "cell_type": "code",
   "execution_count": null,
   "metadata": {},
   "outputs": [],
   "source": []
  },
  {
   "cell_type": "markdown",
   "metadata": {},
   "source": [
    "This has calculated the value of $\\dfrac{1}{2}+3$."
   ]
  },
  {
   "cell_type": "markdown",
   "metadata": {
    "colab_type": "text",
    "id": "8gtVlq0gfAq-",
    "run_control": {
     "frozen": true
    }
   },
   "source": [
    "---\n",
    "## Exercise 1\n",
    "1. Use Python commands to evaluate:\n",
    "\n",
    "&emsp; (a) $2-(3+6)$;\n"
   ]
  },
  {
   "cell_type": "code",
   "execution_count": null,
   "metadata": {
    "colab": {
     "base_uri": "https://localhost:8080/",
     "height": 34
    },
    "colab_type": "code",
    "executionInfo": {
     "elapsed": 1871,
     "status": "ok",
     "timestamp": 1588073299255,
     "user": {
      "displayName": "",
      "photoUrl": "",
      "userId": ""
     },
     "user_tz": -60
    },
    "id": "EjN4YmvfaQig",
    "outputId": "95f489fa-e37e-4338-dfe4-41b830cca31a"
   },
   "outputs": [],
   "source": []
  },
  {
   "cell_type": "markdown",
   "metadata": {
    "colab_type": "text",
    "id": "mewWYOeFfdlc"
   },
   "source": [
    " &emsp; (b) $2(5-8(3+6))$;"
   ]
  },
  {
   "cell_type": "code",
   "execution_count": null,
   "metadata": {
    "colab": {
     "base_uri": "https://localhost:8080/",
     "height": 34
    },
    "colab_type": "code",
    "executionInfo": {
     "elapsed": 1868,
     "status": "ok",
     "timestamp": 1588073299255,
     "user": {
      "displayName": "",
      "photoUrl": "",
      "userId": ""
     },
     "user_tz": -60
    },
    "id": "PyMKRZq0aQik",
    "outputId": "a605bb28-1caa-4893-8efe-16b4a8aeef92"
   },
   "outputs": [],
   "source": []
  },
  {
   "cell_type": "markdown",
   "metadata": {
    "colab_type": "text",
    "id": "WORExswsfd5c"
   },
   "source": [
    "&emsp; (c) $2(2-2(3-6+5(4-7)))$;"
   ]
  },
  {
   "cell_type": "code",
   "execution_count": null,
   "metadata": {
    "colab": {
     "base_uri": "https://localhost:8080/",
     "height": 34
    },
    "colab_type": "code",
    "executionInfo": {
     "elapsed": 1863,
     "status": "ok",
     "timestamp": 1588073299256,
     "user": {
      "displayName": "",
      "photoUrl": "",
      "userId": ""
     },
     "user_tz": -60
    },
    "id": "jxDl5DGaaQim",
    "outputId": "4b4099c3-ef73-49b1-ba6c-ac641a4c58e9"
   },
   "outputs": [],
   "source": []
  },
  {
   "cell_type": "markdown",
   "metadata": {
    "colab_type": "text",
    "id": "dQO1st6Ffq1A"
   },
   "source": [
    " &emsp; (d) $\\dfrac{2(5-4(3+8)))}{3(4-(3-5))}$; "
   ]
  },
  {
   "cell_type": "code",
   "execution_count": null,
   "metadata": {
    "colab": {
     "base_uri": "https://localhost:8080/",
     "height": 34
    },
    "colab_type": "code",
    "executionInfo": {
     "elapsed": 1859,
     "status": "ok",
     "timestamp": 1588073299256,
     "user": {
      "displayName": "",
      "photoUrl": "",
      "userId": ""
     },
     "user_tz": -60
    },
    "id": "vESiNHuLaQio",
    "outputId": "a31fccae-8268-474d-a5bb-0baa194363df"
   },
   "outputs": [],
   "source": []
  },
  {
   "cell_type": "markdown",
   "metadata": {
    "colab_type": "text",
    "id": "rx5bRouhfrM1"
   },
   "source": [
    "&emsp; (e) $\\dfrac{2(4^5)}{81-5^2}$."
   ]
  },
  {
   "cell_type": "code",
   "execution_count": null,
   "metadata": {
    "colab": {
     "base_uri": "https://localhost:8080/",
     "height": 34
    },
    "colab_type": "code",
    "executionInfo": {
     "elapsed": 1856,
     "status": "ok",
     "timestamp": 1588073299256,
     "user": {
      "displayName": "",
      "photoUrl": "",
      "userId": ""
     },
     "user_tz": -60
    },
    "id": "jw1mq8htaQiq",
    "outputId": "58274ce5-a338-446b-ed6c-377919ac8ad1"
   },
   "outputs": [],
   "source": []
  },
  {
   "cell_type": "markdown",
   "metadata": {
    "colab_type": "text",
    "id": "oSJCWUT3PBvS",
    "run_control": {
     "frozen": true
    }
   },
   "source": [
    "2. Use a Python command to calculate the remainder of 14151 divided by 571."
   ]
  },
  {
   "cell_type": "code",
   "execution_count": null,
   "metadata": {
    "colab": {
     "base_uri": "https://localhost:8080/",
     "height": 34
    },
    "colab_type": "code",
    "executionInfo": {
     "elapsed": 1854,
     "status": "ok",
     "timestamp": 1588073299257,
     "user": {
      "displayName": "",
      "photoUrl": "",
      "userId": ""
     },
     "user_tz": -60
    },
    "id": "5Ik4uONDPGXQ",
    "outputId": "de5ac8b5-5691-48d2-da5d-35526fe23c5e"
   },
   "outputs": [],
   "source": []
  },
  {
   "cell_type": "markdown",
   "metadata": {
    "colab_type": "text",
    "id": "0_pnayL9O5Ur",
    "run_control": {
     "frozen": true
    }
   },
   "source": [
    "3. Use a Python command to calculate the number of times 1111 can be divided by 14."
   ]
  },
  {
   "cell_type": "code",
   "execution_count": null,
   "metadata": {
    "colab": {
     "base_uri": "https://localhost:8080/",
     "height": 34
    },
    "colab_type": "code",
    "executionInfo": {
     "elapsed": 1852,
     "status": "ok",
     "timestamp": 1588073299257,
     "user": {
      "displayName": "",
      "photoUrl": "",
      "userId": ""
     },
     "user_tz": -60
    },
    "id": "l1BOzjR-O94s",
    "outputId": "ad03a39d-b8b5-4f1f-8945-87bca3deb8e9"
   },
   "outputs": [],
   "source": []
  },
  {
   "cell_type": "markdown",
   "metadata": {
    "colab_type": "text",
    "id": "6NC_0pFFWmZT",
    "run_control": {
     "frozen": true
    }
   },
   "source": [
    "--- \n",
    "## Mathematical functions\n",
    "To calculate common mathematical functions such as square roots, logarithms, trigonometric functions etc. (i.e., similar to the function buttons on a scientific calculator) we need to import the `math` library. A **library** is a collection of Python programs which once imported, we can use in our calculations. To import the `math` library execute the following code cell."
   ]
  },
  {
   "cell_type": "code",
   "execution_count": null,
   "metadata": {
    "colab": {},
    "colab_type": "code",
    "id": "_gl8hORUW1ka"
   },
   "outputs": [],
   "source": [
    "from math import *"
   ]
  },
  {
   "cell_type": "markdown",
   "metadata": {
    "colab_type": "text",
    "id": "vyeAhowpeGvv",
    "run_control": {
     "frozen": true
    }
   },
   "source": [
    "This command will import all mathematical functions from the `math` library allowing us to use them in our calculations. Some of the most common `math` functions are listed in the table below.\n",
    "\n",
    "| Function &nbsp;&nbsp;| Name | Python code |\n",
    "|:---------------|:------------------|:---------------|\n",
    "| $\\sqrt{x}$     | square root       | `sqrt(x)`      |\n",
    "| $\\sin(x)$      | sine *              | `sin(x)`       |\n",
    "| $\\cos(x)$      | cosine            | `cos(x)`       |\n",
    "| $\\tan(x)$      | tangent           | `tan(X)`       |\n",
    "| $\\sin^{-1}(x)$   | arcsin (or inverse $\\sin$) **            | `asin(x)`      |\n",
    "| $e^x$          | exponential       | `exp(x)`       |\n",
    "| $\\ln(x)$       | natural logarithm | `log(x)`       |\n",
    "| $\\log_{a}(x)$  | $\\log$ to the base $a$ | `log(x, a)`    |\n",
    "| $x!$           | factorial         | `factorial(x)` |\n",
    "| $|x|$          | modulus (absolute value) | `abs(x)` |\n",
    "| $\\pi$          | constant $\\pi$    | `pi`          |\n",
    "| $e$ | constant $e$ | `e` |\n",
    "| $\\text{round}(x)$ | round to nearest integer | `round(x)` |\n",
    "| $\\lfloor x \\rfloor$ | round to integer below | `floor(x)` |\n",
    "| $\\lceil x \\rceil$ | round to integer above | `ceil(x)` |\n",
    "\n",
    "\\* Python assumes all angles are in radians.\n",
    "\n",
    "\\** The inverse functions for the other trigonometric ratios are calculated similarly. \n",
    "\n",
    "If we are only only a small number of functions from a library we can import individual functions by listing them after the `import` command, e.g.,\n",
    "\n",
    "``` \n",
    "from math import sqrt, sin\n",
    "```\n",
    "which with only import the `sqrt` and `sin` functions."
   ]
  },
  {
   "cell_type": "markdown",
   "metadata": {
    "colab_type": "text",
    "id": "MK1JQdMVRouo"
   },
   "source": [
    "#### Example 3\n",
    "The commands below make use of `math` library functions. Enter them into the code cells below and execute each one (make sure you have executed the code cell above which imports the `math` library first).\n",
    "\n",
    "```Python\n",
    "sqrt(9)\n",
    "```"
   ]
  },
  {
   "cell_type": "code",
   "execution_count": null,
   "metadata": {
    "colab": {
     "base_uri": "https://localhost:8080/",
     "height": 34
    },
    "colab_type": "code",
    "executionInfo": {
     "elapsed": 1830,
     "status": "ok",
     "timestamp": 1588073299258,
     "user": {
      "displayName": "",
      "photoUrl": "",
      "userId": ""
     },
     "user_tz": -60
    },
    "id": "Jj2ByvJHeadP",
    "outputId": "355b1639-be5e-4fd3-807b-c5228e973179"
   },
   "outputs": [],
   "source": []
  },
  {
   "cell_type": "markdown",
   "metadata": {
    "colab_type": "text",
    "id": "9SAjDXUmvieI"
   },
   "source": [
    "```Python\n",
    "cos(pi/4)\n",
    "```"
   ]
  },
  {
   "cell_type": "code",
   "execution_count": null,
   "metadata": {
    "colab": {
     "base_uri": "https://localhost:8080/",
     "height": 34
    },
    "colab_type": "code",
    "executionInfo": {
     "elapsed": 1825,
     "status": "ok",
     "timestamp": 1588073299258,
     "user": {
      "displayName": "",
      "photoUrl": "",
      "userId": ""
     },
     "user_tz": -60
    },
    "id": "2Jh4BFA6eeiu",
    "outputId": "4873730b-f66c-4a0f-f8ed-910afc9ca50d"
   },
   "outputs": [],
   "source": []
  },
  {
   "cell_type": "markdown",
   "metadata": {
    "colab_type": "text",
    "id": "P7_LzE6RvieL"
   },
   "source": [
    "```Python\n",
    "exp(1)\n",
    "```"
   ]
  },
  {
   "cell_type": "code",
   "execution_count": null,
   "metadata": {
    "colab": {
     "base_uri": "https://localhost:8080/",
     "height": 34
    },
    "colab_type": "code",
    "executionInfo": {
     "elapsed": 1820,
     "status": "ok",
     "timestamp": 1588073299259,
     "user": {
      "displayName": "",
      "photoUrl": "",
      "userId": ""
     },
     "user_tz": -60
    },
    "id": "2gHjiwrxehYP",
    "outputId": "72e73894-a07b-4a1f-beaa-2f7969a90194"
   },
   "outputs": [],
   "source": []
  },
  {
   "cell_type": "markdown",
   "metadata": {
    "colab_type": "text",
    "id": "zyX_VrY_vieN"
   },
   "source": [
    "```Python\n",
    "factorial(6)\n",
    "```"
   ]
  },
  {
   "cell_type": "code",
   "execution_count": null,
   "metadata": {
    "colab": {
     "base_uri": "https://localhost:8080/",
     "height": 34
    },
    "colab_type": "code",
    "executionInfo": {
     "elapsed": 1765,
     "status": "ok",
     "timestamp": 1588073299259,
     "user": {
      "displayName": "",
      "photoUrl": "",
      "userId": ""
     },
     "user_tz": -60
    },
    "id": "NHDPA6jrekA3",
    "outputId": "89318458-f0ca-40fc-ecdf-3713a669034d"
   },
   "outputs": [],
   "source": []
  },
  {
   "cell_type": "markdown",
   "metadata": {
    "colab_type": "text",
    "id": "sbLrr8wWvieQ"
   },
   "source": [
    "```Python\n",
    "round(1.6)\n",
    "```"
   ]
  },
  {
   "cell_type": "code",
   "execution_count": null,
   "metadata": {
    "colab": {
     "base_uri": "https://localhost:8080/",
     "height": 34
    },
    "colab_type": "code",
    "executionInfo": {
     "elapsed": 1761,
     "status": "ok",
     "timestamp": 1588073299259,
     "user": {
      "displayName": "",
      "photoUrl": "",
      "userId": ""
     },
     "user_tz": -60
    },
    "id": "XFzVUF29vieQ",
    "outputId": "5c50d204-a362-43fb-fadd-52ea900597fc"
   },
   "outputs": [],
   "source": []
  },
  {
   "cell_type": "markdown",
   "metadata": {
    "colab_type": "text",
    "id": "-_zSw1UTvieS"
   },
   "source": [
    "```Python\n",
    "floor(1.6)\n",
    "```"
   ]
  },
  {
   "cell_type": "code",
   "execution_count": null,
   "metadata": {
    "colab": {
     "base_uri": "https://localhost:8080/",
     "height": 34
    },
    "colab_type": "code",
    "executionInfo": {
     "elapsed": 1758,
     "status": "ok",
     "timestamp": 1588073299260,
     "user": {
      "displayName": "",
      "photoUrl": "",
      "userId": ""
     },
     "user_tz": -60
    },
    "id": "j5LTMdNtvieT",
    "outputId": "996a60de-49c9-4965-ea8b-a13af9b41abd"
   },
   "outputs": [],
   "source": []
  },
  {
   "cell_type": "markdown",
   "metadata": {
    "colab_type": "text",
    "id": "gNmWDUWCaQi8",
    "run_control": {
     "frozen": true
    }
   },
   "source": [
    "---\n",
    "## Exercise 2\n",
    "\n",
    "4. Use `math` library functions to evaluate:\n",
    "\n",
    "&emsp; (a) $\\sqrt{4+6^5}$;"
   ]
  },
  {
   "cell_type": "code",
   "execution_count": null,
   "metadata": {
    "colab": {
     "base_uri": "https://localhost:8080/",
     "height": 34
    },
    "colab_type": "code",
    "executionInfo": {
     "elapsed": 1754,
     "status": "ok",
     "timestamp": 1588073299260,
     "user": {
      "displayName": "",
      "photoUrl": "",
      "userId": ""
     },
     "user_tz": -60
    },
    "id": "QCyNyMgaaQi9",
    "outputId": "8c5eb7fb-5a9d-4e9c-e2e9-82d81a08e576"
   },
   "outputs": [],
   "source": []
  },
  {
   "cell_type": "markdown",
   "metadata": {
    "colab_type": "text",
    "id": "DPU8qcoJg0Ka"
   },
   "source": [
    " &emsp; (b) $\\cos(0.8)$;"
   ]
  },
  {
   "cell_type": "code",
   "execution_count": null,
   "metadata": {
    "colab": {
     "base_uri": "https://localhost:8080/",
     "height": 34
    },
    "colab_type": "code",
    "executionInfo": {
     "elapsed": 1751,
     "status": "ok",
     "timestamp": 1588073299261,
     "user": {
      "displayName": "",
      "photoUrl": "",
      "userId": ""
     },
     "user_tz": -60
    },
    "id": "DAOETjiaaQjB",
    "outputId": "000df213-2064-449d-f3b8-3aa0a58019fc"
   },
   "outputs": [],
   "source": []
  },
  {
   "cell_type": "markdown",
   "metadata": {
    "colab_type": "text",
    "id": "Xr7Bygtzg0Yw"
   },
   "source": [
    "&emsp; (c) $\\tan^{-1}(-0.4)$;"
   ]
  },
  {
   "cell_type": "code",
   "execution_count": null,
   "metadata": {
    "colab": {
     "base_uri": "https://localhost:8080/",
     "height": 34
    },
    "colab_type": "code",
    "executionInfo": {
     "elapsed": 1746,
     "status": "ok",
     "timestamp": 1588073299261,
     "user": {
      "displayName": "",
      "photoUrl": "",
      "userId": ""
     },
     "user_tz": -60
    },
    "id": "WnJpacbiaQjD",
    "outputId": "f3477c7e-bc58-482e-c76e-bd28d57c9f4c"
   },
   "outputs": [],
   "source": []
  },
  {
   "cell_type": "markdown",
   "metadata": {
    "colab_type": "text",
    "id": "X1T1yg9Ag0mT"
   },
   "source": [
    "&emsp; (d) $\\ln(87.95)$; &emsp;"
   ]
  },
  {
   "cell_type": "code",
   "execution_count": null,
   "metadata": {
    "colab": {
     "base_uri": "https://localhost:8080/",
     "height": 34
    },
    "colab_type": "code",
    "executionInfo": {
     "elapsed": 1740,
     "status": "ok",
     "timestamp": 1588073299261,
     "user": {
      "displayName": "",
      "photoUrl": "",
      "userId": ""
     },
     "user_tz": -60
    },
    "id": "QvKrwk2HaQjF",
    "outputId": "6d440666-1b2e-48e5-c4c3-7d4ea07a224e"
   },
   "outputs": [],
   "source": []
  },
  {
   "cell_type": "markdown",
   "metadata": {
    "colab_type": "text",
    "id": "ZWDHqCqehBmh"
   },
   "source": [
    "&emsp; (e) $\\log_{10}(725.345)$."
   ]
  },
  {
   "cell_type": "code",
   "execution_count": null,
   "metadata": {
    "colab": {
     "base_uri": "https://localhost:8080/",
     "height": 34
    },
    "colab_type": "code",
    "executionInfo": {
     "elapsed": 1736,
     "status": "ok",
     "timestamp": 1588073299262,
     "user": {
      "displayName": "",
      "photoUrl": "",
      "userId": ""
     },
     "user_tz": -60
    },
    "id": "nEVgZpZVhB1U",
    "outputId": "2ad5c093-92de-4c63-dc23-28257aa02956"
   },
   "outputs": [],
   "source": []
  },
  {
   "cell_type": "markdown",
   "metadata": {
    "colab_type": "text",
    "id": "Sn0X31ctaQjH",
    "run_control": {
     "frozen": true
    }
   },
   "source": [
    "---\n",
    "## Variables\n",
    "Variables are used to store information which can be retrieved elsewhere in a computer program. To define a variable in Python we use the equals sign `=`. For example\n",
    "\n",
    "```\n",
    "a = value of a\n",
    "```\n",
    "\n",
    "You can also define multiple variables in one line using\n",
    "\n",
    "```\n",
    "a, b, c = value of a, value of b, value of c\n",
    "```\n",
    "\n",
    "which does the same as\n",
    "```\n",
    "a = value of a\n",
    "b = value of b\n",
    "c = value of c\n",
    "```\n",
    "\n",
    "Once a variable has been defined the information stored in it can be used in other commands in a program."
   ]
  },
  {
   "cell_type": "markdown",
   "metadata": {
    "colab_type": "text",
    "id": "n5aF_wPdhOK6"
   },
   "source": [
    "#### Example 4\n",
    "The commands below define the 3 variables `x`, `y` and `z` and calculates their sum. Enter them into the code cell below and execute.\n",
    "\n",
    "```Python\n",
    "x = 1\n",
    "y = 2.5\n",
    "z = -3\n",
    "\n",
    "x + y + z\n",
    "```\n"
   ]
  },
  {
   "cell_type": "code",
   "execution_count": null,
   "metadata": {
    "colab": {
     "base_uri": "https://localhost:8080/",
     "height": 34
    },
    "colab_type": "code",
    "executionInfo": {
     "elapsed": 1732,
     "status": "ok",
     "timestamp": 1588073299262,
     "user": {
      "displayName": "",
      "photoUrl": "",
      "userId": ""
     },
     "user_tz": -60
    },
    "id": "_XrMaaythQWq",
    "outputId": "9849ef45-7ace-4071-b51c-1fce4c219607"
   },
   "outputs": [],
   "source": []
  },
  {
   "cell_type": "markdown",
   "metadata": {
    "colab_type": "text",
    "id": "NDd9FtrWviep"
   },
   "source": [
    "The commands below perform the same calculates as above but demonstrate how multiple variables can be defined in the same line. Enter them into the code cell below and execute.\n",
    "\n",
    "```Python\n",
    "x, y, z = 1, 2.5, -3\n",
    "\n",
    "x + y + z\n",
    "```"
   ]
  },
  {
   "cell_type": "code",
   "execution_count": null,
   "metadata": {
    "colab": {
     "base_uri": "https://localhost:8080/",
     "height": 34
    },
    "colab_type": "code",
    "executionInfo": {
     "elapsed": 1729,
     "status": "ok",
     "timestamp": 1588073299262,
     "user": {
      "displayName": "",
      "photoUrl": "",
      "userId": ""
     },
     "user_tz": -60
    },
    "id": "fNE-KjtjaQjI",
    "outputId": "8b0319f0-e370-4801-b1d6-1294ee3e9999"
   },
   "outputs": [],
   "source": []
  },
  {
   "cell_type": "markdown",
   "metadata": {
    "colab_type": "text",
    "id": "ROkM1D9QzOY8",
    "run_control": {
     "frozen": true
    }
   },
   "source": [
    "### Variable names\n",
    "A Python variable can have a short name (e.g., `x` and `y`) but sometimes it is advisable to use longer descriptive name so that your program is easier to understand (e.g., `distance`, `seconds_in_a_minute`). Variable names must adhere to the following rules:\n",
    "\n",
    "* A variable name cannot start with a number and must start with a letter or the underscore character\n",
    "* A variable name can only contain alpha-numeric characters and underscores (A-z, 0-9, and _ )\n",
    "* Variable names are case-sensitive (`age`, `Age` and `AGE` are three different variables)"
   ]
  },
  {
   "cell_type": "markdown",
   "metadata": {
    "colab_type": "text",
    "id": "lktqXmjQhdJt"
   },
   "source": [
    "#### Example 5\n",
    "The command below attempts to define a variable that violates Python's variable name rules. Enter it into the command cell and execute it.\n",
    "\n",
    "```Python\n",
    "1st_variable = 2\n",
    "```"
   ]
  },
  {
   "cell_type": "code",
   "execution_count": null,
   "metadata": {
    "colab": {},
    "colab_type": "code",
    "id": "HiSbWW9BfYel"
   },
   "outputs": [],
   "source": []
  },
  {
   "cell_type": "markdown",
   "metadata": {
    "colab_type": "text",
    "id": "aAK83EkOfdqB"
   },
   "source": [
    "Python has returned an error because the first character of this variable is a number. To overcome this we need to use a different variable name, edit the code cell above with the following command and execute it.\n",
    "\n",
    "```Python\n",
    "first_variable = 2\n",
    "```"
   ]
  },
  {
   "cell_type": "markdown",
   "metadata": {
    "colab_type": "text",
    "id": "1ua1qhTigGEK",
    "run_control": {
     "frozen": true
    }
   },
   "source": [
    "---\n",
    "### Types of variables\n",
    "Python uses the following types of variables:\n",
    "\n",
    "* **integers** -  whole numbers, e.g., `1`, `10`, `-20`.\n",
    "* **floating point numbers** - real numbers expressed using an integer part and fractional part separated by a decimal point, e.g., `1.6`, `3.1416`.\n",
    "* **floating point exponential numbers** - numbers expressed in standard form, e.g., `2e4` has the value $2\\times 10^4$.\n",
    "* **complex numbers** - numbers of the form `a+bj` where `a` and `b` are real numbers and `j` is the imaginary number, e.g., `2+3j` (note Python uses `j` to represent the imaginary number and not $i$ which is used in mathematics). Complex numbers are not common in programming and best avoided by treating their real and imaginary parts separately.\n",
    "* **booleans** - values which are either `True` or `False`.\n",
    "* **strings** - seqeuences of letters, spaces and symbols, e.g., `hello world`.\n",
    "\n",
    "When defining a variable, Python will automatically use the appropriate variable type depending on the value assigned."
   ]
  },
  {
   "cell_type": "markdown",
   "metadata": {
    "colab_type": "text",
    "id": "Vn_4UhU4hiet"
   },
   "source": [
    "#### Example 6\n",
    "The commands below define variables using the different types of numbers available. Enter them into the code cells below and execute each one.\n",
    "\n",
    "```Python\n",
    "a = 2 # integer number\n",
    "a\n",
    "```"
   ]
  },
  {
   "cell_type": "code",
   "execution_count": null,
   "metadata": {
    "colab": {
     "base_uri": "https://localhost:8080/",
     "height": 34
    },
    "colab_type": "code",
    "executionInfo": {
     "elapsed": 1687,
     "status": "ok",
     "timestamp": 1588073299263,
     "user": {
      "displayName": "",
      "photoUrl": "",
      "userId": ""
     },
     "user_tz": -60
    },
    "id": "XZ2Dd_NGzOZC",
    "outputId": "0c879fbd-745e-4a2e-daae-c9d5c9ffefec"
   },
   "outputs": [],
   "source": []
  },
  {
   "cell_type": "markdown",
   "metadata": {
    "colab_type": "text",
    "id": "tGaiWBrOviey"
   },
   "source": [
    "```Python\n",
    "b = 1.5 # floating point number\n",
    "b\n",
    "```"
   ]
  },
  {
   "cell_type": "code",
   "execution_count": null,
   "metadata": {
    "colab": {
     "base_uri": "https://localhost:8080/",
     "height": 34
    },
    "colab_type": "code",
    "executionInfo": {
     "elapsed": 1684,
     "status": "ok",
     "timestamp": 1588073299263,
     "user": {
      "displayName": "",
      "photoUrl": "",
      "userId": ""
     },
     "user_tz": -60
    },
    "id": "pllTm-IyzOZE",
    "outputId": "45a35dba-d8b7-4ac8-e6b3-3c1b622b5315"
   },
   "outputs": [],
   "source": []
  },
  {
   "cell_type": "markdown",
   "metadata": {
    "colab_type": "text",
    "id": "xujojCtvvie1"
   },
   "source": [
    "```Python\n",
    "c = 5e9 # floating point exponential number\n",
    "c\n",
    "```"
   ]
  },
  {
   "cell_type": "code",
   "execution_count": null,
   "metadata": {
    "colab": {
     "base_uri": "https://localhost:8080/",
     "height": 34
    },
    "colab_type": "code",
    "executionInfo": {
     "elapsed": 1682,
     "status": "ok",
     "timestamp": 1588073299264,
     "user": {
      "displayName": "",
      "photoUrl": "",
      "userId": ""
     },
     "user_tz": -60
    },
    "id": "2pdT73UraQjT",
    "outputId": "2139a466-c0ea-4a42-f95e-c40f16e1a864"
   },
   "outputs": [],
   "source": []
  },
  {
   "cell_type": "markdown",
   "metadata": {
    "colab_type": "text",
    "id": "4I5JupIDvie3"
   },
   "source": [
    "```Python\n",
    "d = 2 + 3j # complex number\n",
    "d\n",
    "```"
   ]
  },
  {
   "cell_type": "code",
   "execution_count": null,
   "metadata": {
    "colab": {
     "base_uri": "https://localhost:8080/",
     "height": 34
    },
    "colab_type": "code",
    "executionInfo": {
     "elapsed": 1676,
     "status": "ok",
     "timestamp": 1588073299264,
     "user": {
      "displayName": "",
      "photoUrl": "",
      "userId": ""
     },
     "user_tz": -60
    },
    "id": "Q6tSex7EzOZG",
    "outputId": "3103b975-3cc8-4d2e-f7f1-35ea07b0a821"
   },
   "outputs": [],
   "source": []
  },
  {
   "cell_type": "markdown",
   "metadata": {
    "colab_type": "text",
    "id": "5lbiqrPWvie7"
   },
   "source": [
    "```Python\n",
    "e = True\n",
    "e\n",
    "```"
   ]
  },
  {
   "cell_type": "code",
   "execution_count": null,
   "metadata": {
    "colab": {
     "base_uri": "https://localhost:8080/",
     "height": 34
    },
    "colab_type": "code",
    "executionInfo": {
     "elapsed": 1655,
     "status": "ok",
     "timestamp": 1588073299264,
     "user": {
      "displayName": "",
      "photoUrl": "",
      "userId": ""
     },
     "user_tz": -60
    },
    "id": "7e02rH70zOZI",
    "outputId": "ef7e3a66-9f2c-4f60-ce33-f7781f7f2f99"
   },
   "outputs": [],
   "source": []
  },
  {
   "cell_type": "markdown",
   "metadata": {
    "colab_type": "text",
    "id": "AyK0KzNVvie-"
   },
   "source": [
    "```Python\n",
    "f = \"this is a string\" # character string\n",
    "f\n",
    "```"
   ]
  },
  {
   "cell_type": "code",
   "execution_count": null,
   "metadata": {
    "colab": {
     "base_uri": "https://localhost:8080/",
     "height": 34
    },
    "colab_type": "code",
    "executionInfo": {
     "elapsed": 1652,
     "status": "ok",
     "timestamp": 1588073299265,
     "user": {
      "displayName": "",
      "photoUrl": "",
      "userId": ""
     },
     "user_tz": -60
    },
    "id": "DDkjhIK2zOZJ",
    "outputId": "eecee01a-b7ae-497d-e7e6-db7a8afd7572"
   },
   "outputs": [],
   "source": []
  },
  {
   "cell_type": "markdown",
   "metadata": {
    "colab_type": "text",
    "id": "Vk_v2_2ezOZL",
    "run_control": {
     "frozen": true
    }
   },
   "source": [
    "### Converting variable types\n",
    "\n",
    "We can convert some variables to a different type using the following commands.\n",
    "\n",
    "| Conversion | Python command |\n",
    "| :----------| :---------------|\n",
    "| floating point number to an integer | `int(x)` |\n",
    "| integer number to a floating point number | `float(x)` |\n",
    "| integer to a string | `str(x)` |"
   ]
  },
  {
   "cell_type": "markdown",
   "metadata": {
    "colab_type": "text",
    "id": "UJzrF1OClz3g"
   },
   "source": [
    "#### Example 7\n",
    "Execute the following code cells which convert numbers into different types."
   ]
  },
  {
   "cell_type": "code",
   "execution_count": null,
   "metadata": {
    "colab": {
     "base_uri": "https://localhost:8080/",
     "height": 34
    },
    "colab_type": "code",
    "executionInfo": {
     "elapsed": 1649,
     "status": "ok",
     "timestamp": 1588073299265,
     "user": {
      "displayName": "",
      "photoUrl": "",
      "userId": ""
     },
     "user_tz": -60
    },
    "id": "pxVE_QhGzOZN",
    "outputId": "5549f743-1b42-447b-c55d-219d2a4abb64"
   },
   "outputs": [],
   "source": [
    "int(2.5) # convert 2.5 to an integer"
   ]
  },
  {
   "cell_type": "code",
   "execution_count": null,
   "metadata": {
    "colab": {
     "base_uri": "https://localhost:8080/",
     "height": 34
    },
    "colab_type": "code",
    "executionInfo": {
     "elapsed": 1645,
     "status": "ok",
     "timestamp": 1588073299265,
     "user": {
      "displayName": "",
      "photoUrl": "",
      "userId": ""
     },
     "user_tz": -60
    },
    "id": "gh3Ky0PBzOZP",
    "outputId": "ac10e679-6c33-42d9-8bf1-960faf1d9147"
   },
   "outputs": [],
   "source": [
    "float(3) # convert 3 to a floating point number"
   ]
  },
  {
   "cell_type": "code",
   "execution_count": null,
   "metadata": {
    "colab": {
     "base_uri": "https://localhost:8080/",
     "height": 34
    },
    "colab_type": "code",
    "executionInfo": {
     "elapsed": 1643,
     "status": "ok",
     "timestamp": 1588073299266,
     "user": {
      "displayName": "",
      "photoUrl": "",
      "userId": ""
     },
     "user_tz": -60
    },
    "id": "dks2L5rqzOZR",
    "outputId": "4b2f05f4-9eca-4cd1-ed67-680f046e8ed0"
   },
   "outputs": [],
   "source": [
    "str(4) # convert the integer 4 to a character"
   ]
  },
  {
   "cell_type": "markdown",
   "metadata": {
    "colab_type": "text",
    "id": "4jP0YiTeaQjh",
    "run_control": {
     "frozen": true
    }
   },
   "source": [
    "---\n",
    "## Exercise 3\n",
    "5. Write a program that uses variables to convert a temperature in degrees Centigrade $C$ to degrees Fahrenheit $F$ using the formula\n",
    "\n",
    "$$F = \\frac{9}{5}C + 32.$$\n",
    "\n",
    "What is the equivalent temperature in Fahrenheit of 100$^\\circ$C?"
   ]
  },
  {
   "cell_type": "code",
   "execution_count": null,
   "metadata": {
    "colab": {
     "base_uri": "https://localhost:8080/",
     "height": 34
    },
    "colab_type": "code",
    "executionInfo": {
     "elapsed": 1640,
     "status": "ok",
     "timestamp": 1588073299266,
     "user": {
      "displayName": "",
      "photoUrl": "",
      "userId": ""
     },
     "user_tz": -60
    },
    "id": "LG_IXIRCaQji",
    "outputId": "fcc0caed-a754-4bed-b6d6-0075f5976b37"
   },
   "outputs": [],
   "source": []
  },
  {
   "cell_type": "markdown",
   "metadata": {
    "colab_type": "text",
    "id": "wkXRidt2aQjj",
    "run_control": {
     "frozen": true
    }
   },
   "source": [
    "6. Write a program that calculates the length of the hypotenuse of a right-angled triangle given the lengths of the two other sides are 2 and 3."
   ]
  },
  {
   "cell_type": "code",
   "execution_count": null,
   "metadata": {
    "colab": {
     "base_uri": "https://localhost:8080/",
     "height": 34
    },
    "colab_type": "code",
    "executionInfo": {
     "elapsed": 1637,
     "status": "ok",
     "timestamp": 1588073299266,
     "user": {
      "displayName": "",
      "photoUrl": "",
      "userId": ""
     },
     "user_tz": -60
    },
    "id": "jtBV-e_xaQjk",
    "outputId": "5af90709-a4b9-4fae-dd27-8855a0976f56"
   },
   "outputs": [],
   "source": []
  },
  {
   "cell_type": "markdown",
   "metadata": {
    "colab_type": "text",
    "id": "82dKzicNaQjl",
    "run_control": {
     "frozen": true
    }
   },
   "source": [
    "7. Write a program that calculates an angle of a right-angled triangle in degrees given the lengths of the adjacent and opposite sides are 4 and 5."
   ]
  },
  {
   "cell_type": "code",
   "execution_count": null,
   "metadata": {
    "colab": {
     "base_uri": "https://localhost:8080/",
     "height": 34
    },
    "colab_type": "code",
    "executionInfo": {
     "elapsed": 1635,
     "status": "ok",
     "timestamp": 1588073299267,
     "user": {
      "displayName": "",
      "photoUrl": "",
      "userId": ""
     },
     "user_tz": -60
    },
    "id": "Q1efiTTQaQjl",
    "outputId": "6cca61e6-7e8e-4351-d202-b9a2e90b75bc"
   },
   "outputs": [],
   "source": []
  },
  {
   "cell_type": "markdown",
   "metadata": {
    "colab_type": "text",
    "id": "in-gLt2hdevQ"
   },
   "source": [
    "---\n",
    "## Formatting your code\n",
    "It is good programming practice to format your code so that is can be easily read. There are a number things which you can do to help with this."
   ]
  },
  {
   "cell_type": "markdown",
   "metadata": {
    "colab_type": "text",
    "id": "YTyAVTSarU1n"
   },
   "source": [
    "### Spaces\n",
    "In a Python program spaces are ignored, however it is common practice to use spaces either side of the arithmetic operators so that it is more readable. It is also advisable to seperate blocks of code with a blank line."
   ]
  },
  {
   "cell_type": "markdown",
   "metadata": {
    "colab_type": "text",
    "id": "lgJtTbGSTimK"
   },
   "source": [
    "#### Example 8\n",
    "The commands in the two code cells below perform the same operations but the second one is easier to read."
   ]
  },
  {
   "cell_type": "code",
   "execution_count": null,
   "metadata": {
    "colab": {
     "base_uri": "https://localhost:8080/",
     "height": 34
    },
    "colab_type": "code",
    "executionInfo": {
     "elapsed": 2867,
     "status": "ok",
     "timestamp": 1588073300501,
     "user": {
      "displayName": "",
      "photoUrl": "",
      "userId": ""
     },
     "user_tz": -60
    },
    "id": "Uo6UkN55rs4X",
    "outputId": "3cc14d41-ca36-4e20-cc51-68cda4138058"
   },
   "outputs": [],
   "source": [
    "1*2+3*4+5/6"
   ]
  },
  {
   "cell_type": "code",
   "execution_count": null,
   "metadata": {
    "colab": {
     "base_uri": "https://localhost:8080/",
     "height": 34
    },
    "colab_type": "code",
    "executionInfo": {
     "elapsed": 2866,
     "status": "ok",
     "timestamp": 1588073300503,
     "user": {
      "displayName": "",
      "photoUrl": "",
      "userId": ""
     },
     "user_tz": -60
    },
    "id": "9DhHYbJdryQj",
    "outputId": "3f4e1476-d064-4c05-f906-d7ab95a74f10"
   },
   "outputs": [],
   "source": [
    "1*2 + 3*4 + 5/6"
   ]
  },
  {
   "cell_type": "markdown",
   "metadata": {
    "colab_type": "text",
    "id": "HzDtSRE9rSvM"
   },
   "source": [
    "### Comments\n",
    "A **comment** in a program is text that is ignored by Python when the code is executed. Comments are useful to helping people understand the program. Comments in Python can be used in two ways:\n",
    "\n",
    "```Python\n",
    "# this is a comment\n",
    "```\n",
    "\n",
    "Here any text on the same line to the right of `#` is ignored. These are useful for short comments. For longer comments that span multiple lines we can use `\"\"\"` to start and end a comment.\n",
    "\n",
    "```Python\n",
    "\"\"\"this is a comment\n",
    "that spans multiple\n",
    "lines\"\"\"\n",
    "```"
   ]
  },
  {
   "cell_type": "markdown",
   "metadata": {
    "colab_type": "text",
    "id": "y1nWAEtthHtM"
   },
   "source": [
    "#### Example 9\n",
    "The program below makes use of comments. Note how the lines of the program are spaced out to improve the readability of the code. Blank lines are ignored by Python."
   ]
  },
  {
   "cell_type": "code",
   "execution_count": null,
   "metadata": {
    "colab": {
     "base_uri": "https://localhost:8080/",
     "height": 34
    },
    "colab_type": "code",
    "executionInfo": {
     "elapsed": 2860,
     "status": "ok",
     "timestamp": 1588073300503,
     "user": {
      "displayName": "",
      "photoUrl": "",
      "userId": ""
     },
     "user_tz": -60
    },
    "id": "ZI7MMSg6hKNM",
    "outputId": "c596308a-fd85-4dc9-cef6-afb7b04f6e11"
   },
   "outputs": [],
   "source": [
    "\"\"\" This program calculates the\n",
    "sum of two numbers\"\"\"\n",
    "\n",
    "x = 4 # first number\n",
    "y = 7 # second number\n",
    "\n",
    "# Calculate the sum of the two numbers\n",
    "x + y"
   ]
  },
  {
   "cell_type": "markdown",
   "metadata": {
    "colab_type": "text",
    "id": "xYnY1j1OfiKH"
   },
   "source": [
    "### Splitting lines of code\n",
    "To split a line of code we use the `\\` symbol. This is useful when a single line of code uses a lot of horizontal space."
   ]
  },
  {
   "cell_type": "markdown",
   "metadata": {
    "colab_type": "text",
    "id": "TOJoZsLThEja"
   },
   "source": [
    "#### Example 10\n",
    "The program below uses the `\\` symbol to split one of the lines of code over two lines."
   ]
  },
  {
   "cell_type": "code",
   "execution_count": null,
   "metadata": {
    "colab": {
     "base_uri": "https://localhost:8080/",
     "height": 34
    },
    "colab_type": "code",
    "executionInfo": {
     "elapsed": 2857,
     "status": "ok",
     "timestamp": 1588073300503,
     "user": {
      "displayName": "",
      "photoUrl": "",
      "userId": ""
     },
     "user_tz": -60
    },
    "id": "kkv52qQ-gaeT",
    "outputId": "976762d7-1917-4143-a617-6fde5e27a48b"
   },
   "outputs": [],
   "source": [
    "# Define the variables\n",
    "x, y, z = 2, 3, 4\n",
    "\n",
    "# The code below has been split over two lines (rather unnecessarily)\n",
    "sum_xyz = x + y \\\n",
    "+ z\n",
    "\n",
    "# Output the sum of x, y and z\n",
    "sum_xyz"
   ]
  },
  {
   "cell_type": "markdown",
   "metadata": {
    "colab_type": "text",
    "id": "skx2Gd2-e4qW",
    "run_control": {
     "frozen": true
    }
   },
   "source": [
    "## Printing output\n",
    "To output text or the value of a variable within a Python program we can use the `print()` command.\n",
    "```Python\n",
    "print(\"some text\")\n",
    "print(x)\n",
    "```"
   ]
  },
  {
   "cell_type": "markdown",
   "metadata": {
    "colab_type": "text",
    "id": "pv9TeJ-MnfdP"
   },
   "source": [
    "#### Example 11\n",
    "The commands in the code cells below show how the `print` command is used to print character strings and numbers. Execute them to see the results."
   ]
  },
  {
   "cell_type": "code",
   "execution_count": null,
   "metadata": {
    "colab": {
     "base_uri": "https://localhost:8080/",
     "height": 34
    },
    "colab_type": "code",
    "executionInfo": {
     "elapsed": 2852,
     "status": "ok",
     "timestamp": 1588073300504,
     "user": {
      "displayName": "",
      "photoUrl": "",
      "userId": ""
     },
     "user_tz": -60
    },
    "id": "gqPhtigriClw",
    "outputId": "585208f9-5848-43cf-920e-1fe4794235a3"
   },
   "outputs": [],
   "source": [
    "print(\"hello world\")"
   ]
  },
  {
   "cell_type": "code",
   "execution_count": null,
   "metadata": {
    "colab": {
     "base_uri": "https://localhost:8080/",
     "height": 34
    },
    "colab_type": "code",
    "executionInfo": {
     "elapsed": 2846,
     "status": "ok",
     "timestamp": 1588073300504,
     "user": {
      "displayName": "",
      "photoUrl": "",
      "userId": ""
     },
     "user_tz": -60
    },
    "id": "K2fYSSofHnHu",
    "outputId": "5a3003a2-3ac7-4554-efb0-5fd3a8b2b607"
   },
   "outputs": [],
   "source": [
    "x = 2\n",
    "print(x)"
   ]
  },
  {
   "cell_type": "code",
   "execution_count": null,
   "metadata": {
    "colab": {
     "base_uri": "https://localhost:8080/",
     "height": 34
    },
    "colab_type": "code",
    "executionInfo": {
     "elapsed": 2843,
     "status": "ok",
     "timestamp": 1588073300504,
     "user": {
      "displayName": "",
      "photoUrl": "",
      "userId": ""
     },
     "user_tz": -60
    },
    "id": "_b1VSF30Hr4X",
    "outputId": "b95852bf-df04-411f-ca1d-e4fba3df4963"
   },
   "outputs": [],
   "source": [
    "a, b = 2, 3\n",
    "print(a, b)"
   ]
  },
  {
   "cell_type": "markdown",
   "metadata": {
    "colab_type": "text",
    "id": "iGvtJvFMh4o2",
    "run_control": {
     "frozen": true
    }
   },
   "source": [
    "### Printing text and numbers\n",
    "\n",
    "Sometimes it is desirable to be able to output text alongside numbers. This can be done using the following\n",
    "\n",
    "```\n",
    "print(\"some text {} some more text {} even more text\".format(x, y))\n",
    "```\n",
    "\n",
    "The two sets of curly braces `{}` will be replaced with the values of `x` and `y` respectively.\n"
   ]
  },
  {
   "cell_type": "markdown",
   "metadata": {
    "colab_type": "text",
    "id": "fjKSY4sTk4AW"
   },
   "source": [
    "#### Example 12\n",
    "The command in the code cell below uses a `print` statement to combine the printing of text and numbers. Execute the code cell to see the output (if Python returns an error make sure you have executed the first [two code cells](###Google-colab) in this notebook)."
   ]
  },
  {
   "cell_type": "code",
   "execution_count": null,
   "metadata": {
    "colab": {
     "base_uri": "https://localhost:8080/",
     "height": 34
    },
    "colab_type": "code",
    "executionInfo": {
     "elapsed": 2842,
     "status": "ok",
     "timestamp": 1588073300505,
     "user": {
      "displayName": "",
      "photoUrl": "",
      "userId": ""
     },
     "user_tz": -60
    },
    "id": "G3K02eeahdt5",
    "outputId": "268fef1b-4d81-4bcd-c702-8defc7a32441"
   },
   "outputs": [],
   "source": [
    "print(\"There are {} seconds in a day and {} seconds in a week.\".format(seconds_in_a_day, seconds_in_a_week))"
   ]
  },
  {
   "cell_type": "markdown",
   "metadata": {
    "colab_type": "text",
    "id": "zhLWw-LjhyZH",
    "run_control": {
     "frozen": true
    }
   },
   "source": [
    "### Formatted output\n",
    "If we want more control over the output of variables we can use **formatted output**. \n",
    "\n",
    "```Python\n",
    "print(\"{:a.bf}\".format(x))\n",
    "```\n",
    "\n",
    "This will output the value of the floating point number `x` using `a` character spaces (including the decimal point) using `b` decimal places.\n",
    "\n",
    "The `f` in the code above specifies the type of variable we are ouputted. The specifiers for the main variable types are given in the table below.\n",
    "\n",
    "| Variable type | Python code |\n",
    "|:--|:--|\n",
    "| integer number | `d` |\n",
    "| floating point number | `f` |\n",
    "| exponential number | `e` |\n",
    "| character string | `s` |"
   ]
  },
  {
   "cell_type": "markdown",
   "metadata": {
    "colab_type": "text",
    "id": "7HcyoqxTibWf"
   },
   "source": [
    "#### Example 13\n",
    "The commands in the code cells below show the use of formatted output. Execute them to see the result."
   ]
  },
  {
   "cell_type": "code",
   "execution_count": null,
   "metadata": {
    "colab": {
     "base_uri": "https://localhost:8080/",
     "height": 34
    },
    "colab_type": "code",
    "executionInfo": {
     "elapsed": 2839,
     "status": "ok",
     "timestamp": 1588073300505,
     "user": {
      "displayName": "",
      "photoUrl": "",
      "userId": ""
     },
     "user_tz": -60
    },
    "id": "E60dum4UaQjv",
    "outputId": "d75eb1f4-f222-49a2-ccf4-8b009a2aec78"
   },
   "outputs": [],
   "source": [
    "print(\"Then, shalt thou count to {:10d}, no more, no less.\".format(3))"
   ]
  },
  {
   "cell_type": "markdown",
   "metadata": {
    "colab_type": "text",
    "id": "3HhIpGwJaQjw",
    "run_control": {
     "frozen": true
    }
   },
   "source": [
    "Here the integer 3 was printed using 10 character spaces so there are 9 empty spaces to the left of the 3."
   ]
  },
  {
   "cell_type": "code",
   "execution_count": null,
   "metadata": {
    "colab": {
     "base_uri": "https://localhost:8080/",
     "height": 34
    },
    "colab_type": "code",
    "executionInfo": {
     "elapsed": 2838,
     "status": "ok",
     "timestamp": 1588073300506,
     "user": {
      "displayName": "",
      "photoUrl": "",
      "userId": ""
     },
     "user_tz": -60
    },
    "id": "VbfNXNnQj0Po",
    "outputId": "2e3aca8d-240b-4f21-cce3-d0399e4cbd2b"
   },
   "outputs": [],
   "source": [
    "from math import pi\n",
    "\n",
    "print(\"The value of pi to 4 decimal places is {:6.4f}.\".format(pi))"
   ]
  },
  {
   "cell_type": "markdown",
   "metadata": {
    "colab_type": "text",
    "id": "yB7LB2UTqAtH",
    "run_control": {
     "frozen": true
    }
   },
   "source": [
    "Here 6 character spaces were used to display $\\pi$, 1 space for the `3`, 1 space for the decimal point and 4 spaces for the decimal places."
   ]
  },
  {
   "cell_type": "code",
   "execution_count": null,
   "metadata": {
    "colab": {
     "base_uri": "https://localhost:8080/",
     "height": 34
    },
    "colab_type": "code",
    "executionInfo": {
     "elapsed": 2835,
     "status": "ok",
     "timestamp": 1588073300506,
     "user": {
      "displayName": "",
      "photoUrl": "",
      "userId": ""
     },
     "user_tz": -60
    },
    "id": "wo__QtUwaQjy",
    "outputId": "892a2658-c4a4-49f2-87e7-c05b1ed0c099"
   },
   "outputs": [],
   "source": [
    "print(\"The speed of light is {:0.2e} m/s.\".format(2.9979e8))"
   ]
  },
  {
   "cell_type": "markdown",
   "metadata": {
    "colab_type": "text",
    "id": "JgZJJQmpaQjz",
    "run_control": {
     "frozen": true
    }
   },
   "source": [
    "Here the number $2.9979\\times 10^{8}$ was printed to 2 decimal places using the minimum number of spaces required due to the 0 after the colon."
   ]
  },
  {
   "cell_type": "code",
   "execution_count": null,
   "metadata": {
    "colab": {
     "base_uri": "https://localhost:8080/",
     "height": 34
    },
    "colab_type": "code",
    "executionInfo": {
     "elapsed": 2830,
     "status": "ok",
     "timestamp": 1588073300506,
     "user": {
      "displayName": "",
      "photoUrl": "",
      "userId": ""
     },
     "user_tz": -60
    },
    "id": "jqI-AfMjaQjz",
    "outputId": "cec29347-6810-4307-9066-13aa92bd3430"
   },
   "outputs": [],
   "source": [
    "name = \"Andrew Wiles\"\n",
    "year = 1995\n",
    "\n",
    "print(\"Fermat's last theorem was proven by {:20s} in {}.\".format(name, year))"
   ]
  },
  {
   "cell_type": "markdown",
   "metadata": {
    "colab_type": "text",
    "id": "DULymZc5aQj0",
    "run_control": {
     "frozen": true
    }
   },
   "source": [
    "Here the character string `\"Andrew Wiles\"` was printed using 20 character spaces. Note that the unused spaces appear after the string.\n",
    "\n",
    "Note that often it takes a bit of trial and error to get the right spacings in your program. Don't be afraid to experiment with your code."
   ]
  },
  {
   "cell_type": "markdown",
   "metadata": {
    "colab_type": "text",
    "id": "6nk86Pf_nqqC"
   },
   "source": [
    "### Printing multiple lines\n",
    "It is possible to print multiple lines with a single print statement using the command `\\n` which moves to the next line."
   ]
  },
  {
   "cell_type": "markdown",
   "metadata": {
    "colab_type": "text",
    "id": "tBuygcOToD28"
   },
   "source": [
    "#### Example 14\n",
    "The command in the code cell below uses a single `print` statement to print text over multiple lines. Execute it to see the result."
   ]
  },
  {
   "cell_type": "code",
   "execution_count": null,
   "metadata": {
    "colab": {
     "base_uri": "https://localhost:8080/",
     "height": 136
    },
    "colab_type": "code",
    "executionInfo": {
     "elapsed": 2828,
     "status": "ok",
     "timestamp": 1588073300507,
     "user": {
      "displayName": "",
      "photoUrl": "",
      "userId": ""
     },
     "user_tz": -60
    },
    "id": "Jln3T0mGoGmM",
    "outputId": "f94a59b5-eb1b-4c8c-e5e1-8ddb606b5b4c"
   },
   "outputs": [],
   "source": [
    "print(\"This text \\nis printed\\n\\non multiple lines \\n\\n\\nusing a single print command.\")"
   ]
  },
  {
   "cell_type": "markdown",
   "metadata": {
    "colab_type": "text",
    "id": "ygDOgEGIoh61"
   },
   "source": [
    "### Suppressing the carriage return\n",
    "By default Python moves to the next line on completion of a print command. To suppress this we can use the following\n",
    "\n",
    "```Python\n",
    "print(\"some text\", end=\"\")\n",
    "```"
   ]
  },
  {
   "cell_type": "markdown",
   "metadata": {
    "colab_type": "text",
    "id": "MimEhl5wo9zo"
   },
   "source": [
    "#### Example 15\n",
    "The commands in the code cell below shows how the use of `end=\"\"` suppresses the carriage return. Execute it to see the result."
   ]
  },
  {
   "cell_type": "code",
   "execution_count": null,
   "metadata": {
    "colab": {
     "base_uri": "https://localhost:8080/",
     "height": 34
    },
    "colab_type": "code",
    "executionInfo": {
     "elapsed": 2824,
     "status": "ok",
     "timestamp": 1588073300507,
     "user": {
      "displayName": "",
      "photoUrl": "",
      "userId": ""
     },
     "user_tz": -60
    },
    "id": "9Whd4IbFpAC0",
    "outputId": "52d633aa-fda1-4a82-b267-f2fdf2cb74e8"
   },
   "outputs": [],
   "source": [
    "print(\"This text \", end=\"\")\n",
    "print(\"is printed on the \", end=\"\")\n",
    "print(\"some line using multiple print statements\")"
   ]
  },
  {
   "cell_type": "markdown",
   "metadata": {
    "colab_type": "text",
    "id": "SWMyS_3NlC9K"
   },
   "source": [
    "### Printing long lines of text\n",
    "The `\\` command can come in useful to split up a `print()` comand when you are printing long lines of text."
   ]
  },
  {
   "cell_type": "markdown",
   "metadata": {
    "colab_type": "text",
    "id": "ffQElbLplMMr"
   },
   "source": [
    "#### Example 16\n",
    "The command in the code cell below shows have we can use the `\\` symbol to print long lines of text using a single `print` command. Execute it to see the result."
   ]
  },
  {
   "cell_type": "code",
   "execution_count": null,
   "metadata": {
    "colab": {
     "base_uri": "https://localhost:8080/",
     "height": 34
    },
    "colab_type": "code",
    "executionInfo": {
     "elapsed": 2822,
     "status": "ok",
     "timestamp": 1588073300508,
     "user": {
      "displayName": "",
      "photoUrl": "",
      "userId": ""
     },
     "user_tz": -60
    },
    "id": "xQWK9hM4lLev",
    "outputId": "2a1ef75c-2108-4d5e-d159-7f793a843577"
   },
   "outputs": [],
   "source": [
    "print(\"some text, \" \\\n",
    "      \"some more text in the same print command.\")"
   ]
  },
  {
   "cell_type": "markdown",
   "metadata": {
    "colab_type": "text",
    "id": "SW5Tz4FnlCD8"
   },
   "source": [
    "---\n",
    "## Exercise 4\n",
    "\n",
    "8. Output the value of $e$ to 20 decimal places"
   ]
  },
  {
   "cell_type": "code",
   "execution_count": null,
   "metadata": {
    "colab": {
     "base_uri": "https://localhost:8080/",
     "height": 34
    },
    "colab_type": "code",
    "executionInfo": {
     "elapsed": 2816,
     "status": "ok",
     "timestamp": 1588073300508,
     "user": {
      "displayName": "",
      "photoUrl": "",
      "userId": ""
     },
     "user_tz": -60
    },
    "id": "oWfHWJqgaQj1",
    "outputId": "5ea3602c-3099-45c0-b0b0-b67ea377b4d0"
   },
   "outputs": [],
   "source": []
  },
  {
   "cell_type": "markdown",
   "metadata": {
    "colab_type": "text",
    "id": "O1u7yNOZZCJs",
    "run_control": {
     "frozen": true
    }
   },
   "source": [
    "9. Write a program that uses the formula below to calculate the monthly repayments and total value of a mortgage of £100,000 taken out over 20 years at a fixed annual interest rate of 5%. \n",
    "\n",
    "$$C = \\frac{rP}{1-(1+r)^{-N}}$$\n",
    "\n",
    "$C$ is the monthly repayment amount, $r$ is the monthly interest rate, $P$ is the amount borrowed, $N$ is the number of monthly repayments. \n",
    "Use `print` commands to output the loan amount, the duration of the mortgage, the annual interest rate, the monthly repayments and total value of the mortgage."
   ]
  },
  {
   "cell_type": "code",
   "execution_count": null,
   "metadata": {
    "colab": {
     "base_uri": "https://localhost:8080/",
     "height": 51
    },
    "colab_type": "code",
    "executionInfo": {
     "elapsed": 2814,
     "status": "ok",
     "timestamp": 1588073300509,
     "user": {
      "displayName": "",
      "photoUrl": "",
      "userId": ""
     },
     "user_tz": -60
    },
    "id": "bhQ_APeEZMlW",
    "outputId": "1488c0b9-4b3f-44e6-9c46-03ee7a1620e0"
   },
   "outputs": [],
   "source": []
  },
  {
   "cell_type": "markdown",
   "metadata": {
    "colab_type": "text",
    "id": "rloRmMIALFOu",
    "run_control": {
     "frozen": true
    }
   },
   "source": [
    "10. Write a Python program that calculates the number of years, days and minutes that are in 1 billion seconds. Output the answers in a single meaningful sentence.\n",
    "\n",
    "Hint: The `x // y` and `x % y` commands will come in useful here."
   ]
  },
  {
   "cell_type": "code",
   "execution_count": null,
   "metadata": {
    "colab": {
     "base_uri": "https://localhost:8080/",
     "height": 34
    },
    "colab_type": "code",
    "executionInfo": {
     "elapsed": 2811,
     "status": "ok",
     "timestamp": 1588073300509,
     "user": {
      "displayName": "",
      "photoUrl": "",
      "userId": ""
     },
     "user_tz": -60
    },
    "id": "qX8Cu8YSLJcm",
    "outputId": "5145a864-a083-47bf-ff22-fbcb6c125ab0"
   },
   "outputs": [],
   "source": []
  },
  {
   "cell_type": "markdown",
   "metadata": {
    "colab_type": "text",
    "id": "5ho2XgiSp9bb"
   },
   "source": [
    "11. Use suitable `print()` and `math` library commands to produce the following table where each value is printed using 8 character spaces and 4 decimal places.\n",
    "\n",
    "```\n",
    "    x    |  sqrt(x) |  exp(x)  |   ln(x)  |  cos(x)\n",
    "------------------------------------------------------\n",
    "  1.0000 |   1.0000 |   2.7183 |   0.0000 |   0.5403\n",
    "  2.0000 |   1.4142 |   7.3891 |   0.6931 |  -0.4161\n",
    "  5.0000 |   2.2361 | 148.4132 |   1.6094 |   0.2837\n",
    "```"
   ]
  },
  {
   "cell_type": "code",
   "execution_count": null,
   "metadata": {
    "colab": {
     "base_uri": "https://localhost:8080/",
     "height": 102
    },
    "colab_type": "code",
    "executionInfo": {
     "elapsed": 2809,
     "status": "ok",
     "timestamp": 1588073300510,
     "user": {
      "displayName": "",
      "photoUrl": "",
      "userId": ""
     },
     "user_tz": -60
    },
    "id": "87NLAk4-qSVA",
    "outputId": "9a606b27-313d-49c8-b9ae-088bfaa0e481"
   },
   "outputs": [],
   "source": []
  },
  {
   "cell_type": "markdown",
   "metadata": {
    "colab_type": "text",
    "id": "toAZGQt2Kw4_"
   },
   "source": [
    "<font size=\"2\"><i>Dr Jon Shiach, Department of Computing and Mathematics, Manchester Metropolitan University</i></font>"
   ]
  }
 ],
 "metadata": {
  "celltoolbar": "Create Assignment",
  "colab": {
   "collapsed_sections": [],
   "name": "Copy of 1_python_basics_solutions.ipynb",
   "provenance": [
    {
     "file_id": "https://github.com/drjonshiach/Python-Programming/blob/master/1_python_basics_solutions.ipynb",
     "timestamp": 1588073603850
    }
   ],
   "toc_visible": true
  },
  "kernelspec": {
   "display_name": "Python 3",
   "language": "python",
   "name": "python3"
  },
  "language_info": {
   "codemirror_mode": {
    "name": "ipython",
    "version": 3
   },
   "file_extension": ".py",
   "mimetype": "text/x-python",
   "name": "python",
   "nbconvert_exporter": "python",
   "pygments_lexer": "ipython3",
   "version": "3.7.4"
  }
 },
 "nbformat": 4,
 "nbformat_minor": 1
}
