{
  "nbformat": 4,
  "nbformat_minor": 0,
  "metadata": {
    "colab": {
      "name": "1_python_basics_solutions.ipynb",
      "provenance": [],
      "collapsed_sections": [],
      "toc_visible": true
    },
    "kernelspec": {
      "display_name": "Python 3",
      "language": "python",
      "name": "python3"
    },
    "language_info": {
      "codemirror_mode": {
        "name": "ipython",
        "version": 3
      },
      "file_extension": ".py",
      "mimetype": "text/x-python",
      "name": "python",
      "nbconvert_exporter": "python",
      "pygments_lexer": "ipython3",
      "version": "3.7.4"
    }
  },
  "cells": [
    {
      "cell_type": "markdown",
      "metadata": {
        "colab_type": "text",
        "id": "FS-lFKb6racV",
        "run_control": {
          "frozen": true
        }
      },
      "source": [
        "# Python Basics\n",
        "\n",
        "Python is a multipurpose programming language that is widely used for scientific computation and data analysis. Python is becomming more popular in the workplace as well as academia so it is a good idea to learn it to enhance your skillset.\n",
        "\n",
        "## Contents\n",
        "\n",
        "1. [Jupyter notebooks](#Jupyter-notebooks)\n",
        "1. [Basic arithmetic operations](#Basic-arithmetic-operations)\n",
        "1. [Mathematical functions](#Mathematical-functions)\n",
        "1. [Variables](#Variables)\n",
        "1. [Formatting your code](#Formatting-your-code)\n",
        "1. [Printing output](#Printing-output)\n",
        "---\n"
      ]
    },
    {
      "cell_type": "markdown",
      "metadata": {
        "colab_type": "text",
        "id": "_RBVZD_-pJYG"
      },
      "source": [
        "## Jupyter notebooks\n",
        "The guidance material that you are using now will to teach you how to program in Python using **Jupyter Notebooks**. These are interactive pages which allow you to edit and run Python code within the document without having to use another software package. A Jupyter notebook file has the extension `.ipynb` and can be accessed and edited in a number of differents ways.\n",
        "\n",
        "These materials are designed to be covered in the following order:\n",
        "\n",
        "1. Python basics\n",
        "1. Arrays\n",
        "1. If statements\n",
        "1. Loops\n",
        "1. Functions\n",
        "1. Plotting\n",
        "\n",
        "### Google Colab\n",
        "One method you can use to use Jupyter is using [Google Colab](https://colab.research.google.com/) which is an online platform that allows you to upload, edit and run notebooks in the cloud. The advantage of using Google Colab is that no installation is required and you can run your notebooks from any computer or mobile device. The use of Google Colab requires you to have a Google account.\n",
        "\n",
        "To use these materials using Google Colab do the following:\n",
        "\n",
        "1. Go to [https://colab.research.google.com](https://colab.research.google.com);\n",
        "1. Sign in with your Google account details;\n",
        "1. Upload a Jupyter notebook by clicking in 'File' and 'Upload Notebook'\n",
        "\n",
        "Jupyter notebooks consist of a number of **cells** which can either be a **text cell** like this one which contains text or a **code cell** which contains Python code than can be executed. For example, enter the following command into the code cell below.\n",
        "\n",
        "```Python\n",
        "seconds_in_a_day = 24 * 60 * 60\n",
        "seconds_in_a_day\n",
        "```"
      ]
    },
    {
      "cell_type": "code",
      "metadata": {
        "colab_type": "code",
        "id": "Sh6bw7RbZjpy",
        "colab": {}
      },
      "source": [
        "seconds_in_a_day = 24 * 60 * 60\n",
        "seconds_in_a_day"
      ],
      "execution_count": 0,
      "outputs": []
    },
    {
      "cell_type": "markdown",
      "metadata": {
        "colab_type": "text",
        "id": "OZVHU4UyZtY8",
        "run_control": {
          "frozen": true
        }
      },
      "source": [
        "To execute the code in the above cell, select it with a click and then use the keyboard shortcut ctrl + enter. To edit the code, just click the on the cell and start editing.\n",
        "\n",
        "Here we have computed the number of seconds in a day, stored it as a variable and returned the result. Variables that we have defined in one cell can be used in later code cells. For example, enter the following command in the code cell below and executre it.\n",
        "\n",
        "```Python\n",
        "seconds_in_a_week = 7 * seconds_in_a_day\n",
        "seconds_in_a_week\n",
        "```"
      ]
    },
    {
      "cell_type": "code",
      "metadata": {
        "colab_type": "code",
        "id": "RQSYaL7xZw_F",
        "colab": {}
      },
      "source": [
        "seconds_in_a_week = 7 * seconds_in_a_day\n",
        "seconds_in_a_week"
      ],
      "execution_count": 0,
      "outputs": []
    },
    {
      "cell_type": "markdown",
      "metadata": {
        "colab_type": "text",
        "id": "H-2tyFYnfVW0"
      },
      "source": [
        "Note that the code above uses the previously defined variable `seconds_in_a_day` so the code cell where this is defined needs to have been executed prior to this one."
      ]
    },
    {
      "cell_type": "markdown",
      "metadata": {
        "colab_type": "text",
        "id": "zuuyzTwevidY"
      },
      "source": [
        "### CoCalc\n",
        "Another online platform for running Jupyter notebooks and Python programs is [CoCalc](https://cocalc.com). This is similar to Google Colab where you can upload and run notebooks in the cloud. In addition to Jupyter, CoCalc also has some other software used in scientific computing such as LaTeX, R and Sage. \n",
        "\n",
        "https://cocalc.com/"
      ]
    },
    {
      "cell_type": "markdown",
      "metadata": {
        "colab_type": "text",
        "id": "43rbcxWCaQiJ",
        "run_control": {
          "frozen": true
        }
      },
      "source": [
        "### Installing Python on your own machine\n",
        "\n",
        "Python is an open source which means it is free to download and use. The easiest way to install Python onto your own machine is to install [Anaconda](https://www.anaconda.com/distribution/) which is a suite of scientific programming tools which is available for most operating systems and is free to download and use. To download and install Anaconda onto your own machine click on the link below.\n",
        "\n",
        "https://www.anaconda.com/distribution/\n",
        "\n",
        "Acaconda includes two programes which we can use to write Python programes: **Jupyter Notebook** and **Spyder**. These materials use Jupyter notebooks to teach Python but Spyder is useful for writing longer Python programs."
      ]
    },
    {
      "cell_type": "markdown",
      "metadata": {
        "colab_type": "text",
        "id": "e-DfaeiwvidZ"
      },
      "source": [
        "### Examples and exercises\n",
        "These materials have a number of examples and exercises for you to try out. The examples, similar to the ones above, a designed to demonstrate how the various Python commands work. The exercises give you an opportunity to put into practice what you have learned. The solutions to the exercises can be found on Moodle. In programming, there can be many different ways of achieving the same result, don't worry if your solutions do not exactly match the ones provided.\n"
      ]
    },
    {
      "cell_type": "markdown",
      "metadata": {
        "colab_type": "text",
        "id": "w0yMq8ibgfe4"
      },
      "source": [
        "---\n",
        "## Basic arithmetic operations\n",
        "We will begin with using Python to perform basic arithmetic operations since these form the fundmentals of computer programming (think of your computer as a very powerful calculator). The arithmetic operators used to perform the basic operations are shown in the table below.\n",
        "\n",
        "| Operator | Name           | Python code |\n",
        "|:---------|:---------------|:------------|\n",
        "| $+$      | addition       | `x + y`     |\n",
        "| $-$      | subtration     | `x - y`     |\n",
        "| $\\times$ | multiplication | `x * y`     |\n",
        "| $\\div$   | division       | `x / y`     |\n",
        "| $x^y$    | exponentiation | `x  y`    |\n",
        "| $\\text{mod}$   | modulo  (remainder) | `x % y`  |\n",
        "| $\\lfloor x \\div y \\rfloor$ | floor division  | `x // y` |"
      ]
    },
    {
      "cell_type": "markdown",
      "metadata": {
        "colab_type": "text",
        "id": "13b71bjwgrYC"
      },
      "source": [
        "#### Example 1\n",
        "Enter the following Python commands into the code cells below and execute them (select a code cell and press ctrl + enter to execute it).\n",
        "\n",
        "```Python\n",
        "2 + 3\n",
        "```"
      ]
    },
    {
      "cell_type": "code",
      "metadata": {
        "colab_type": "code",
        "id": "xRtT7JFwZGHd",
        "colab": {}
      },
      "source": [
        "2 + 3"
      ],
      "execution_count": 0,
      "outputs": []
    },
    {
      "cell_type": "markdown",
      "metadata": {
        "colab_type": "text",
        "id": "P74WlHzivide"
      },
      "source": [
        "```Python\n",
        "2 - 3\n",
        "```"
      ]
    },
    {
      "cell_type": "code",
      "metadata": {
        "colab_type": "code",
        "id": "9qbQiTE2ZL4H",
        "colab": {}
      },
      "source": [
        "2 - 3"
      ],
      "execution_count": 0,
      "outputs": []
    },
    {
      "cell_type": "markdown",
      "metadata": {
        "colab_type": "text",
        "id": "7o96AweGvidh"
      },
      "source": [
        "```Python\n",
        "2 * 3\n",
        "```"
      ]
    },
    {
      "cell_type": "code",
      "metadata": {
        "colab_type": "code",
        "id": "t8ynU5lIZOuu",
        "colab": {}
      },
      "source": [
        "2 * 3"
      ],
      "execution_count": 0,
      "outputs": []
    },
    {
      "cell_type": "markdown",
      "metadata": {
        "colab_type": "text",
        "id": "dijHzoV_vidl"
      },
      "source": [
        "```Python\n",
        "2 / 3\n",
        "```"
      ]
    },
    {
      "cell_type": "code",
      "metadata": {
        "colab_type": "code",
        "id": "8YICCjcoZhC_",
        "colab": {}
      },
      "source": [
        "2 / 3"
      ],
      "execution_count": 0,
      "outputs": []
    },
    {
      "cell_type": "markdown",
      "metadata": {
        "colab_type": "text",
        "id": "uyLlClh8vidn"
      },
      "source": [
        "```Python\n",
        "2 ** 3\n",
        "```"
      ]
    },
    {
      "cell_type": "code",
      "metadata": {
        "colab_type": "code",
        "id": "hFzzAzHQZotw",
        "colab": {}
      },
      "source": [
        "2 ** 3"
      ],
      "execution_count": 0,
      "outputs": []
    },
    {
      "cell_type": "markdown",
      "metadata": {
        "colab_type": "text",
        "id": "zU5w-I3xvidq"
      },
      "source": [
        "```Python\n",
        "10 % 3\n",
        "```"
      ]
    },
    {
      "cell_type": "code",
      "metadata": {
        "colab_type": "code",
        "id": "vzUue_HvZjSM",
        "colab": {}
      },
      "source": [
        "11 % 3"
      ],
      "execution_count": 0,
      "outputs": []
    },
    {
      "cell_type": "markdown",
      "metadata": {
        "colab_type": "text",
        "id": "ElQJQy9uvidt"
      },
      "source": [
        "```Python\n",
        "11 // 3\n",
        "```"
      ]
    },
    {
      "cell_type": "code",
      "metadata": {
        "colab_type": "code",
        "id": "Tngky0XDOn1p",
        "colab": {}
      },
      "source": [
        "11 // 3"
      ],
      "execution_count": 0,
      "outputs": []
    },
    {
      "cell_type": "markdown",
      "metadata": {
        "colab_type": "text",
        "id": "Vvz97cKuOPwa"
      },
      "source": [
        "### Order of precendence of operations\n",
        "Python follows the standard rules for order of operations, i.e., BODMAS: Brackets > Orders (powers) > Division, Multiplication > Addition, Subtraction.\n",
        "\n",
        "Brackets should be used to override this where nececessary. To calculate $\\dfrac{a}{b + c}$ we would use\n",
        "\n",
        "```Python\n",
        "a/(b + c)\n",
        "```\n",
        "\n",
        "If we were to omit the brackets, i.e.,\n",
        "\n",
        "```Python\n",
        "a/b + c\n",
        "```\n",
        "\n",
        "this would evaluate $\\dfrac{a}{b}+c$."
      ]
    },
    {
      "cell_type": "markdown",
      "metadata": {
        "colab_type": "text",
        "id": "8gtVlq0gfAq-",
        "run_control": {
          "frozen": true
        }
      },
      "source": [
        "---\n",
        "## Exercise 1\n",
        "1. Use Python commands to evaluate:\n",
        "\n",
        "&emsp; (a) $2-(3+6)$;\n"
      ]
    },
    {
      "cell_type": "code",
      "metadata": {
        "colab_type": "code",
        "id": "EjN4YmvfaQig",
        "colab": {}
      },
      "source": [
        "2 - (3 + 6)"
      ],
      "execution_count": 0,
      "outputs": []
    },
    {
      "cell_type": "markdown",
      "metadata": {
        "colab_type": "text",
        "id": "mewWYOeFfdlc"
      },
      "source": [
        " &emsp; (b) $2(5-8(3+6))$;"
      ]
    },
    {
      "cell_type": "code",
      "metadata": {
        "colab_type": "code",
        "id": "PyMKRZq0aQik",
        "colab": {}
      },
      "source": [
        "2*(5 - 8*(3 + 6))"
      ],
      "execution_count": 0,
      "outputs": []
    },
    {
      "cell_type": "markdown",
      "metadata": {
        "colab_type": "text",
        "id": "WORExswsfd5c"
      },
      "source": [
        "&emsp; (c) $2(2-2(3-6+5(4-7)))$;"
      ]
    },
    {
      "cell_type": "code",
      "metadata": {
        "colab_type": "code",
        "id": "jxDl5DGaaQim",
        "colab": {}
      },
      "source": [
        "2*(2 - 2*(3 - 6 + 5*(4 - 7)))"
      ],
      "execution_count": 0,
      "outputs": []
    },
    {
      "cell_type": "markdown",
      "metadata": {
        "colab_type": "text",
        "id": "dQO1st6Ffq1A"
      },
      "source": [
        " &emsp; (d) $\\dfrac{2(5-4(3+8)))}{3(4-(3-5))}$; "
      ]
    },
    {
      "cell_type": "code",
      "metadata": {
        "colab_type": "code",
        "id": "vESiNHuLaQio",
        "colab": {}
      },
      "source": [
        "2*(5 - 4*(3 + 8))/(3*(4 - (3 - 5)))"
      ],
      "execution_count": 0,
      "outputs": []
    },
    {
      "cell_type": "markdown",
      "metadata": {
        "colab_type": "text",
        "id": "rx5bRouhfrM1"
      },
      "source": [
        "&emsp; (e) $\\dfrac{2(4^5)}{81-5^2}$."
      ]
    },
    {
      "cell_type": "code",
      "metadata": {
        "colab_type": "code",
        "id": "jw1mq8htaQiq",
        "colab": {}
      },
      "source": [
        "2*4**5/(81 - 5**2)"
      ],
      "execution_count": 0,
      "outputs": []
    },
    {
      "cell_type": "markdown",
      "metadata": {
        "colab_type": "text",
        "id": "oSJCWUT3PBvS",
        "run_control": {
          "frozen": true
        }
      },
      "source": [
        "2. Use a Python command to calculate the remainder of 14151 divided by 571."
      ]
    },
    {
      "cell_type": "code",
      "metadata": {
        "colab_type": "code",
        "id": "5Ik4uONDPGXQ",
        "colab": {}
      },
      "source": [
        "14151 % 571"
      ],
      "execution_count": 0,
      "outputs": []
    },
    {
      "cell_type": "markdown",
      "metadata": {
        "colab_type": "text",
        "id": "0_pnayL9O5Ur",
        "run_control": {
          "frozen": true
        }
      },
      "source": [
        "3. Use a Python command to calculate the number of times 1111 can be divided by 14."
      ]
    },
    {
      "cell_type": "code",
      "metadata": {
        "colab_type": "code",
        "id": "l1BOzjR-O94s",
        "colab": {}
      },
      "source": [
        "1111 // 14"
      ],
      "execution_count": 0,
      "outputs": []
    },
    {
      "cell_type": "markdown",
      "metadata": {
        "colab_type": "text",
        "id": "6NC_0pFFWmZT",
        "run_control": {
          "frozen": true
        }
      },
      "source": [
        "--- \n",
        "## Mathematical functions\n",
        "To calculate common mathematical functions such as square roots, logarithms, trigonometric functions etc. (i.e., similar to the function buttons on a scientific calculator) we need to import the `math` library. A **library** is a collection of Python programs which once imported, we can use in our calculations. To import the `math` library execute the following command."
      ]
    },
    {
      "cell_type": "code",
      "metadata": {
        "colab_type": "code",
        "id": "_gl8hORUW1ka",
        "colab": {}
      },
      "source": [
        "from math import *"
      ],
      "execution_count": 0,
      "outputs": []
    },
    {
      "cell_type": "markdown",
      "metadata": {
        "colab_type": "text",
        "id": "vyeAhowpeGvv",
        "run_control": {
          "frozen": true
        }
      },
      "source": [
        "This command will import all mathematical functions from the `math` library allowing us to use them in our calculations. Some of the most common `math` functions are listed in the table below.\n",
        "\n",
        "| Function &nbsp;&nbsp;| Name | Python code |\n",
        "|:---------------|:------------------|:---------------|\n",
        "| $\\sqrt{x}$     | square root       | `sqrt(x)`      |\n",
        "| $\\sin(x)$      | sine *              | `sin(x)`       |\n",
        "| $\\cos(x)$      | cosine            | `cos(x)`       |\n",
        "| $\\tan(x)$      | tangent           | `tan(X)`       |\n",
        "| $\\sin^{-1}(x)$   | arcsin (or inverse $\\sin$) **            | `asin(x)`      |\n",
        "| $e^x$          | exponential       | `exp(x)`       |\n",
        "| $\\ln(x)$       | natural logarithm | `log(x)`       |\n",
        "| $\\log_{a}(x)$  | $\\log$ to the base $a$ | `log(x, a)`    |\n",
        "| $x!$           | factorial         | `factorial(x)` |\n",
        "| $\\pi$          | constant $\\pi$    | `pi`          |\n",
        "| $e$ | constant $e$ | `e` |\n",
        "| $\\text{round}(x)$ | round to nearest integer | `round(x)` |\n",
        "| $\\lfloor x \\rfloor$ | round to integer below | `floor(x)` |\n",
        "| $\\lceil x \\rceil$ | round to integer above | `ceil(x)` |\n",
        "\n",
        "\\* Python assumes all angles are in radians.\n",
        "\n",
        "\\** The inverse functions for the other trigonometric ratios are calculated similarly. "
      ]
    },
    {
      "cell_type": "markdown",
      "metadata": {
        "colab_type": "text",
        "id": "MK1JQdMVRouo"
      },
      "source": [
        "#### Example 2\n",
        "Enter the following Python commands into the code cells below and execute (make sure you have executed the code cell above first).\n",
        "\n",
        "```Python\n",
        "sqrt(9)\n",
        "```"
      ]
    },
    {
      "cell_type": "code",
      "metadata": {
        "colab_type": "code",
        "id": "Jj2ByvJHeadP",
        "colab": {}
      },
      "source": [
        "sqrt(9)"
      ],
      "execution_count": 0,
      "outputs": []
    },
    {
      "cell_type": "markdown",
      "metadata": {
        "colab_type": "text",
        "id": "9SAjDXUmvieI"
      },
      "source": [
        "```Python\n",
        "cos(pi/4)\n",
        "```"
      ]
    },
    {
      "cell_type": "code",
      "metadata": {
        "colab_type": "code",
        "id": "2Jh4BFA6eeiu",
        "colab": {}
      },
      "source": [
        "cos(pi/4)"
      ],
      "execution_count": 0,
      "outputs": []
    },
    {
      "cell_type": "markdown",
      "metadata": {
        "colab_type": "text",
        "id": "P7_LzE6RvieL"
      },
      "source": [
        "```Python\n",
        "exp(1)\n",
        "```"
      ]
    },
    {
      "cell_type": "code",
      "metadata": {
        "colab_type": "code",
        "id": "2gHjiwrxehYP",
        "colab": {}
      },
      "source": [
        "exp(1)"
      ],
      "execution_count": 0,
      "outputs": []
    },
    {
      "cell_type": "markdown",
      "metadata": {
        "colab_type": "text",
        "id": "zyX_VrY_vieN"
      },
      "source": [
        "```Python\n",
        "factorial(6)\n",
        "```"
      ]
    },
    {
      "cell_type": "code",
      "metadata": {
        "colab_type": "code",
        "id": "NHDPA6jrekA3",
        "colab": {}
      },
      "source": [
        "factorial(6)"
      ],
      "execution_count": 0,
      "outputs": []
    },
    {
      "cell_type": "markdown",
      "metadata": {
        "colab_type": "text",
        "id": "sbLrr8wWvieQ"
      },
      "source": [
        "```Python\n",
        "round(1.6)\n",
        "```"
      ]
    },
    {
      "cell_type": "code",
      "metadata": {
        "colab_type": "code",
        "id": "XFzVUF29vieQ",
        "colab": {}
      },
      "source": [
        "round(1.6)"
      ],
      "execution_count": 0,
      "outputs": []
    },
    {
      "cell_type": "markdown",
      "metadata": {
        "colab_type": "text",
        "id": "-_zSw1UTvieS"
      },
      "source": [
        "```Python\n",
        "floor(1.6)\n",
        "```"
      ]
    },
    {
      "cell_type": "code",
      "metadata": {
        "colab_type": "code",
        "id": "j5LTMdNtvieT",
        "colab": {}
      },
      "source": [
        "floor(1.6)"
      ],
      "execution_count": 0,
      "outputs": []
    },
    {
      "cell_type": "markdown",
      "metadata": {
        "colab_type": "text",
        "id": "gNmWDUWCaQi8",
        "run_control": {
          "frozen": true
        }
      },
      "source": [
        "---\n",
        "## Exercise 2\n",
        "\n",
        "4. Use `math` library functions to evaluate:\n",
        "\n",
        "&emsp; (a) $\\sqrt{4+6^5}$;"
      ]
    },
    {
      "cell_type": "code",
      "metadata": {
        "colab_type": "code",
        "id": "QCyNyMgaaQi9",
        "colab": {}
      },
      "source": [
        "sqrt(4 + 6**5)"
      ],
      "execution_count": 0,
      "outputs": []
    },
    {
      "cell_type": "markdown",
      "metadata": {
        "colab_type": "text",
        "id": "DPU8qcoJg0Ka"
      },
      "source": [
        " &emsp; (b) $\\cos(0.8)$;"
      ]
    },
    {
      "cell_type": "code",
      "metadata": {
        "colab_type": "code",
        "id": "DAOETjiaaQjB",
        "colab": {}
      },
      "source": [
        "cos(0.8)"
      ],
      "execution_count": 0,
      "outputs": []
    },
    {
      "cell_type": "markdown",
      "metadata": {
        "colab_type": "text",
        "id": "Xr7Bygtzg0Yw"
      },
      "source": [
        "&emsp; (c) $\\tan^{-1}(-0.4)$;"
      ]
    },
    {
      "cell_type": "code",
      "metadata": {
        "colab_type": "code",
        "id": "WnJpacbiaQjD",
        "colab": {}
      },
      "source": [
        "atan(-0.4)"
      ],
      "execution_count": 0,
      "outputs": []
    },
    {
      "cell_type": "markdown",
      "metadata": {
        "colab_type": "text",
        "id": "X1T1yg9Ag0mT"
      },
      "source": [
        "&emsp; (d) $\\ln(87.95)$; &emsp;"
      ]
    },
    {
      "cell_type": "code",
      "metadata": {
        "colab_type": "code",
        "id": "QvKrwk2HaQjF",
        "colab": {}
      },
      "source": [
        "log(87.95)"
      ],
      "execution_count": 0,
      "outputs": []
    },
    {
      "cell_type": "markdown",
      "metadata": {
        "colab_type": "text",
        "id": "ZWDHqCqehBmh"
      },
      "source": [
        "&emsp; (e) $\\log_{10}(725.345)$."
      ]
    },
    {
      "cell_type": "code",
      "metadata": {
        "colab_type": "code",
        "id": "nEVgZpZVhB1U",
        "colab": {}
      },
      "source": [
        "log(725.345, 10)"
      ],
      "execution_count": 0,
      "outputs": []
    },
    {
      "cell_type": "markdown",
      "metadata": {
        "colab_type": "text",
        "id": "Sn0X31ctaQjH",
        "run_control": {
          "frozen": true
        }
      },
      "source": [
        "---\n",
        "## Variables\n",
        "Variables are used to store information which can be retrieved elsewhere in a computer program. To define a variable in Python we use the equals sign `=`. For example\n",
        "\n",
        "```Python\n",
        "a = value of a\n",
        "```\n",
        "\n",
        "You can also define multiple variables in one line using\n",
        "\n",
        "```Python\n",
        "a, b, c = value of a, value of b, value of c\n",
        "```\n",
        "\n",
        "which does the same as\n",
        "```Python\n",
        "a = value of a\n",
        "b = value of b\n",
        "c = value of c\n",
        "```\n",
        "\n",
        "Once a variable has been defined the information stored in it can be used in other commands in a program."
      ]
    },
    {
      "cell_type": "markdown",
      "metadata": {
        "colab_type": "text",
        "id": "n5aF_wPdhOK6"
      },
      "source": [
        "#### Example 3\n",
        "Enter the following Python commands into the code cell below and execute.\n",
        "\n",
        "```Python\n",
        "x = 1\n",
        "y = 2.5\n",
        "z = -3\n",
        "\n",
        "x + y + z\n",
        "```\n"
      ]
    },
    {
      "cell_type": "code",
      "metadata": {
        "colab_type": "code",
        "id": "_XrMaaythQWq",
        "colab": {}
      },
      "source": [
        "x = 1\n",
        "y = 2.5\n",
        "z = -3\n",
        "\n",
        "x + y + z"
      ],
      "execution_count": 0,
      "outputs": []
    },
    {
      "cell_type": "markdown",
      "metadata": {
        "colab_type": "text",
        "id": "NDd9FtrWviep"
      },
      "source": [
        "Enter the following Python commands into the code cell below and execute. Note that this performs the same operations as the code cell above.\n",
        "\n",
        "```Python\n",
        "x, y, z = 1, 2.5, -3\n",
        "\n",
        "x + y + z\n",
        "```"
      ]
    },
    {
      "cell_type": "code",
      "metadata": {
        "colab_type": "code",
        "id": "fNE-KjtjaQjI",
        "colab": {}
      },
      "source": [
        "x, y, z = 1, 2.5, -3\n",
        "\n",
        "x + y + z"
      ],
      "execution_count": 0,
      "outputs": []
    },
    {
      "cell_type": "markdown",
      "metadata": {
        "colab_type": "text",
        "id": "ROkM1D9QzOY8",
        "run_control": {
          "frozen": true
        }
      },
      "source": [
        "### Variable names\n",
        "A Python variable can have a short name (e.g., `x` and `y`) but sometimes it is advisable to use longer descriptive name so that your program is easier to understand (e.g., `distance`, `seconds_in_a_minute`). Variable names must adhere to the following rules:\n",
        "\n",
        "* A variable name cannot start with a number and must start with a letter or the underscore character\n",
        "* A variable name can only contain alpha-numeric characters and underscores (A-z, 0-9, and _ )\n",
        "* Variable names are case-sensitive (`age`, `Age` and `AGE` are three different variables)"
      ]
    },
    {
      "cell_type": "markdown",
      "metadata": {
        "colab_type": "text",
        "id": "lktqXmjQhdJt"
      },
      "source": [
        "#### Example 4\n",
        "If we tried to execute the following code in a code cell Python would return an error due to the variable name not being valid.\n",
        "\n",
        "```Python\n",
        "1st_variable = 2\n",
        "```\n",
        "\n",
        "To overcome this we need to use a different variable name, e.g.,\n",
        "\n",
        "```Python\n",
        "first_variable = 2\n",
        "```"
      ]
    },
    {
      "cell_type": "markdown",
      "metadata": {
        "colab_type": "text",
        "id": "1ua1qhTigGEK",
        "run_control": {
          "frozen": true
        }
      },
      "source": [
        "---\n",
        "### Types of variables\n",
        "Python uses the following types of variables:\n",
        "\n",
        "* **integers** -  whole numbers, e.g., `1`, `10`, `-20`.\n",
        "* **floating point numbers** - real numbers expressed using an integer part and fractional part separated by a decimal point, e.g., `1.6`, `3.1416`.\n",
        "* **floating point exponential numbers** - numbers expressed in standard form, e.g., `2e4` has the value $2\\times 10^4$.\n",
        "* **complex numbers** - numbers of the form `a+bj` where `a` and `b` are real numbers and `j` is the imaginary number, e.g., `2+3j` (note Python uses `j` to represent the imaginary number and not $i$ which is used in mathematics). Complex numbers are not common in programming and best avoided by treating their real and imaginary parts separately.\n",
        "* **booleans** - values which are either `True` or `False`.\n",
        "* **strings** - seqeuences of letters, spaces and symbols, e.g., `hello world`.\n",
        "\n",
        "When defining a variable, Python will automatically use the appropriate variable type depending on the value assigned."
      ]
    },
    {
      "cell_type": "markdown",
      "metadata": {
        "colab_type": "text",
        "id": "Vn_4UhU4hiet"
      },
      "source": [
        "#### Example 5\n",
        "Enter the following Python commands into the code cells below and execute.\n",
        "\n",
        "```Python\n",
        "a = 2\n",
        "a\n",
        "```"
      ]
    },
    {
      "cell_type": "code",
      "metadata": {
        "colab_type": "code",
        "id": "XZ2Dd_NGzOZC",
        "colab": {}
      },
      "source": [
        "a = 2 # integer\n",
        "a"
      ],
      "execution_count": 0,
      "outputs": []
    },
    {
      "cell_type": "markdown",
      "metadata": {
        "colab_type": "text",
        "id": "tGaiWBrOviey"
      },
      "source": [
        "```Python\n",
        "b = 1.5\n",
        "b\n",
        "```"
      ]
    },
    {
      "cell_type": "code",
      "metadata": {
        "colab_type": "code",
        "id": "pllTm-IyzOZE",
        "colab": {}
      },
      "source": [
        "b = 1.5 # floating point number\n",
        "b"
      ],
      "execution_count": 0,
      "outputs": []
    },
    {
      "cell_type": "markdown",
      "metadata": {
        "colab_type": "text",
        "id": "xujojCtvvie1"
      },
      "source": [
        "```Python\n",
        "c = 5e9\n",
        "c\n",
        "```"
      ]
    },
    {
      "cell_type": "code",
      "metadata": {
        "colab_type": "code",
        "id": "2pdT73UraQjT",
        "colab": {}
      },
      "source": [
        "c = 5e9 # floating point exponential number\n",
        "c"
      ],
      "execution_count": 0,
      "outputs": []
    },
    {
      "cell_type": "markdown",
      "metadata": {
        "colab_type": "text",
        "id": "4I5JupIDvie3"
      },
      "source": [
        "```Python\n",
        "d = 2 + 3j\n",
        "d\n",
        "```"
      ]
    },
    {
      "cell_type": "code",
      "metadata": {
        "colab_type": "code",
        "id": "Q6tSex7EzOZG",
        "colab": {}
      },
      "source": [
        "d = 2 + 3j # complex number\n",
        "d"
      ],
      "execution_count": 0,
      "outputs": []
    },
    {
      "cell_type": "markdown",
      "metadata": {
        "colab_type": "text",
        "id": "5lbiqrPWvie7"
      },
      "source": [
        "```Python\n",
        "e = True\n",
        "e\n",
        "```"
      ]
    },
    {
      "cell_type": "code",
      "metadata": {
        "colab_type": "code",
        "id": "7e02rH70zOZI",
        "colab": {}
      },
      "source": [
        "e = True # boolean value\n",
        "e"
      ],
      "execution_count": 0,
      "outputs": []
    },
    {
      "cell_type": "markdown",
      "metadata": {
        "colab_type": "text",
        "id": "AyK0KzNVvie-"
      },
      "source": [
        "```Python\n",
        "f = \"this is a string\" # character string\n",
        "f\n",
        "```"
      ]
    },
    {
      "cell_type": "code",
      "metadata": {
        "colab_type": "code",
        "id": "DDkjhIK2zOZJ",
        "colab": {}
      },
      "source": [
        "f = \"this is a string\" # character string\n",
        "f"
      ],
      "execution_count": 0,
      "outputs": []
    },
    {
      "cell_type": "markdown",
      "metadata": {
        "colab_type": "text",
        "id": "Vk_v2_2ezOZL",
        "run_control": {
          "frozen": true
        }
      },
      "source": [
        "### Converting variable types\n",
        "\n",
        "We can convert some variables to a different type using the following commands.\n",
        "\n",
        "| Conversion | Python command |\n",
        "| :----------| :---------------|\n",
        "| floating point number to an integer | `int(x)` |\n",
        "| integer number to a floating point number | `float(x)` |\n",
        "| integer to a string | `str(x)` |"
      ]
    },
    {
      "cell_type": "markdown",
      "metadata": {
        "colab_type": "text",
        "id": "UJzrF1OClz3g"
      },
      "source": [
        "#### Example 6\n",
        "Execute the following code cells."
      ]
    },
    {
      "cell_type": "code",
      "metadata": {
        "colab_type": "code",
        "id": "pxVE_QhGzOZN",
        "colab": {}
      },
      "source": [
        "int(2.5) # convert 2.5 to an integer"
      ],
      "execution_count": 0,
      "outputs": []
    },
    {
      "cell_type": "code",
      "metadata": {
        "colab_type": "code",
        "id": "gh3Ky0PBzOZP",
        "colab": {}
      },
      "source": [
        "float(3) # convert 3 to a floating point number"
      ],
      "execution_count": 0,
      "outputs": []
    },
    {
      "cell_type": "code",
      "metadata": {
        "colab_type": "code",
        "id": "dks2L5rqzOZR",
        "colab": {}
      },
      "source": [
        "str(4) # convert the integer 4 to a character"
      ],
      "execution_count": 0,
      "outputs": []
    },
    {
      "cell_type": "markdown",
      "metadata": {
        "colab_type": "text",
        "id": "4jP0YiTeaQjh",
        "run_control": {
          "frozen": true
        }
      },
      "source": [
        "---\n",
        "## Exercise 3\n",
        "5. Write a program that uses variables to convert a temperature in degrees Centigrade $C$ to degrees Fahrenheit $F$ using the formula\n",
        "\n",
        "$$F = \\frac{9}{5}C + 32.$$\n",
        "\n",
        "What is the equivalent temperature in Fahrenheit of 100$^\\circ$C?"
      ]
    },
    {
      "cell_type": "code",
      "metadata": {
        "colab_type": "code",
        "id": "LG_IXIRCaQji",
        "colab": {}
      },
      "source": [
        "C = 100\n",
        "F = 9/5*C + 32\n",
        "F"
      ],
      "execution_count": 0,
      "outputs": []
    },
    {
      "cell_type": "markdown",
      "metadata": {
        "colab_type": "text",
        "id": "wkXRidt2aQjj",
        "run_control": {
          "frozen": true
        }
      },
      "source": [
        "6. Write a program that calculates the length of the hypotenuse of a right-angled triangle given the lengths of the two other sides are 2 and 3."
      ]
    },
    {
      "cell_type": "code",
      "metadata": {
        "colab_type": "code",
        "id": "jtBV-e_xaQjk",
        "colab": {}
      },
      "source": [
        "side1, side2 = 2, 3\n",
        "hyp = sqrt(side1**2 + side2**2)\n",
        "hyp"
      ],
      "execution_count": 0,
      "outputs": []
    },
    {
      "cell_type": "markdown",
      "metadata": {
        "colab_type": "text",
        "id": "82dKzicNaQjl",
        "run_control": {
          "frozen": true
        }
      },
      "source": [
        "7. Write a program that calculates an angle of a right-angled triangle in degrees given the lengths of the adjacent and opposite sides are 4 and 5."
      ]
    },
    {
      "cell_type": "code",
      "metadata": {
        "colab_type": "code",
        "id": "Q1efiTTQaQjl",
        "colab": {}
      },
      "source": [
        "adj, opp = 4, 5 \n",
        "angle = atan(opp/adj)*180/pi\n",
        "angle"
      ],
      "execution_count": 0,
      "outputs": []
    },
    {
      "cell_type": "markdown",
      "metadata": {
        "colab_type": "text",
        "id": "in-gLt2hdevQ"
      },
      "source": [
        "---\n",
        "## Formatting your code\n",
        "It is good programming practice to format your code so that is can be easily read. There are a number things which you can do to help with this."
      ]
    },
    {
      "cell_type": "markdown",
      "metadata": {
        "colab_type": "text",
        "id": "YTyAVTSarU1n"
      },
      "source": [
        "### Spaces\n",
        "In a Python program spaces are ignored, however it is common practice to use spaces either side of the arithmetic operators so that it is more readable. It is also advisable to seperate blocks of code with a blank line."
      ]
    },
    {
      "cell_type": "markdown",
      "metadata": {
        "colab_type": "text",
        "id": "lgJtTbGSTimK"
      },
      "source": [
        "#### Example 7\n",
        "The two code cells below perform the same operations but the second one is easier to read."
      ]
    },
    {
      "cell_type": "code",
      "metadata": {
        "colab_type": "code",
        "id": "Uo6UkN55rs4X",
        "colab": {}
      },
      "source": [
        "1*2+3*4+5/6"
      ],
      "execution_count": 0,
      "outputs": []
    },
    {
      "cell_type": "code",
      "metadata": {
        "colab_type": "code",
        "id": "9DhHYbJdryQj",
        "colab": {}
      },
      "source": [
        "1*2 + 3*4 + 5/6"
      ],
      "execution_count": 0,
      "outputs": []
    },
    {
      "cell_type": "markdown",
      "metadata": {
        "colab_type": "text",
        "id": "HzDtSRE9rSvM"
      },
      "source": [
        "### Comments\n",
        "A **comment** in a program is text that is ignored by Python when the code is executed. Comments are useful to helping people understand the program. Comments in Python can be used in two ways:\n",
        "\n",
        "```Python\n",
        "# this is a comment\n",
        "```\n",
        "\n",
        "Here any text on the same line to the right of `#` is ignored. These are useful for short comments. For longer comments that span multiple lines we can use `\"\"\"` to start and end a comment.\n",
        "\n",
        "```Python\n",
        "\"\"\"this is a comment\n",
        "that spans multiple\n",
        "lines\"\"\"\n",
        "```"
      ]
    },
    {
      "cell_type": "markdown",
      "metadata": {
        "colab_type": "text",
        "id": "y1nWAEtthHtM"
      },
      "source": [
        "#### Example 8\n",
        "The program below make use of comments. Note how the lines of the program are spaced out to improve the readability of the code. Blank lines are ignored by Python."
      ]
    },
    {
      "cell_type": "code",
      "metadata": {
        "colab_type": "code",
        "id": "ZI7MMSg6hKNM",
        "colab": {}
      },
      "source": [
        "\"\"\" This program calculates the\n",
        "sum of two numbers\"\"\"\n",
        "\n",
        "x = 4 # first number\n",
        "y = 7 # second number\n",
        "\n",
        "# Calculate the sum of the two numbers\n",
        "x + y"
      ],
      "execution_count": 0,
      "outputs": []
    },
    {
      "cell_type": "markdown",
      "metadata": {
        "colab_type": "text",
        "id": "xYnY1j1OfiKH"
      },
      "source": [
        "### Splitting lines of code\n",
        "To split a line of code we use the `\\` symbol. This is useful when a single line of code uses a lot of horizontal space."
      ]
    },
    {
      "cell_type": "markdown",
      "metadata": {
        "colab_type": "text",
        "id": "TOJoZsLThEja"
      },
      "source": [
        "#### Example 9"
      ]
    },
    {
      "cell_type": "code",
      "metadata": {
        "colab_type": "code",
        "id": "kkv52qQ-gaeT",
        "colab": {}
      },
      "source": [
        "# Define the variables\n",
        "x, y, z = 2, 3, 4\n",
        "\n",
        "# The code below has been split over two lines (rather unnecessarily)\n",
        "sum_xyz = x + y \\\n",
        "+ z\n",
        "\n",
        "# Output the sum of x, y and z\n",
        "sum_xyz"
      ],
      "execution_count": 0,
      "outputs": []
    },
    {
      "cell_type": "markdown",
      "metadata": {
        "colab_type": "text",
        "id": "skx2Gd2-e4qW",
        "run_control": {
          "frozen": true
        }
      },
      "source": [
        "## Printing output\n",
        "To output text or the value of a variable within a Python program we can use the `print()` command.\n",
        "```Python\n",
        "print(\"some text\")\n",
        "print(x)\n",
        "```"
      ]
    },
    {
      "cell_type": "markdown",
      "metadata": {
        "colab_type": "text",
        "id": "pv9TeJ-MnfdP"
      },
      "source": [
        "#### Example 10\n",
        "Execute the following code cells."
      ]
    },
    {
      "cell_type": "code",
      "metadata": {
        "colab_type": "code",
        "id": "gqPhtigriClw",
        "colab": {}
      },
      "source": [
        "print(\"hello world\")"
      ],
      "execution_count": 0,
      "outputs": []
    },
    {
      "cell_type": "code",
      "metadata": {
        "colab_type": "code",
        "id": "K2fYSSofHnHu",
        "colab": {}
      },
      "source": [
        "x = 2\n",
        "print(x)"
      ],
      "execution_count": 0,
      "outputs": []
    },
    {
      "cell_type": "code",
      "metadata": {
        "colab_type": "code",
        "id": "_b1VSF30Hr4X",
        "colab": {}
      },
      "source": [
        "a, b = 2, 3\n",
        "print(a, b)"
      ],
      "execution_count": 0,
      "outputs": []
    },
    {
      "cell_type": "markdown",
      "metadata": {
        "colab_type": "text",
        "id": "iGvtJvFMh4o2",
        "run_control": {
          "frozen": true
        }
      },
      "source": [
        "### Printing text and numbers\n",
        "\n",
        "Sometimes it is desirable to be able to output text alongside numbers. This can be done using the following\n",
        "\n",
        "```Python\n",
        "print(\"some text {} some more text {} even more text\".format(x, y))\n",
        "```\n",
        "\n",
        "The two sets of curly braces `{}` will be replaced with the values of `x` and `y` respectively.\n"
      ]
    },
    {
      "cell_type": "markdown",
      "metadata": {
        "colab_type": "text",
        "id": "fjKSY4sTk4AW"
      },
      "source": [
        "#### Example 11\n",
        "Execute the following code cell (if Python returns an error make sure you have executed the first two code cells in this notebook)."
      ]
    },
    {
      "cell_type": "code",
      "metadata": {
        "colab_type": "code",
        "id": "G3K02eeahdt5",
        "colab": {}
      },
      "source": [
        "print(\"There are {} seconds in a day and {} seconds in a week.\".format(seconds_in_a_day, seconds_in_a_week))"
      ],
      "execution_count": 0,
      "outputs": []
    },
    {
      "cell_type": "markdown",
      "metadata": {
        "colab_type": "text",
        "id": "zhLWw-LjhyZH",
        "run_control": {
          "frozen": true
        }
      },
      "source": [
        "### Formatted output\n",
        "If we want more control over the output of variables we can use **formatted output**. \n",
        "\n",
        "```Python\n",
        "print(\"{:a.bf}\".format(x))\n",
        "```\n",
        "\n",
        "This will output the value of the floating point number `x` using `a` character spaces (including the decimal point) using `b` decimal places.\n",
        "\n",
        "The `f` in the code above specifies the type of variable we are ouputted. The specifiers for the main variable types are given in the table below.\n",
        "\n",
        "| Variable type | Python code |\n",
        "|:--|:--|\n",
        "| integer number | `d` |\n",
        "| floating point number | `f` |\n",
        "| exponential number | `e` |\n",
        "| character string | `s` |"
      ]
    },
    {
      "cell_type": "markdown",
      "metadata": {
        "colab_type": "text",
        "id": "7HcyoqxTibWf"
      },
      "source": [
        "#### Example 12\n",
        "Execute the code cells below."
      ]
    },
    {
      "cell_type": "code",
      "metadata": {
        "colab_type": "code",
        "id": "E60dum4UaQjv",
        "colab": {}
      },
      "source": [
        "print(\"Then, shalt thou count to {:10d}, no more, no less.\".format(3))"
      ],
      "execution_count": 0,
      "outputs": []
    },
    {
      "cell_type": "markdown",
      "metadata": {
        "colab_type": "text",
        "id": "3HhIpGwJaQjw",
        "run_control": {
          "frozen": true
        }
      },
      "source": [
        "Here the integer 3 was printed using 10 character spaces so there are 9 empty spaces to the left of the 3."
      ]
    },
    {
      "cell_type": "code",
      "metadata": {
        "colab_type": "code",
        "id": "VbfNXNnQj0Po",
        "colab": {}
      },
      "source": [
        "from math import *\n",
        "\n",
        "print(\"The value of pi to 4 decimal places is {:6.4f}.\".format(pi))"
      ],
      "execution_count": 0,
      "outputs": []
    },
    {
      "cell_type": "markdown",
      "metadata": {
        "colab_type": "text",
        "id": "yB7LB2UTqAtH",
        "run_control": {
          "frozen": true
        }
      },
      "source": [
        "Here 6 character spaces were used to display $\\pi$, 1 space for the `3`, 1 space for the decimal point and 4 spaces for the decimal places."
      ]
    },
    {
      "cell_type": "code",
      "metadata": {
        "colab_type": "code",
        "id": "wo__QtUwaQjy",
        "colab": {}
      },
      "source": [
        "print(\"The speed of light is {:0.2e} m/s.\".format(2.9979e8))"
      ],
      "execution_count": 0,
      "outputs": []
    },
    {
      "cell_type": "markdown",
      "metadata": {
        "colab_type": "text",
        "id": "JgZJJQmpaQjz",
        "run_control": {
          "frozen": true
        }
      },
      "source": [
        "Here the number $2.9979\\times 10^{8}$ was printed to 2 decimal places using the minimum number of spaces required due to the 0 after the colon."
      ]
    },
    {
      "cell_type": "code",
      "metadata": {
        "colab_type": "code",
        "id": "jqI-AfMjaQjz",
        "colab": {}
      },
      "source": [
        "name = \"Andrew Wiles\"\n",
        "year = 1995\n",
        "\n",
        "print(\"Fermat's last theorem was proven by {:20s} in {}.\".format(name, year))"
      ],
      "execution_count": 0,
      "outputs": []
    },
    {
      "cell_type": "markdown",
      "metadata": {
        "colab_type": "text",
        "id": "DULymZc5aQj0",
        "run_control": {
          "frozen": true
        }
      },
      "source": [
        "Here the character string `\"Andrew Wiles\"` was printed using 20 character spaces. Note that the unused spaces appear after the string.\n",
        "\n",
        "Note that often it takes a bit of trial and error to get the right spacings in your program. Don't be afraid to experiment with your code."
      ]
    },
    {
      "cell_type": "markdown",
      "metadata": {
        "colab_type": "text",
        "id": "6nk86Pf_nqqC"
      },
      "source": [
        "### Printing multiple lines\n",
        "It is possible to print multiple lines with a single print statement using the command `\\n` which moves to the next line."
      ]
    },
    {
      "cell_type": "markdown",
      "metadata": {
        "colab_type": "text",
        "id": "tBuygcOToD28"
      },
      "source": [
        "#### Example 13"
      ]
    },
    {
      "cell_type": "code",
      "metadata": {
        "colab_type": "code",
        "id": "Jln3T0mGoGmM",
        "colab": {}
      },
      "source": [
        "print(\"This text \\nis printed\\n\\non multiple lines \\n\\n\\nusing a single print command.\")"
      ],
      "execution_count": 0,
      "outputs": []
    },
    {
      "cell_type": "markdown",
      "metadata": {
        "colab_type": "text",
        "id": "ygDOgEGIoh61"
      },
      "source": [
        "### Suppressing the carriage return\n",
        "By default Python moves to the next line on completion of a print command. To suppress this we can use the following\n",
        "\n",
        "```Python\n",
        "print(\"some text\", end=\"\")\n",
        "```"
      ]
    },
    {
      "cell_type": "markdown",
      "metadata": {
        "colab_type": "text",
        "id": "MimEhl5wo9zo"
      },
      "source": [
        "#### Example 14"
      ]
    },
    {
      "cell_type": "code",
      "metadata": {
        "colab_type": "code",
        "id": "9Whd4IbFpAC0",
        "colab": {}
      },
      "source": [
        "print(\"This text \", end=\"\")\n",
        "print(\"is printed on the \", end=\"\")\n",
        "print(\"some line using multiple print statements\")"
      ],
      "execution_count": 0,
      "outputs": []
    },
    {
      "cell_type": "markdown",
      "metadata": {
        "colab_type": "text",
        "id": "SWMyS_3NlC9K"
      },
      "source": [
        "### Printing long lines of text\n",
        "The `\\` command can come in useful to split up a `print()` comand when you are printing long lines of text."
      ]
    },
    {
      "cell_type": "markdown",
      "metadata": {
        "colab_type": "text",
        "id": "ffQElbLplMMr"
      },
      "source": [
        "#### Example 15"
      ]
    },
    {
      "cell_type": "code",
      "metadata": {
        "colab_type": "code",
        "id": "xQWK9hM4lLev",
        "colab": {}
      },
      "source": [
        "print(\"some text, \" \\\n",
        "      \"some more text in the same print command.\")"
      ],
      "execution_count": 0,
      "outputs": []
    },
    {
      "cell_type": "markdown",
      "metadata": {
        "colab_type": "text",
        "id": "SW5Tz4FnlCD8"
      },
      "source": [
        "---\n",
        "## Exercise 4\n",
        "\n",
        "8. Output the value of $e$ to 20 decimal places"
      ]
    },
    {
      "cell_type": "code",
      "metadata": {
        "colab_type": "code",
        "id": "oWfHWJqgaQj1",
        "colab": {}
      },
      "source": [
        "print(\"{:0.20f}\".format(e))"
      ],
      "execution_count": 0,
      "outputs": []
    },
    {
      "cell_type": "markdown",
      "metadata": {
        "colab_type": "text",
        "id": "O1u7yNOZZCJs",
        "run_control": {
          "frozen": true
        }
      },
      "source": [
        "9. Write a program that uses the formula below to calculate the monthly repayments and total value of a mortgage of £100,000 taken out over 20 years at a fixed annual interest rate of 5%. \n",
        "$$C = \\frac{rP}{1-(1+r)^{-N}}$$\n",
        "$C$ is the monthly repayment amount, $r$ is the monthly interest rate, $P$ is the amount borrowed, $N$ is the number of monthly repayments. \n",
        "Use `print` commands to output the loan amount, the duration of the mortgage, the annual interest rate, the monthly repayments and total value of the mortgage."
      ]
    },
    {
      "cell_type": "code",
      "metadata": {
        "colab_type": "code",
        "id": "bhQ_APeEZMlW",
        "colab": {}
      },
      "source": [
        "P = 100000   # initial loan amount\n",
        "N = 20*12    # number of months\n",
        "r = 5/12/100 # monthly interest rate\n",
        "\n",
        "C = r*P/(1 - (1 + r)**-N)\n",
        "\n",
        "print(\"The monthly repayments for mortgage of £{:1.2f} taken at a fixed \" \\\n",
        "      \"interest rate\\nof {:1.2f}% over {} months are £{:1.2f} \"\\\n",
        "      \"resulting in a total cost of £{:1.2f}.\"\\\n",
        "      .format(P, r*100*12, N, C, N*C), end=\"\")"
      ],
      "execution_count": 0,
      "outputs": []
    },
    {
      "cell_type": "markdown",
      "metadata": {
        "colab_type": "text",
        "id": "rloRmMIALFOu",
        "run_control": {
          "frozen": true
        }
      },
      "source": [
        "10. Write a Python program that calculates the number of years, days and minutes that are in 1 billion seconds. Output the answers in a single meaningful sentence.\n",
        "<br>\n",
        "<br>\n",
        "Hint: The `x // y` and `x % y` commands will come in useful here."
      ]
    },
    {
      "cell_type": "code",
      "metadata": {
        "colab_type": "code",
        "id": "qX8Cu8YSLJcm",
        "colab": {}
      },
      "source": [
        "x = int(1e9)\n",
        "\n",
        "# Conversion quantities\n",
        "seconds = x\n",
        "seconds_in_a_minute = 60\n",
        "seconds_in_an_hour = 60*seconds_in_a_minute\n",
        "seconds_in_a_day = 24*seconds_in_an_hour\n",
        "seconds_in_a_year = 365*seconds_in_a_day\n",
        "\n",
        "# Calculate number of years and the seconds left over\n",
        "years = seconds // seconds_in_a_year\n",
        "seconds = seconds % seconds_in_a_year\n",
        "\n",
        "# Calculate the number of days and the seconds left over\n",
        "days = seconds // seconds_in_a_day\n",
        "seconds = seconds % seconds_in_a_day\n",
        "\n",
        "# Calculate the number of hours and the seconds left over\n",
        "hours = seconds // seconds_in_an_hour\n",
        "seconds = seconds % seconds_in_an_hour\n",
        "\n",
        "# Calculate the number of minutes and the seconds left over\n",
        "minutes = seconds // seconds_in_a_minute\n",
        "seconds = seconds % seconds_in_a_minute\n",
        "\n",
        "# Output the results\n",
        "print(\"{} seconds is the same as {} years, {} days, {} hours, {} minutes and \"\\\n",
        "      \"{} seconds.\".format(x, years, days, hours, minutes, seconds))"
      ],
      "execution_count": 0,
      "outputs": []
    },
    {
      "cell_type": "markdown",
      "metadata": {
        "colab_type": "text",
        "id": "5ho2XgiSp9bb"
      },
      "source": [
        "11. Use suitable `print()` and `math` library commands to produce the following table where each value is printed using 8 character spaces and 4 decimal places.\n",
        "\n",
        "```Python\n",
        "    x    |  sqrt(x) |  exp(x)  |   ln(x)  |  cos(x)\n",
        "------------------------------------------------------\n",
        "  1.0000 |   1.0000 |   2.7183 |   0.0000 |   0.5403\n",
        "  2.0000 |   1.4142 |   7.3891 |   0.6931 |  -0.4161\n",
        "  5.0000 |   2.2361 | 148.4132 |   1.6094 |   0.2837\n",
        "```"
      ]
    },
    {
      "cell_type": "code",
      "metadata": {
        "colab_type": "code",
        "id": "87NLAk4-qSVA",
        "colab": {}
      },
      "source": [
        "print(\"    x    |  sqrt(x) |  exp(x)  |   ln(x)  |  cos(x)\")\n",
        "print(\"------------------------------------------------------\")\n",
        "\n",
        "x = 1\n",
        "print(\"{:8.4f} | {:8.4f} | {:8.4f} | {:8.4f} | {:8.4f}\"\\\n",
        "      .format(x, sqrt(x), exp(x), log(x), cos(x)))\n",
        "x = 2\n",
        "print(\"{:8.4f} | {:8.4f} | {:8.4f} | {:8.4f} | {:8.4f}\"\\\n",
        "      .format(x, sqrt(x), exp(x), log(x), cos(x)))\n",
        "x = 5\n",
        "print(\"{:8.4f} | {:8.4f} | {:8.4f} | {:8.4f} | {:8.4f}\"\\\n",
        "      .format(x, sqrt(x), exp(x), log(x), cos(x)))"
      ],
      "execution_count": 0,
      "outputs": []
    },
    {
      "cell_type": "markdown",
      "metadata": {
        "colab_type": "text",
        "id": "toAZGQt2Kw4_"
      },
      "source": [
        "<font size=\"2\"><i>Dr Jon Shiach, Department of Computing and Mathematics, Manchester Metropolitan University</i></font>"
      ]
    }
  ]
}